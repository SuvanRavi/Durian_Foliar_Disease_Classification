{
 "cells": [
  {
   "metadata": {
    "id": "f3f2843cc6564b70"
   },
   "cell_type": "markdown",
   "source": [
    "## Spatial Augmentations & Updating Annotations"
   ],
   "id": "f3f2843cc6564b70"
  },
  {
   "metadata": {
    "ExecuteTime": {
     "end_time": "2025-04-17T14:05:16.176974Z",
     "start_time": "2025-04-17T14:05:10.589396Z"
    },
    "id": "43b88ef2eeaac82",
    "outputId": "48dea841-a0ab-4407-a55b-5421862fe015"
   },
   "cell_type": "code",
   "source": [
    "import os\n",
    "import cv2\n",
    "import pandas as pd\n",
    "import albumentations as A\n",
    "from tqdm import tqdm\n",
    "\n",
    "# === Paths ===\n",
    "image_dir = r\"D:\\Suvan's Projects\\FYP\\BBox_Split\\train\"\n",
    "annotation_csv = r\"C:\\Users\\Travi\\Downloads\\BBox_Durian.csv\"\n",
    "output_image_dir = r\"D:\\Suvan's Projects\\FYP\\BBox_Split\\train\"\n",
    "output_csv = r\"D:\\Suvan's Projects\\FYP\\Bbox_Augmentations.csv\"\n",
    "\n",
    "os.makedirs(output_image_dir, exist_ok=True)\n",
    "\n",
    "# === Load Annotations ===\n",
    "df = pd.read_csv(annotation_csv)\n",
    "\n",
    "# === Convert bbox format (x_min, y_min, w, h) to Pascal VOC ===\n",
    "def to_pascal_voc(x, y, w, h):\n",
    "    return [x, y, x + w, y + h]\n",
    "\n",
    "def from_pascal_voc(x_min, y_min, x_max, y_max):\n",
    "    return [x_min, y_min, x_max - x_min, y_max - y_min]\n",
    "\n",
    "# === Define Augmentations ===\n",
    "# Unified aggressive augmentation for object detection\n",
    "detection_augmentation = A.Compose([\n",
    "    A.OneOf([\n",
    "        A.HorizontalFlip(p=1),\n",
    "        A.VerticalFlip(p=1),\n",
    "        A.Affine(scale=(0.9, 1.1), rotate=(-45, 45), translate_percent={\"x\": (-0.15, 0.15), \"y\": (-0.15, 0.15)}, border_mode=cv2.BORDER_REFLECT_101, p=1),\n",
    "        A.Perspective(scale=(0.08, 0.15), keep_size=True, p=1),\n",
    "        A.RandomSizedBBoxSafeCrop(height = 640, width = 640, erosion_rate=0.2, p=1),\n",
    "        A.RandomResizedCrop(size = (640,640), scale=(0.5, 0.85), ratio=(0.85, 1.15), p=1),\n",
    "    ], p=1),\n",
    "\n",
    "    A.OneOf([\n",
    "        A.RandomBrightnessContrast(brightness_limit=0.25, contrast_limit=0.25, p=1),\n",
    "        A.PlanckianJitter(mode='cied', p=1),\n",
    "        A.Downscale(scale_range=(0.6, 0.75), p=1),\n",
    "        A.CLAHE(clip_limit=2, tile_grid_size=(8, 8), p=1),\n",
    "        A.HueSaturationValue(hue_shift_limit=15, sat_shift_limit=20, val_shift_limit=15, p=1),\n",
    "        A.MotionBlur(blur_limit=7, p=1),\n",
    "        A.Sharpen(p=1, alpha=(0.3, 0.7), lightness=(0.5, 1)),\n",
    "    ], p=1),\n",
    "],\n",
    "    bbox_params=A.BboxParams(format='pascal_voc', label_fields=['class_labels'], min_visibility=0.1)\n",
    ")\n",
    "\n",
    "# === Augmentation Loop ===\n",
    "augmented_data = []\n",
    "\n",
    "# Process original data and add both original annotations and augmentations\n",
    "for idx, row in tqdm(df.iterrows(), total=len(df)):\n",
    "    filename = row['image_name']\n",
    "    cls = row['label_name']\n",
    "    x_min, y_min, w, h = row[['bbox_x', 'bbox_y', 'bbox_width', 'bbox_height']]\n",
    "\n",
    "    # Process image for train only\n",
    "    if os.path.exists(os.path.join(image_dir, filename)):\n",
    "        image_path = os.path.join(image_dir, filename)\n",
    "        image = cv2.imread(image_path)\n",
    "        if image is None:\n",
    "            continue\n",
    "\n",
    "        height, width = image.shape[:2]\n",
    "        bbox = to_pascal_voc(x_min, y_min, w, h)\n",
    "\n",
    "        # Append original annotation (for all images including train, val, test)\n",
    "        augmented_data.append([filename, cls, x_min, y_min, w, h])\n",
    "\n",
    "        # Augmentation for training data (no need for 'train' check anymore)\n",
    "        for i in range(4):  # Create 4 augmentations per image\n",
    "            transformed = detection_augmentation(\n",
    "                image=image,\n",
    "                bboxes=[bbox],\n",
    "                class_labels=[cls]\n",
    "            )\n",
    "\n",
    "            if not transformed['bboxes']:\n",
    "                continue  # Skip if bbox got removed\n",
    "\n",
    "            aug_img = transformed['image']\n",
    "            aug_bbox = transformed['bboxes'][0]\n",
    "\n",
    "            # Convert bbox back to (x_min, y_min, w, h)\n",
    "            aug_xmin, aug_ymin, aug_w, aug_h = from_pascal_voc(*aug_bbox)\n",
    "\n",
    "            new_filename = f\"{os.path.splitext(filename)[0]}_aug{i}.jpg\"\n",
    "            cv2.imwrite(os.path.join(output_image_dir, new_filename), aug_img)\n",
    "            augmented_data.append([new_filename, cls, aug_xmin, aug_ymin, aug_w, aug_h])\n",
    "\n",
    "    else:\n",
    "        # Append original annotation for val/test data directly\n",
    "        augmented_data.append([filename, cls, x_min, y_min, w, h])\n",
    "\n",
    "# === Save New CSV ===\n",
    "aug_df = pd.DataFrame(augmented_data, columns=['filename', 'class', 'x_min', 'y_min', 'width', 'height'])\n",
    "aug_df.to_csv(output_csv, index=False)\n",
    "\n",
    "print(\"Augmentation completed and CSV updated!\")\n"
   ],
   "id": "43b88ef2eeaac82",
   "outputs": [
    {
     "name": "stderr",
     "output_type": "stream",
     "text": [
      "100%|██████████| 418/418 [00:05<00:00, 75.12it/s]"
     ]
    },
    {
     "name": "stdout",
     "output_type": "stream",
     "text": [
      "Augmentation completed and CSV updated!\n"
     ]
    },
    {
     "name": "stderr",
     "output_type": "stream",
     "text": [
      "\n"
     ]
    }
   ],
   "execution_count": null
  },
  {
   "metadata": {
    "id": "b807ce319a39d382"
   },
   "cell_type": "markdown",
   "source": [
    "## Converting CSV Annotations to YOLO text files"
   ],
   "id": "b807ce319a39d382"
  },
  {
   "metadata": {
    "ExecuteTime": {
     "end_time": "2025-04-17T14:22:56.395969Z",
     "start_time": "2025-04-17T14:22:52.530744Z"
    },
    "id": "936d0b661147ea04",
    "outputId": "d8002f5c-42e9-4d76-a249-68bf6e7ffdfb"
   },
   "cell_type": "code",
   "source": [
    "import os\n",
    "import pandas as pd\n",
    "import cv2\n",
    "\n",
    "# === Paths ===\n",
    "image_root_dir = r\"D:\\Suvan's Projects\\FYP\\BBox_Split\"\n",
    "annotation_csv = r\"D:\\Suvan's Projects\\FYP\\Bbox_Augmentations.csv\"\n",
    "class_id = 0  # Single class: Leaf\n",
    "\n",
    "# === Load CSV ===\n",
    "df = pd.read_csv(annotation_csv)\n",
    "\n",
    "# === Define YOLO conversion function ===\n",
    "def convert_to_yolo(x_min, y_min, width, height, img_width, img_height):\n",
    "    x_center = (x_min + width / 2) / img_width\n",
    "    y_center = (y_min + height / 2) / img_height\n",
    "    norm_width = width / img_width\n",
    "    norm_height = height / img_height\n",
    "    return x_center, y_center, norm_width, norm_height\n",
    "\n",
    "# === Process Each Row ===\n",
    "for idx, row in df.iterrows():\n",
    "    filename = row['filename']\n",
    "    found = False\n",
    "\n",
    "    # Search across subfolders\n",
    "    for split in ['train', 'val', 'test']:\n",
    "        image_path = os.path.join(image_root_dir, split, filename)\n",
    "        if os.path.exists(image_path):\n",
    "            found = True\n",
    "            img = cv2.imread(image_path)\n",
    "            if img is None:\n",
    "                print(f\"⚠️ Could not read image: {image_path}\")\n",
    "                continue\n",
    "\n",
    "            img_height, img_width = img.shape[:2]\n",
    "\n",
    "            # Get and convert bbox\n",
    "            x_min, y_min, width, height = row[['x_min', 'y_min', 'width', 'height']]\n",
    "            x_center, y_center, norm_w, norm_h = convert_to_yolo(x_min, y_min, width, height, img_width, img_height)\n",
    "\n",
    "            # Save YOLO-format .txt in same split directory\n",
    "            txt_filename = os.path.splitext(filename)[0] + \".txt\"\n",
    "            txt_path = os.path.join(image_root_dir, split, txt_filename)\n",
    "\n",
    "            with open(txt_path, 'w') as f:\n",
    "                f.write(f\"{class_id} {x_center:.6f} {y_center:.6f} {norm_w:.6f} {norm_h:.6f}\\n\")\n",
    "            break\n",
    "\n",
    "    if not found:\n",
    "        print(f\"❌ Image not found in any split: {filename}\")\n",
    "\n",
    "print(\"✅ YOLO annotation conversion complete.\")\n"
   ],
   "id": "936d0b661147ea04",
   "outputs": [
    {
     "name": "stdout",
     "output_type": "stream",
     "text": [
      "✅ YOLO annotation conversion complete.\n"
     ]
    }
   ],
   "execution_count": null
  },
  {
   "metadata": {
    "id": "9f19a8f3382ef656"
   },
   "cell_type": "markdown",
   "source": [
    "## Splitting Labels & Images for best practise"
   ],
   "id": "9f19a8f3382ef656"
  },
  {
   "metadata": {
    "ExecuteTime": {
     "end_time": "2025-04-17T14:28:15.670397Z",
     "start_time": "2025-04-17T14:28:15.106340Z"
    },
    "id": "67b5ec73d869c3c6",
    "outputId": "e3dce497-9abd-4425-8574-2b3ceb18fd01"
   },
   "cell_type": "code",
   "source": [
    "import os\n",
    "import shutil\n",
    "\n",
    "# === Paths ===\n",
    "base_dir = r\"D:\\Suvan's Projects\\FYP\\BBox_Split\"\n",
    "images_dir = os.path.join(base_dir, \"images\")\n",
    "labels_dir = os.path.join(base_dir, \"labels\")\n",
    "\n",
    "splits = [\"train\", \"val\", \"test\"]\n",
    "\n",
    "for split in splits:\n",
    "    image_split_dir = os.path.join(base_dir, split)\n",
    "    target_image_dir = os.path.join(images_dir, split)\n",
    "    target_label_dir = os.path.join(labels_dir, split)\n",
    "\n",
    "    os.makedirs(target_image_dir, exist_ok=True)\n",
    "    os.makedirs(target_label_dir, exist_ok=True)\n",
    "\n",
    "    for file in os.listdir(image_split_dir):\n",
    "        full_path = os.path.join(image_split_dir, file)\n",
    "\n",
    "        if file.lower().endswith(\".jpg\") or file.lower().endswith(\".png\"):\n",
    "            shutil.move(full_path, os.path.join(target_image_dir, file))\n",
    "\n",
    "        elif file.lower().endswith(\".txt\"):\n",
    "            shutil.move(full_path, os.path.join(target_label_dir, file))\n",
    "\n",
    "print(\"✅ Annotation files moved to `labels/` and images organized in `images/`.\")\n"
   ],
   "id": "67b5ec73d869c3c6",
   "outputs": [
    {
     "name": "stdout",
     "output_type": "stream",
     "text": [
      "✅ Annotation files moved to `labels/` and images organized in `images/`.\n"
     ]
    }
   ],
   "execution_count": null
  },
  {
   "metadata": {
    "id": "cb3b5fbe42a9c7f4"
   },
   "cell_type": "markdown",
   "source": [
    "## Creating data.yaml package"
   ],
   "id": "cb3b5fbe42a9c7f4"
  },
  {
   "metadata": {
    "ExecuteTime": {
     "end_time": "2025-04-17T14:30:20.277907Z",
     "start_time": "2025-04-17T14:30:20.273760Z"
    },
    "id": "2e20305a4f1a734f",
    "outputId": "35286270-708c-4e62-edad-e1e000e6d967"
   },
   "cell_type": "code",
   "source": [
    "import yaml\n",
    "\n",
    "data_yaml = {\n",
    "    'train': 'D:/Suvan\\'s Projects/FYP/BBox_Split/images/train',\n",
    "    'val': 'D:/Suvan\\'s Projects/FYP/BBox_Split/images/val',\n",
    "    'test': 'D:/Suvan\\'s Projects/FYP/BBox_Split/images/test',\n",
    "    'nc': 1,\n",
    "    'names': ['leaf']\n",
    "}\n",
    "\n",
    "with open(r\"D:\\Suvan's Projects\\FYP\\BBox_Split\\data.yaml\", 'w') as f:\n",
    "    yaml.dump(data_yaml, f)\n",
    "\n",
    "print(\"✅ data.yaml created successfully!\")"
   ],
   "id": "2e20305a4f1a734f",
   "outputs": [
    {
     "name": "stdout",
     "output_type": "stream",
     "text": [
      "✅ data.yaml created successfully!\n"
     ]
    }
   ],
   "execution_count": null
  },
  {
   "metadata": {
    "id": "267c052e2bfde013"
   },
   "cell_type": "markdown",
   "source": [
    "## Building the YOLO model"
   ],
   "id": "267c052e2bfde013"
  },
  {
   "metadata": {
    "ExecuteTime": {
     "end_time": "2025-04-17T20:26:51.971366Z",
     "start_time": "2025-04-17T14:45:24.878593Z"
    },
    "id": "a04db498a935e1f1",
    "outputId": "1123aa24-09bb-4a44-ac9b-50bcffb4f946"
   },
   "cell_type": "code",
   "source": [
    "from ultralytics import YOLO\n",
    "\n",
    "model = YOLO(\"yolov8s.pt\")\n",
    "model.train(\n",
    "    data=r\"D:/Suvan's Projects/FYP/BBox_Split/data.yaml\",\n",
    "    epochs=30,\n",
    "    imgsz=640,\n",
    "    batch=16,\n",
    "    patience=10,\n",
    "    verbose = True,\n",
    "    name=\"leaf-detector\"\n",
    ")"
   ],
   "id": "a04db498a935e1f1",
   "outputs": [
    {
     "name": "stdout",
     "output_type": "stream",
     "text": [
      "Ultralytics 8.3.110  Python-3.12.8 torch-2.6.0+cpu CPU (AMD Ryzen 7 7435HS)\n",
      "\u001B[34m\u001B[1mengine\\trainer: \u001B[0mtask=detect, mode=train, model=yolov8s.pt, data=D:/Suvan's Projects/FYP/BBox_Split/data.yaml, epochs=30, time=None, patience=10, batch=16, imgsz=640, save=True, save_period=-1, cache=False, device=None, workers=8, project=None, name=leaf-detector2, exist_ok=False, pretrained=True, optimizer=auto, verbose=True, seed=0, deterministic=True, single_cls=False, rect=False, cos_lr=False, close_mosaic=10, resume=False, amp=True, fraction=1.0, profile=False, freeze=None, multi_scale=False, overlap_mask=True, mask_ratio=4, dropout=0.0, val=True, split=val, save_json=False, conf=None, iou=0.7, max_det=300, half=False, dnn=False, plots=True, source=None, vid_stride=1, stream_buffer=False, visualize=False, augment=False, agnostic_nms=False, classes=None, retina_masks=False, embed=None, show=False, save_frames=False, save_txt=False, save_conf=False, save_crop=False, show_labels=True, show_conf=True, show_boxes=True, line_width=None, format=torchscript, keras=False, optimize=False, int8=False, dynamic=False, simplify=True, opset=None, workspace=None, nms=False, lr0=0.01, lrf=0.01, momentum=0.937, weight_decay=0.0005, warmup_epochs=3.0, warmup_momentum=0.8, warmup_bias_lr=0.1, box=7.5, cls=0.5, dfl=1.5, pose=12.0, kobj=1.0, nbs=64, hsv_h=0.015, hsv_s=0.7, hsv_v=0.4, degrees=0.0, translate=0.1, scale=0.5, shear=0.0, perspective=0.0, flipud=0.0, fliplr=0.5, bgr=0.0, mosaic=1.0, mixup=0.0, copy_paste=0.0, copy_paste_mode=flip, auto_augment=randaugment, erasing=0.4, cfg=None, tracker=botsort.yaml, save_dir=runs\\detect\\leaf-detector2\n",
      "Overriding model.yaml nc=80 with nc=1\n",
      "\n",
      "                   from  n    params  module                                       arguments                     \n",
      "  0                  -1  1       928  ultralytics.nn.modules.conv.Conv             [3, 32, 3, 2]                 \n",
      "  1                  -1  1     18560  ultralytics.nn.modules.conv.Conv             [32, 64, 3, 2]                \n",
      "  2                  -1  1     29056  ultralytics.nn.modules.block.C2f             [64, 64, 1, True]             \n",
      "  3                  -1  1     73984  ultralytics.nn.modules.conv.Conv             [64, 128, 3, 2]               \n",
      "  4                  -1  2    197632  ultralytics.nn.modules.block.C2f             [128, 128, 2, True]           \n",
      "  5                  -1  1    295424  ultralytics.nn.modules.conv.Conv             [128, 256, 3, 2]              \n",
      "  6                  -1  2    788480  ultralytics.nn.modules.block.C2f             [256, 256, 2, True]           \n",
      "  7                  -1  1   1180672  ultralytics.nn.modules.conv.Conv             [256, 512, 3, 2]              \n",
      "  8                  -1  1   1838080  ultralytics.nn.modules.block.C2f             [512, 512, 1, True]           \n",
      "  9                  -1  1    656896  ultralytics.nn.modules.block.SPPF            [512, 512, 5]                 \n",
      " 10                  -1  1         0  torch.nn.modules.upsampling.Upsample         [None, 2, 'nearest']          \n",
      " 11             [-1, 6]  1         0  ultralytics.nn.modules.conv.Concat           [1]                           \n",
      " 12                  -1  1    591360  ultralytics.nn.modules.block.C2f             [768, 256, 1]                 \n",
      " 13                  -1  1         0  torch.nn.modules.upsampling.Upsample         [None, 2, 'nearest']          \n",
      " 14             [-1, 4]  1         0  ultralytics.nn.modules.conv.Concat           [1]                           \n",
      " 15                  -1  1    148224  ultralytics.nn.modules.block.C2f             [384, 128, 1]                 \n",
      " 16                  -1  1    147712  ultralytics.nn.modules.conv.Conv             [128, 128, 3, 2]              \n",
      " 17            [-1, 12]  1         0  ultralytics.nn.modules.conv.Concat           [1]                           \n",
      " 18                  -1  1    493056  ultralytics.nn.modules.block.C2f             [384, 256, 1]                 \n",
      " 19                  -1  1    590336  ultralytics.nn.modules.conv.Conv             [256, 256, 3, 2]              \n",
      " 20             [-1, 9]  1         0  ultralytics.nn.modules.conv.Concat           [1]                           \n",
      " 21                  -1  1   1969152  ultralytics.nn.modules.block.C2f             [768, 512, 1]                 \n",
      " 22        [15, 18, 21]  1   2116435  ultralytics.nn.modules.head.Detect           [1, [128, 256, 512]]          \n",
      "Model summary: 129 layers, 11,135,987 parameters, 11,135,971 gradients, 28.6 GFLOPs\n",
      "\n",
      "Transferred 349/355 items from pretrained weights\n",
      "\u001B[34m\u001B[1mTensorBoard: \u001B[0mStart with 'tensorboard --logdir runs\\detect\\leaf-detector2', view at http://localhost:6006/\n",
      "Freezing layer 'model.22.dfl.conv.weight'\n",
      "\u001B[34m\u001B[1mtrain: \u001B[0mFast image access  (ping: 0.10.1 ms, read: 965.1323.9 MB/s, size: 126.2 KB)\n"
     ]
    },
    {
     "name": "stderr",
     "output_type": "stream",
     "text": [
      "\u001B[34m\u001B[1mtrain: \u001B[0mScanning D:\\Suvan's Projects\\FYP\\BBox_Split\\labels\\train.cache... 1455 images, 0 backgrounds, 0 corrupt: 100%|██████████| 1455/1455 [00:00<?, ?it/s]\n"
     ]
    },
    {
     "name": "stdout",
     "output_type": "stream",
     "text": [
      "\u001B[34m\u001B[1malbumentations: \u001B[0mBlur(p=0.01, blur_limit=(3, 7)), MedianBlur(p=0.01, blur_limit=(3, 7)), ToGray(p=0.01, num_output_channels=3, method='weighted_average'), CLAHE(p=0.01, clip_limit=(1.0, 4.0), tile_grid_size=(8, 8))\n",
      "\u001B[34m\u001B[1mval: \u001B[0mFast image access  (ping: 0.10.0 ms, read: 667.7125.5 MB/s, size: 65.2 KB)\n"
     ]
    },
    {
     "name": "stderr",
     "output_type": "stream",
     "text": [
      "\u001B[34m\u001B[1mval: \u001B[0mScanning D:\\Suvan's Projects\\FYP\\BBox_Split\\labels\\val.cache... 64 images, 0 backgrounds, 0 corrupt: 100%|██████████| 64/64 [00:00<?, ?it/s]"
     ]
    },
    {
     "name": "stdout",
     "output_type": "stream",
     "text": [
      "Plotting labels to runs\\detect\\leaf-detector2\\labels.jpg... \n"
     ]
    },
    {
     "name": "stderr",
     "output_type": "stream",
     "text": [
      "\n"
     ]
    },
    {
     "name": "stdout",
     "output_type": "stream",
     "text": [
      "\u001B[34m\u001B[1moptimizer:\u001B[0m 'optimizer=auto' found, ignoring 'lr0=0.01' and 'momentum=0.937' and determining best 'optimizer', 'lr0' and 'momentum' automatically... \n",
      "\u001B[34m\u001B[1moptimizer:\u001B[0m AdamW(lr=0.002, momentum=0.9) with parameter groups 57 weight(decay=0.0), 64 weight(decay=0.0005), 63 bias(decay=0.0)\n",
      "\u001B[34m\u001B[1mTensorBoard: \u001B[0mmodel graph visualization added \n",
      "Image sizes 640 train, 640 val\n",
      "Using 0 dataloader workers\n",
      "Logging results to \u001B[1mruns\\detect\\leaf-detector2\u001B[0m\n",
      "Starting training for 30 epochs...\n",
      "\n",
      "      Epoch    GPU_mem   box_loss   cls_loss   dfl_loss  Instances       Size\n"
     ]
    },
    {
     "name": "stderr",
     "output_type": "stream",
     "text": [
      "       1/30         0G     0.9131      1.185      1.441         34        640: 100%|██████████| 91/91 [09:59<00:00,  6.59s/it]\n",
      "                 Class     Images  Instances      Box(P          R      mAP50  mAP50-95): 100%|██████████| 2/2 [00:09<00:00,  4.78s/it]"
     ]
    },
    {
     "name": "stdout",
     "output_type": "stream",
     "text": [
      "                   all         64         64      0.924      0.859      0.918      0.681\n"
     ]
    },
    {
     "name": "stderr",
     "output_type": "stream",
     "text": [
      "\n"
     ]
    },
    {
     "name": "stdout",
     "output_type": "stream",
     "text": [
      "\n",
      "      Epoch    GPU_mem   box_loss   cls_loss   dfl_loss  Instances       Size\n"
     ]
    },
    {
     "name": "stderr",
     "output_type": "stream",
     "text": [
      "       2/30         0G     0.9544     0.8633      1.445         44        640: 100%|██████████| 91/91 [11:09<00:00,  7.36s/it]\n",
      "                 Class     Images  Instances      Box(P          R      mAP50  mAP50-95): 100%|██████████| 2/2 [00:09<00:00,  4.67s/it]"
     ]
    },
    {
     "name": "stdout",
     "output_type": "stream",
     "text": [
      "                   all         64         64      0.816      0.938      0.949      0.628\n"
     ]
    },
    {
     "name": "stderr",
     "output_type": "stream",
     "text": [
      "\n"
     ]
    },
    {
     "name": "stdout",
     "output_type": "stream",
     "text": [
      "\n",
      "      Epoch    GPU_mem   box_loss   cls_loss   dfl_loss  Instances       Size\n"
     ]
    },
    {
     "name": "stderr",
     "output_type": "stream",
     "text": [
      "       3/30         0G     0.9803     0.8809       1.47         43        640: 100%|██████████| 91/91 [09:48<00:00,  6.47s/it]\n",
      "                 Class     Images  Instances      Box(P          R      mAP50  mAP50-95): 100%|██████████| 2/2 [00:09<00:00,  4.59s/it]"
     ]
    },
    {
     "name": "stdout",
     "output_type": "stream",
     "text": [
      "                   all         64         64       0.98      0.969      0.993      0.787\n"
     ]
    },
    {
     "name": "stderr",
     "output_type": "stream",
     "text": [
      "\n"
     ]
    },
    {
     "name": "stdout",
     "output_type": "stream",
     "text": [
      "\n",
      "      Epoch    GPU_mem   box_loss   cls_loss   dfl_loss  Instances       Size\n"
     ]
    },
    {
     "name": "stderr",
     "output_type": "stream",
     "text": [
      "       4/30         0G     0.9528     0.7975      1.453         39        640: 100%|██████████| 91/91 [11:35<00:00,  7.65s/it]\n",
      "                 Class     Images  Instances      Box(P          R      mAP50  mAP50-95): 100%|██████████| 2/2 [00:11<00:00,  5.88s/it]"
     ]
    },
    {
     "name": "stdout",
     "output_type": "stream",
     "text": [
      "                   all         64         64      0.912      0.967      0.971      0.789\n"
     ]
    },
    {
     "name": "stderr",
     "output_type": "stream",
     "text": [
      "\n"
     ]
    },
    {
     "name": "stdout",
     "output_type": "stream",
     "text": [
      "\n",
      "      Epoch    GPU_mem   box_loss   cls_loss   dfl_loss  Instances       Size\n"
     ]
    },
    {
     "name": "stderr",
     "output_type": "stream",
     "text": [
      "       5/30         0G     0.9167     0.7549      1.416         31        640: 100%|██████████| 91/91 [10:25<00:00,  6.87s/it]\n",
      "                 Class     Images  Instances      Box(P          R      mAP50  mAP50-95): 100%|██████████| 2/2 [00:09<00:00,  4.54s/it]"
     ]
    },
    {
     "name": "stdout",
     "output_type": "stream",
     "text": [
      "                   all         64         64      0.926      0.983      0.979      0.762\n"
     ]
    },
    {
     "name": "stderr",
     "output_type": "stream",
     "text": [
      "\n"
     ]
    },
    {
     "name": "stdout",
     "output_type": "stream",
     "text": [
      "\n",
      "      Epoch    GPU_mem   box_loss   cls_loss   dfl_loss  Instances       Size\n"
     ]
    },
    {
     "name": "stderr",
     "output_type": "stream",
     "text": [
      "       6/30         0G     0.8704     0.7283      1.384         42        640: 100%|██████████| 91/91 [09:51<00:00,  6.50s/it]\n",
      "                 Class     Images  Instances      Box(P          R      mAP50  mAP50-95): 100%|██████████| 2/2 [00:09<00:00,  4.64s/it]"
     ]
    },
    {
     "name": "stdout",
     "output_type": "stream",
     "text": [
      "                   all         64         64      0.969      0.981       0.99      0.839\n"
     ]
    },
    {
     "name": "stderr",
     "output_type": "stream",
     "text": [
      "\n"
     ]
    },
    {
     "name": "stdout",
     "output_type": "stream",
     "text": [
      "\n",
      "      Epoch    GPU_mem   box_loss   cls_loss   dfl_loss  Instances       Size\n"
     ]
    },
    {
     "name": "stderr",
     "output_type": "stream",
     "text": [
      "       7/30         0G     0.8208     0.6837      1.355         39        640: 100%|██████████| 91/91 [09:44<00:00,  6.43s/it]\n",
      "                 Class     Images  Instances      Box(P          R      mAP50  mAP50-95): 100%|██████████| 2/2 [00:09<00:00,  4.64s/it]"
     ]
    },
    {
     "name": "stdout",
     "output_type": "stream",
     "text": [
      "                   all         64         64      0.961      0.969       0.99      0.835\n"
     ]
    },
    {
     "name": "stderr",
     "output_type": "stream",
     "text": [
      "\n"
     ]
    },
    {
     "name": "stdout",
     "output_type": "stream",
     "text": [
      "\n",
      "      Epoch    GPU_mem   box_loss   cls_loss   dfl_loss  Instances       Size\n"
     ]
    },
    {
     "name": "stderr",
     "output_type": "stream",
     "text": [
      "       8/30         0G     0.7973     0.6445      1.337         36        640: 100%|██████████| 91/91 [10:25<00:00,  6.87s/it]\n",
      "                 Class     Images  Instances      Box(P          R      mAP50  mAP50-95): 100%|██████████| 2/2 [00:11<00:00,  5.99s/it]"
     ]
    },
    {
     "name": "stdout",
     "output_type": "stream",
     "text": [
      "                   all         64         64      0.915      0.922      0.973      0.846\n"
     ]
    },
    {
     "name": "stderr",
     "output_type": "stream",
     "text": [
      "\n"
     ]
    },
    {
     "name": "stdout",
     "output_type": "stream",
     "text": [
      "\n",
      "      Epoch    GPU_mem   box_loss   cls_loss   dfl_loss  Instances       Size\n"
     ]
    },
    {
     "name": "stderr",
     "output_type": "stream",
     "text": [
      "       9/30         0G     0.7903     0.6392      1.326         37        640: 100%|██████████| 91/91 [11:29<00:00,  7.57s/it]\n",
      "                 Class     Images  Instances      Box(P          R      mAP50  mAP50-95): 100%|██████████| 2/2 [00:09<00:00,  4.67s/it]"
     ]
    },
    {
     "name": "stdout",
     "output_type": "stream",
     "text": [
      "                   all         64         64      0.951          1      0.992      0.857\n"
     ]
    },
    {
     "name": "stderr",
     "output_type": "stream",
     "text": [
      "\n"
     ]
    },
    {
     "name": "stdout",
     "output_type": "stream",
     "text": [
      "\n",
      "      Epoch    GPU_mem   box_loss   cls_loss   dfl_loss  Instances       Size\n"
     ]
    },
    {
     "name": "stderr",
     "output_type": "stream",
     "text": [
      "      10/30         0G     0.7781     0.6278      1.313         36        640: 100%|██████████| 91/91 [12:00<00:00,  7.92s/it]\n",
      "                 Class     Images  Instances      Box(P          R      mAP50  mAP50-95): 100%|██████████| 2/2 [00:12<00:00,  6.03s/it]"
     ]
    },
    {
     "name": "stdout",
     "output_type": "stream",
     "text": [
      "                   all         64         64      0.997      0.984      0.995      0.885\n"
     ]
    },
    {
     "name": "stderr",
     "output_type": "stream",
     "text": [
      "\n"
     ]
    },
    {
     "name": "stdout",
     "output_type": "stream",
     "text": [
      "\n",
      "      Epoch    GPU_mem   box_loss   cls_loss   dfl_loss  Instances       Size\n"
     ]
    },
    {
     "name": "stderr",
     "output_type": "stream",
     "text": [
      "      11/30         0G     0.7438     0.5829      1.296         39        640: 100%|██████████| 91/91 [11:27<00:00,  7.55s/it]\n",
      "                 Class     Images  Instances      Box(P          R      mAP50  mAP50-95): 100%|██████████| 2/2 [00:09<00:00,  4.64s/it]"
     ]
    },
    {
     "name": "stdout",
     "output_type": "stream",
     "text": [
      "                   all         64         64      0.998          1      0.995      0.864\n"
     ]
    },
    {
     "name": "stderr",
     "output_type": "stream",
     "text": [
      "\n"
     ]
    },
    {
     "name": "stdout",
     "output_type": "stream",
     "text": [
      "\n",
      "      Epoch    GPU_mem   box_loss   cls_loss   dfl_loss  Instances       Size\n"
     ]
    },
    {
     "name": "stderr",
     "output_type": "stream",
     "text": [
      "      12/30         0G      0.739     0.5829      1.296         35        640: 100%|██████████| 91/91 [09:50<00:00,  6.49s/it]\n",
      "                 Class     Images  Instances      Box(P          R      mAP50  mAP50-95): 100%|██████████| 2/2 [00:09<00:00,  4.68s/it]"
     ]
    },
    {
     "name": "stdout",
     "output_type": "stream",
     "text": [
      "                   all         64         64       0.97      0.998      0.994      0.886\n"
     ]
    },
    {
     "name": "stderr",
     "output_type": "stream",
     "text": [
      "\n"
     ]
    },
    {
     "name": "stdout",
     "output_type": "stream",
     "text": [
      "\n",
      "      Epoch    GPU_mem   box_loss   cls_loss   dfl_loss  Instances       Size\n"
     ]
    },
    {
     "name": "stderr",
     "output_type": "stream",
     "text": [
      "      13/30         0G     0.7143     0.5541       1.28         42        640: 100%|██████████| 91/91 [11:47<00:00,  7.77s/it]\n",
      "                 Class     Images  Instances      Box(P          R      mAP50  mAP50-95): 100%|██████████| 2/2 [00:11<00:00,  5.90s/it]"
     ]
    },
    {
     "name": "stdout",
     "output_type": "stream",
     "text": [
      "                   all         64         64      0.998          1      0.995      0.912\n"
     ]
    },
    {
     "name": "stderr",
     "output_type": "stream",
     "text": [
      "\n"
     ]
    },
    {
     "name": "stdout",
     "output_type": "stream",
     "text": [
      "\n",
      "      Epoch    GPU_mem   box_loss   cls_loss   dfl_loss  Instances       Size\n"
     ]
    },
    {
     "name": "stderr",
     "output_type": "stream",
     "text": [
      "      14/30         0G     0.7093     0.5565      1.273         36        640: 100%|██████████| 91/91 [11:18<00:00,  7.45s/it]\n",
      "                 Class     Images  Instances      Box(P          R      mAP50  mAP50-95): 100%|██████████| 2/2 [00:09<00:00,  4.71s/it]"
     ]
    },
    {
     "name": "stdout",
     "output_type": "stream",
     "text": [
      "                   all         64         64          1          1      0.995      0.893\n"
     ]
    },
    {
     "name": "stderr",
     "output_type": "stream",
     "text": [
      "\n"
     ]
    },
    {
     "name": "stdout",
     "output_type": "stream",
     "text": [
      "\n",
      "      Epoch    GPU_mem   box_loss   cls_loss   dfl_loss  Instances       Size\n"
     ]
    },
    {
     "name": "stderr",
     "output_type": "stream",
     "text": [
      "      15/30         0G     0.7043     0.5535      1.262         37        640: 100%|██████████| 91/91 [10:33<00:00,  6.97s/it]\n",
      "                 Class     Images  Instances      Box(P          R      mAP50  mAP50-95): 100%|██████████| 2/2 [00:11<00:00,  5.85s/it]"
     ]
    },
    {
     "name": "stdout",
     "output_type": "stream",
     "text": [
      "                   all         64         64      0.998          1      0.995      0.873\n"
     ]
    },
    {
     "name": "stderr",
     "output_type": "stream",
     "text": [
      "\n"
     ]
    },
    {
     "name": "stdout",
     "output_type": "stream",
     "text": [
      "\n",
      "      Epoch    GPU_mem   box_loss   cls_loss   dfl_loss  Instances       Size\n"
     ]
    },
    {
     "name": "stderr",
     "output_type": "stream",
     "text": [
      "      16/30         0G     0.7016     0.5254      1.266         46        640: 100%|██████████| 91/91 [12:33<00:00,  8.28s/it]\n",
      "                 Class     Images  Instances      Box(P          R      mAP50  mAP50-95): 100%|██████████| 2/2 [00:10<00:00,  5.46s/it]"
     ]
    },
    {
     "name": "stdout",
     "output_type": "stream",
     "text": [
      "                   all         64         64      0.994          1      0.995      0.908\n"
     ]
    },
    {
     "name": "stderr",
     "output_type": "stream",
     "text": [
      "\n"
     ]
    },
    {
     "name": "stdout",
     "output_type": "stream",
     "text": [
      "\n",
      "      Epoch    GPU_mem   box_loss   cls_loss   dfl_loss  Instances       Size\n"
     ]
    },
    {
     "name": "stderr",
     "output_type": "stream",
     "text": [
      "      17/30         0G     0.6684     0.5042      1.247         37        640: 100%|██████████| 91/91 [11:24<00:00,  7.53s/it]\n",
      "                 Class     Images  Instances      Box(P          R      mAP50  mAP50-95): 100%|██████████| 2/2 [00:10<00:00,  5.35s/it]"
     ]
    },
    {
     "name": "stdout",
     "output_type": "stream",
     "text": [
      "                   all         64         64      0.998          1      0.995      0.899\n"
     ]
    },
    {
     "name": "stderr",
     "output_type": "stream",
     "text": [
      "\n"
     ]
    },
    {
     "name": "stdout",
     "output_type": "stream",
     "text": [
      "\n",
      "      Epoch    GPU_mem   box_loss   cls_loss   dfl_loss  Instances       Size\n"
     ]
    },
    {
     "name": "stderr",
     "output_type": "stream",
     "text": [
      "      18/30         0G     0.6709     0.5068      1.241         39        640: 100%|██████████| 91/91 [11:47<00:00,  7.78s/it]\n",
      "                 Class     Images  Instances      Box(P          R      mAP50  mAP50-95): 100%|██████████| 2/2 [00:10<00:00,  5.48s/it]"
     ]
    },
    {
     "name": "stdout",
     "output_type": "stream",
     "text": [
      "                   all         64         64      0.999          1      0.995      0.918\n"
     ]
    },
    {
     "name": "stderr",
     "output_type": "stream",
     "text": [
      "\n"
     ]
    },
    {
     "name": "stdout",
     "output_type": "stream",
     "text": [
      "\n",
      "      Epoch    GPU_mem   box_loss   cls_loss   dfl_loss  Instances       Size\n"
     ]
    },
    {
     "name": "stderr",
     "output_type": "stream",
     "text": [
      "      19/30         0G     0.6523     0.4994      1.234         41        640: 100%|██████████| 91/91 [11:17<00:00,  7.45s/it]\n",
      "                 Class     Images  Instances      Box(P          R      mAP50  mAP50-95): 100%|██████████| 2/2 [00:10<00:00,  5.36s/it]"
     ]
    },
    {
     "name": "stdout",
     "output_type": "stream",
     "text": [
      "                   all         64         64      0.997          1      0.995      0.897\n"
     ]
    },
    {
     "name": "stderr",
     "output_type": "stream",
     "text": [
      "\n"
     ]
    },
    {
     "name": "stdout",
     "output_type": "stream",
     "text": [
      "\n",
      "      Epoch    GPU_mem   box_loss   cls_loss   dfl_loss  Instances       Size\n"
     ]
    },
    {
     "name": "stderr",
     "output_type": "stream",
     "text": [
      "      20/30         0G     0.6553      0.499      1.233         39        640: 100%|██████████| 91/91 [11:21<00:00,  7.49s/it]\n",
      "                 Class     Images  Instances      Box(P          R      mAP50  mAP50-95): 100%|██████████| 2/2 [00:11<00:00,  5.58s/it]"
     ]
    },
    {
     "name": "stdout",
     "output_type": "stream",
     "text": [
      "                   all         64         64          1          1      0.995      0.899\n"
     ]
    },
    {
     "name": "stderr",
     "output_type": "stream",
     "text": [
      "\n"
     ]
    },
    {
     "name": "stdout",
     "output_type": "stream",
     "text": [
      "Closing dataloader mosaic\n",
      "\u001B[34m\u001B[1malbumentations: \u001B[0mBlur(p=0.01, blur_limit=(3, 7)), MedianBlur(p=0.01, blur_limit=(3, 7)), ToGray(p=0.01, num_output_channels=3, method='weighted_average'), CLAHE(p=0.01, clip_limit=(1.0, 4.0), tile_grid_size=(8, 8))\n",
      "\n",
      "      Epoch    GPU_mem   box_loss   cls_loss   dfl_loss  Instances       Size\n"
     ]
    },
    {
     "name": "stderr",
     "output_type": "stream",
     "text": [
      "      21/30         0G     0.5285     0.3947      1.276         15        640: 100%|██████████| 91/91 [11:25<00:00,  7.53s/it]\n",
      "                 Class     Images  Instances      Box(P          R      mAP50  mAP50-95): 100%|██████████| 2/2 [00:10<00:00,  5.44s/it]"
     ]
    },
    {
     "name": "stdout",
     "output_type": "stream",
     "text": [
      "                   all         64         64      0.982          1      0.995      0.918\n"
     ]
    },
    {
     "name": "stderr",
     "output_type": "stream",
     "text": [
      "\n"
     ]
    },
    {
     "name": "stdout",
     "output_type": "stream",
     "text": [
      "\n",
      "      Epoch    GPU_mem   box_loss   cls_loss   dfl_loss  Instances       Size\n"
     ]
    },
    {
     "name": "stderr",
     "output_type": "stream",
     "text": [
      "      22/30         0G     0.5113     0.3632      1.251         15        640: 100%|██████████| 91/91 [11:32<00:00,  7.61s/it]\n",
      "                 Class     Images  Instances      Box(P          R      mAP50  mAP50-95): 100%|██████████| 2/2 [00:11<00:00,  5.56s/it]"
     ]
    },
    {
     "name": "stdout",
     "output_type": "stream",
     "text": [
      "                   all         64         64      0.999      0.984      0.995      0.917\n"
     ]
    },
    {
     "name": "stderr",
     "output_type": "stream",
     "text": [
      "\n"
     ]
    },
    {
     "name": "stdout",
     "output_type": "stream",
     "text": [
      "\n",
      "      Epoch    GPU_mem   box_loss   cls_loss   dfl_loss  Instances       Size\n"
     ]
    },
    {
     "name": "stderr",
     "output_type": "stream",
     "text": [
      "      23/30         0G     0.5058     0.3491      1.251         15        640: 100%|██████████| 91/91 [11:35<00:00,  7.65s/it]\n",
      "                 Class     Images  Instances      Box(P          R      mAP50  mAP50-95): 100%|██████████| 2/2 [00:11<00:00,  5.64s/it]"
     ]
    },
    {
     "name": "stdout",
     "output_type": "stream",
     "text": [
      "                   all         64         64      0.998          1      0.995       0.93\n"
     ]
    },
    {
     "name": "stderr",
     "output_type": "stream",
     "text": [
      "\n"
     ]
    },
    {
     "name": "stdout",
     "output_type": "stream",
     "text": [
      "\n",
      "      Epoch    GPU_mem   box_loss   cls_loss   dfl_loss  Instances       Size\n"
     ]
    },
    {
     "name": "stderr",
     "output_type": "stream",
     "text": [
      "      24/30         0G     0.4875       0.34      1.229         15        640: 100%|██████████| 91/91 [11:34<00:00,  7.64s/it]\n",
      "                 Class     Images  Instances      Box(P          R      mAP50  mAP50-95): 100%|██████████| 2/2 [00:11<00:00,  5.59s/it]"
     ]
    },
    {
     "name": "stdout",
     "output_type": "stream",
     "text": [
      "                   all         64         64      0.998          1      0.995      0.914\n"
     ]
    },
    {
     "name": "stderr",
     "output_type": "stream",
     "text": [
      "\n"
     ]
    },
    {
     "name": "stdout",
     "output_type": "stream",
     "text": [
      "\n",
      "      Epoch    GPU_mem   box_loss   cls_loss   dfl_loss  Instances       Size\n"
     ]
    },
    {
     "name": "stderr",
     "output_type": "stream",
     "text": [
      "      25/30         0G     0.4856     0.3298      1.226         15        640: 100%|██████████| 91/91 [11:35<00:00,  7.64s/it]\n",
      "                 Class     Images  Instances      Box(P          R      mAP50  mAP50-95): 100%|██████████| 2/2 [00:11<00:00,  5.58s/it]"
     ]
    },
    {
     "name": "stdout",
     "output_type": "stream",
     "text": [
      "                   all         64         64      0.999          1      0.995      0.927\n"
     ]
    },
    {
     "name": "stderr",
     "output_type": "stream",
     "text": [
      "\n"
     ]
    },
    {
     "name": "stdout",
     "output_type": "stream",
     "text": [
      "\n",
      "      Epoch    GPU_mem   box_loss   cls_loss   dfl_loss  Instances       Size\n"
     ]
    },
    {
     "name": "stderr",
     "output_type": "stream",
     "text": [
      "      26/30         0G     0.4611     0.3197      1.198         15        640: 100%|██████████| 91/91 [11:35<00:00,  7.64s/it]\n",
      "                 Class     Images  Instances      Box(P          R      mAP50  mAP50-95): 100%|██████████| 2/2 [00:11<00:00,  5.62s/it]"
     ]
    },
    {
     "name": "stdout",
     "output_type": "stream",
     "text": [
      "                   all         64         64      0.996          1      0.995      0.932\n"
     ]
    },
    {
     "name": "stderr",
     "output_type": "stream",
     "text": [
      "\n"
     ]
    },
    {
     "name": "stdout",
     "output_type": "stream",
     "text": [
      "\n",
      "      Epoch    GPU_mem   box_loss   cls_loss   dfl_loss  Instances       Size\n"
     ]
    },
    {
     "name": "stderr",
     "output_type": "stream",
     "text": [
      "      27/30         0G     0.4617     0.3174      1.186         15        640: 100%|██████████| 91/91 [11:37<00:00,  7.66s/it]\n",
      "                 Class     Images  Instances      Box(P          R      mAP50  mAP50-95): 100%|██████████| 2/2 [00:11<00:00,  5.63s/it]"
     ]
    },
    {
     "name": "stdout",
     "output_type": "stream",
     "text": [
      "                   all         64         64      0.997      0.984      0.995      0.939\n"
     ]
    },
    {
     "name": "stderr",
     "output_type": "stream",
     "text": [
      "\n"
     ]
    },
    {
     "name": "stdout",
     "output_type": "stream",
     "text": [
      "\n",
      "      Epoch    GPU_mem   box_loss   cls_loss   dfl_loss  Instances       Size\n"
     ]
    },
    {
     "name": "stderr",
     "output_type": "stream",
     "text": [
      "      28/30         0G     0.4311     0.3033      1.173         15        640: 100%|██████████| 91/91 [11:35<00:00,  7.64s/it]\n",
      "                 Class     Images  Instances      Box(P          R      mAP50  mAP50-95): 100%|██████████| 2/2 [00:11<00:00,  5.65s/it]"
     ]
    },
    {
     "name": "stdout",
     "output_type": "stream",
     "text": [
      "                   all         64         64      0.997      0.984      0.995      0.941\n"
     ]
    },
    {
     "name": "stderr",
     "output_type": "stream",
     "text": [
      "\n"
     ]
    },
    {
     "name": "stdout",
     "output_type": "stream",
     "text": [
      "\n",
      "      Epoch    GPU_mem   box_loss   cls_loss   dfl_loss  Instances       Size\n"
     ]
    },
    {
     "name": "stderr",
     "output_type": "stream",
     "text": [
      "      29/30         0G     0.4251     0.2987      1.165         15        640: 100%|██████████| 91/91 [11:32<00:00,  7.61s/it]\n",
      "                 Class     Images  Instances      Box(P          R      mAP50  mAP50-95): 100%|██████████| 2/2 [00:11<00:00,  5.59s/it]"
     ]
    },
    {
     "name": "stdout",
     "output_type": "stream",
     "text": [
      "                   all         64         64      0.998      0.984      0.995      0.942\n"
     ]
    },
    {
     "name": "stderr",
     "output_type": "stream",
     "text": [
      "\n"
     ]
    },
    {
     "name": "stdout",
     "output_type": "stream",
     "text": [
      "\n",
      "      Epoch    GPU_mem   box_loss   cls_loss   dfl_loss  Instances       Size\n"
     ]
    },
    {
     "name": "stderr",
     "output_type": "stream",
     "text": [
      "      30/30         0G     0.4112     0.2872      1.154         15        640: 100%|██████████| 91/91 [11:35<00:00,  7.64s/it]\n",
      "                 Class     Images  Instances      Box(P          R      mAP50  mAP50-95): 100%|██████████| 2/2 [00:11<00:00,  5.61s/it]"
     ]
    },
    {
     "name": "stdout",
     "output_type": "stream",
     "text": [
      "                   all         64         64      0.999      0.984      0.995      0.936\n"
     ]
    },
    {
     "name": "stderr",
     "output_type": "stream",
     "text": [
      "\n"
     ]
    },
    {
     "name": "stdout",
     "output_type": "stream",
     "text": [
      "\n",
      "30 epochs completed in 5.686 hours.\n",
      "Optimizer stripped from runs\\detect\\leaf-detector2\\weights\\last.pt, 22.5MB\n",
      "Optimizer stripped from runs\\detect\\leaf-detector2\\weights\\best.pt, 22.5MB\n",
      "\n",
      "Validating runs\\detect\\leaf-detector2\\weights\\best.pt...\n",
      "Ultralytics 8.3.110  Python-3.12.8 torch-2.6.0+cpu CPU (AMD Ryzen 7 7435HS)\n",
      "Model summary (fused): 72 layers, 11,125,971 parameters, 0 gradients, 28.4 GFLOPs\n"
     ]
    },
    {
     "name": "stderr",
     "output_type": "stream",
     "text": [
      "                 Class     Images  Instances      Box(P          R      mAP50  mAP50-95): 100%|██████████| 2/2 [00:10<00:00,  5.02s/it]\n"
     ]
    },
    {
     "name": "stdout",
     "output_type": "stream",
     "text": [
      "                   all         64         64      0.998      0.984      0.995      0.942\n",
      "Speed: 1.6ms preprocess, 148.0ms inference, 0.0ms loss, 0.3ms postprocess per image\n",
      "Results saved to \u001B[1mruns\\detect\\leaf-detector2\u001B[0m\n"
     ]
    },
    {
     "data": {
      "text/plain": [
       "ultralytics.utils.metrics.DetMetrics object with attributes:\n",
       "\n",
       "ap_class_index: array([0])\n",
       "box: ultralytics.utils.metrics.Metric object\n",
       "confusion_matrix: <ultralytics.utils.metrics.ConfusionMatrix object at 0x000001C95E4A7200>\n",
       "curves: ['Precision-Recall(B)', 'F1-Confidence(B)', 'Precision-Confidence(B)', 'Recall-Confidence(B)']\n",
       "curves_results: [[array([          0,    0.001001,    0.002002,    0.003003,    0.004004,    0.005005,    0.006006,    0.007007,    0.008008,    0.009009,     0.01001,    0.011011,    0.012012,    0.013013,    0.014014,    0.015015,    0.016016,    0.017017,    0.018018,    0.019019,     0.02002,    0.021021,    0.022022,    0.023023,\n",
       "          0.024024,    0.025025,    0.026026,    0.027027,    0.028028,    0.029029,     0.03003,    0.031031,    0.032032,    0.033033,    0.034034,    0.035035,    0.036036,    0.037037,    0.038038,    0.039039,     0.04004,    0.041041,    0.042042,    0.043043,    0.044044,    0.045045,    0.046046,    0.047047,\n",
       "          0.048048,    0.049049,     0.05005,    0.051051,    0.052052,    0.053053,    0.054054,    0.055055,    0.056056,    0.057057,    0.058058,    0.059059,     0.06006,    0.061061,    0.062062,    0.063063,    0.064064,    0.065065,    0.066066,    0.067067,    0.068068,    0.069069,     0.07007,    0.071071,\n",
       "          0.072072,    0.073073,    0.074074,    0.075075,    0.076076,    0.077077,    0.078078,    0.079079,     0.08008,    0.081081,    0.082082,    0.083083,    0.084084,    0.085085,    0.086086,    0.087087,    0.088088,    0.089089,     0.09009,    0.091091,    0.092092,    0.093093,    0.094094,    0.095095,\n",
       "          0.096096,    0.097097,    0.098098,    0.099099,      0.1001,      0.1011,      0.1021,      0.1031,      0.1041,     0.10511,     0.10611,     0.10711,     0.10811,     0.10911,     0.11011,     0.11111,     0.11211,     0.11311,     0.11411,     0.11512,     0.11612,     0.11712,     0.11812,     0.11912,\n",
       "           0.12012,     0.12112,     0.12212,     0.12312,     0.12412,     0.12513,     0.12613,     0.12713,     0.12813,     0.12913,     0.13013,     0.13113,     0.13213,     0.13313,     0.13413,     0.13514,     0.13614,     0.13714,     0.13814,     0.13914,     0.14014,     0.14114,     0.14214,     0.14314,\n",
       "           0.14414,     0.14515,     0.14615,     0.14715,     0.14815,     0.14915,     0.15015,     0.15115,     0.15215,     0.15315,     0.15415,     0.15516,     0.15616,     0.15716,     0.15816,     0.15916,     0.16016,     0.16116,     0.16216,     0.16316,     0.16416,     0.16517,     0.16617,     0.16717,\n",
       "           0.16817,     0.16917,     0.17017,     0.17117,     0.17217,     0.17317,     0.17417,     0.17518,     0.17618,     0.17718,     0.17818,     0.17918,     0.18018,     0.18118,     0.18218,     0.18318,     0.18418,     0.18519,     0.18619,     0.18719,     0.18819,     0.18919,     0.19019,     0.19119,\n",
       "           0.19219,     0.19319,     0.19419,      0.1952,      0.1962,      0.1972,      0.1982,      0.1992,      0.2002,      0.2012,      0.2022,      0.2032,      0.2042,     0.20521,     0.20621,     0.20721,     0.20821,     0.20921,     0.21021,     0.21121,     0.21221,     0.21321,     0.21421,     0.21522,\n",
       "           0.21622,     0.21722,     0.21822,     0.21922,     0.22022,     0.22122,     0.22222,     0.22322,     0.22422,     0.22523,     0.22623,     0.22723,     0.22823,     0.22923,     0.23023,     0.23123,     0.23223,     0.23323,     0.23423,     0.23524,     0.23624,     0.23724,     0.23824,     0.23924,\n",
       "           0.24024,     0.24124,     0.24224,     0.24324,     0.24424,     0.24525,     0.24625,     0.24725,     0.24825,     0.24925,     0.25025,     0.25125,     0.25225,     0.25325,     0.25425,     0.25526,     0.25626,     0.25726,     0.25826,     0.25926,     0.26026,     0.26126,     0.26226,     0.26326,\n",
       "           0.26426,     0.26527,     0.26627,     0.26727,     0.26827,     0.26927,     0.27027,     0.27127,     0.27227,     0.27327,     0.27427,     0.27528,     0.27628,     0.27728,     0.27828,     0.27928,     0.28028,     0.28128,     0.28228,     0.28328,     0.28428,     0.28529,     0.28629,     0.28729,\n",
       "           0.28829,     0.28929,     0.29029,     0.29129,     0.29229,     0.29329,     0.29429,      0.2953,      0.2963,      0.2973,      0.2983,      0.2993,      0.3003,      0.3013,      0.3023,      0.3033,      0.3043,     0.30531,     0.30631,     0.30731,     0.30831,     0.30931,     0.31031,     0.31131,\n",
       "           0.31231,     0.31331,     0.31431,     0.31532,     0.31632,     0.31732,     0.31832,     0.31932,     0.32032,     0.32132,     0.32232,     0.32332,     0.32432,     0.32533,     0.32633,     0.32733,     0.32833,     0.32933,     0.33033,     0.33133,     0.33233,     0.33333,     0.33433,     0.33534,\n",
       "           0.33634,     0.33734,     0.33834,     0.33934,     0.34034,     0.34134,     0.34234,     0.34334,     0.34434,     0.34535,     0.34635,     0.34735,     0.34835,     0.34935,     0.35035,     0.35135,     0.35235,     0.35335,     0.35435,     0.35536,     0.35636,     0.35736,     0.35836,     0.35936,\n",
       "           0.36036,     0.36136,     0.36236,     0.36336,     0.36436,     0.36537,     0.36637,     0.36737,     0.36837,     0.36937,     0.37037,     0.37137,     0.37237,     0.37337,     0.37437,     0.37538,     0.37638,     0.37738,     0.37838,     0.37938,     0.38038,     0.38138,     0.38238,     0.38338,\n",
       "           0.38438,     0.38539,     0.38639,     0.38739,     0.38839,     0.38939,     0.39039,     0.39139,     0.39239,     0.39339,     0.39439,      0.3954,      0.3964,      0.3974,      0.3984,      0.3994,      0.4004,      0.4014,      0.4024,      0.4034,      0.4044,     0.40541,     0.40641,     0.40741,\n",
       "           0.40841,     0.40941,     0.41041,     0.41141,     0.41241,     0.41341,     0.41441,     0.41542,     0.41642,     0.41742,     0.41842,     0.41942,     0.42042,     0.42142,     0.42242,     0.42342,     0.42442,     0.42543,     0.42643,     0.42743,     0.42843,     0.42943,     0.43043,     0.43143,\n",
       "           0.43243,     0.43343,     0.43443,     0.43544,     0.43644,     0.43744,     0.43844,     0.43944,     0.44044,     0.44144,     0.44244,     0.44344,     0.44444,     0.44545,     0.44645,     0.44745,     0.44845,     0.44945,     0.45045,     0.45145,     0.45245,     0.45345,     0.45445,     0.45546,\n",
       "           0.45646,     0.45746,     0.45846,     0.45946,     0.46046,     0.46146,     0.46246,     0.46346,     0.46446,     0.46547,     0.46647,     0.46747,     0.46847,     0.46947,     0.47047,     0.47147,     0.47247,     0.47347,     0.47447,     0.47548,     0.47648,     0.47748,     0.47848,     0.47948,\n",
       "           0.48048,     0.48148,     0.48248,     0.48348,     0.48448,     0.48549,     0.48649,     0.48749,     0.48849,     0.48949,     0.49049,     0.49149,     0.49249,     0.49349,     0.49449,      0.4955,      0.4965,      0.4975,      0.4985,      0.4995,      0.5005,      0.5015,      0.5025,      0.5035,\n",
       "            0.5045,     0.50551,     0.50651,     0.50751,     0.50851,     0.50951,     0.51051,     0.51151,     0.51251,     0.51351,     0.51451,     0.51552,     0.51652,     0.51752,     0.51852,     0.51952,     0.52052,     0.52152,     0.52252,     0.52352,     0.52452,     0.52553,     0.52653,     0.52753,\n",
       "           0.52853,     0.52953,     0.53053,     0.53153,     0.53253,     0.53353,     0.53453,     0.53554,     0.53654,     0.53754,     0.53854,     0.53954,     0.54054,     0.54154,     0.54254,     0.54354,     0.54454,     0.54555,     0.54655,     0.54755,     0.54855,     0.54955,     0.55055,     0.55155,\n",
       "           0.55255,     0.55355,     0.55455,     0.55556,     0.55656,     0.55756,     0.55856,     0.55956,     0.56056,     0.56156,     0.56256,     0.56356,     0.56456,     0.56557,     0.56657,     0.56757,     0.56857,     0.56957,     0.57057,     0.57157,     0.57257,     0.57357,     0.57457,     0.57558,\n",
       "           0.57658,     0.57758,     0.57858,     0.57958,     0.58058,     0.58158,     0.58258,     0.58358,     0.58458,     0.58559,     0.58659,     0.58759,     0.58859,     0.58959,     0.59059,     0.59159,     0.59259,     0.59359,     0.59459,      0.5956,      0.5966,      0.5976,      0.5986,      0.5996,\n",
       "            0.6006,      0.6016,      0.6026,      0.6036,      0.6046,     0.60561,     0.60661,     0.60761,     0.60861,     0.60961,     0.61061,     0.61161,     0.61261,     0.61361,     0.61461,     0.61562,     0.61662,     0.61762,     0.61862,     0.61962,     0.62062,     0.62162,     0.62262,     0.62362,\n",
       "           0.62462,     0.62563,     0.62663,     0.62763,     0.62863,     0.62963,     0.63063,     0.63163,     0.63263,     0.63363,     0.63463,     0.63564,     0.63664,     0.63764,     0.63864,     0.63964,     0.64064,     0.64164,     0.64264,     0.64364,     0.64464,     0.64565,     0.64665,     0.64765,\n",
       "           0.64865,     0.64965,     0.65065,     0.65165,     0.65265,     0.65365,     0.65465,     0.65566,     0.65666,     0.65766,     0.65866,     0.65966,     0.66066,     0.66166,     0.66266,     0.66366,     0.66466,     0.66567,     0.66667,     0.66767,     0.66867,     0.66967,     0.67067,     0.67167,\n",
       "           0.67267,     0.67367,     0.67467,     0.67568,     0.67668,     0.67768,     0.67868,     0.67968,     0.68068,     0.68168,     0.68268,     0.68368,     0.68468,     0.68569,     0.68669,     0.68769,     0.68869,     0.68969,     0.69069,     0.69169,     0.69269,     0.69369,     0.69469,      0.6957,\n",
       "            0.6967,      0.6977,      0.6987,      0.6997,      0.7007,      0.7017,      0.7027,      0.7037,      0.7047,     0.70571,     0.70671,     0.70771,     0.70871,     0.70971,     0.71071,     0.71171,     0.71271,     0.71371,     0.71471,     0.71572,     0.71672,     0.71772,     0.71872,     0.71972,\n",
       "           0.72072,     0.72172,     0.72272,     0.72372,     0.72472,     0.72573,     0.72673,     0.72773,     0.72873,     0.72973,     0.73073,     0.73173,     0.73273,     0.73373,     0.73473,     0.73574,     0.73674,     0.73774,     0.73874,     0.73974,     0.74074,     0.74174,     0.74274,     0.74374,\n",
       "           0.74474,     0.74575,     0.74675,     0.74775,     0.74875,     0.74975,     0.75075,     0.75175,     0.75275,     0.75375,     0.75475,     0.75576,     0.75676,     0.75776,     0.75876,     0.75976,     0.76076,     0.76176,     0.76276,     0.76376,     0.76476,     0.76577,     0.76677,     0.76777,\n",
       "           0.76877,     0.76977,     0.77077,     0.77177,     0.77277,     0.77377,     0.77477,     0.77578,     0.77678,     0.77778,     0.77878,     0.77978,     0.78078,     0.78178,     0.78278,     0.78378,     0.78478,     0.78579,     0.78679,     0.78779,     0.78879,     0.78979,     0.79079,     0.79179,\n",
       "           0.79279,     0.79379,     0.79479,      0.7958,      0.7968,      0.7978,      0.7988,      0.7998,      0.8008,      0.8018,      0.8028,      0.8038,      0.8048,     0.80581,     0.80681,     0.80781,     0.80881,     0.80981,     0.81081,     0.81181,     0.81281,     0.81381,     0.81481,     0.81582,\n",
       "           0.81682,     0.81782,     0.81882,     0.81982,     0.82082,     0.82182,     0.82282,     0.82382,     0.82482,     0.82583,     0.82683,     0.82783,     0.82883,     0.82983,     0.83083,     0.83183,     0.83283,     0.83383,     0.83483,     0.83584,     0.83684,     0.83784,     0.83884,     0.83984,\n",
       "           0.84084,     0.84184,     0.84284,     0.84384,     0.84484,     0.84585,     0.84685,     0.84785,     0.84885,     0.84985,     0.85085,     0.85185,     0.85285,     0.85385,     0.85485,     0.85586,     0.85686,     0.85786,     0.85886,     0.85986,     0.86086,     0.86186,     0.86286,     0.86386,\n",
       "           0.86486,     0.86587,     0.86687,     0.86787,     0.86887,     0.86987,     0.87087,     0.87187,     0.87287,     0.87387,     0.87487,     0.87588,     0.87688,     0.87788,     0.87888,     0.87988,     0.88088,     0.88188,     0.88288,     0.88388,     0.88488,     0.88589,     0.88689,     0.88789,\n",
       "           0.88889,     0.88989,     0.89089,     0.89189,     0.89289,     0.89389,     0.89489,      0.8959,      0.8969,      0.8979,      0.8989,      0.8999,      0.9009,      0.9019,      0.9029,      0.9039,      0.9049,     0.90591,     0.90691,     0.90791,     0.90891,     0.90991,     0.91091,     0.91191,\n",
       "           0.91291,     0.91391,     0.91491,     0.91592,     0.91692,     0.91792,     0.91892,     0.91992,     0.92092,     0.92192,     0.92292,     0.92392,     0.92492,     0.92593,     0.92693,     0.92793,     0.92893,     0.92993,     0.93093,     0.93193,     0.93293,     0.93393,     0.93493,     0.93594,\n",
       "           0.93694,     0.93794,     0.93894,     0.93994,     0.94094,     0.94194,     0.94294,     0.94394,     0.94494,     0.94595,     0.94695,     0.94795,     0.94895,     0.94995,     0.95095,     0.95195,     0.95295,     0.95395,     0.95495,     0.95596,     0.95696,     0.95796,     0.95896,     0.95996,\n",
       "           0.96096,     0.96196,     0.96296,     0.96396,     0.96496,     0.96597,     0.96697,     0.96797,     0.96897,     0.96997,     0.97097,     0.97197,     0.97297,     0.97397,     0.97497,     0.97598,     0.97698,     0.97798,     0.97898,     0.97998,     0.98098,     0.98198,     0.98298,     0.98398,\n",
       "           0.98498,     0.98599,     0.98699,     0.98799,     0.98899,     0.98999,     0.99099,     0.99199,     0.99299,     0.99399,     0.99499,       0.996,       0.997,       0.998,       0.999,           1]), array([[          1,           1,           1,           1,           1,           1,           1,           1,           1,           1,           1,           1,           1,           1,           1,           1,           1,           1,           1,           1,           1,           1,           1,\n",
       "                  1,           1,           1,           1,           1,           1,           1,           1,           1,           1,           1,           1,           1,           1,           1,           1,           1,           1,           1,           1,           1,           1,           1,\n",
       "                  1,           1,           1,           1,           1,           1,           1,           1,           1,           1,           1,           1,           1,           1,           1,           1,           1,           1,           1,           1,           1,           1,           1,\n",
       "                  1,           1,           1,           1,           1,           1,           1,           1,           1,           1,           1,           1,           1,           1,           1,           1,           1,           1,           1,           1,           1,           1,           1,\n",
       "                  1,           1,           1,           1,           1,           1,           1,           1,           1,           1,           1,           1,           1,           1,           1,           1,           1,           1,           1,           1,           1,           1,           1,\n",
       "                  1,           1,           1,           1,           1,           1,           1,           1,           1,           1,           1,           1,           1,           1,           1,           1,           1,           1,           1,           1,           1,           1,           1,\n",
       "                  1,           1,           1,           1,           1,           1,           1,           1,           1,           1,           1,           1,           1,           1,           1,           1,           1,           1,           1,           1,           1,           1,           1,\n",
       "                  1,           1,           1,           1,           1,           1,           1,           1,           1,           1,           1,           1,           1,           1,           1,           1,           1,           1,           1,           1,           1,           1,           1,\n",
       "                  1,           1,           1,           1,           1,           1,           1,           1,           1,           1,           1,           1,           1,           1,           1,           1,           1,           1,           1,           1,           1,           1,           1,\n",
       "                  1,           1,           1,           1,           1,           1,           1,           1,           1,           1,           1,           1,           1,           1,           1,           1,           1,           1,           1,           1,           1,           1,           1,\n",
       "                  1,           1,           1,           1,           1,           1,           1,           1,           1,           1,           1,           1,           1,           1,           1,           1,           1,           1,           1,           1,           1,           1,           1,\n",
       "                  1,           1,           1,           1,           1,           1,           1,           1,           1,           1,           1,           1,           1,           1,           1,           1,           1,           1,           1,           1,           1,           1,           1,\n",
       "                  1,           1,           1,           1,           1,           1,           1,           1,           1,           1,           1,           1,           1,           1,           1,           1,           1,           1,           1,           1,           1,           1,           1,\n",
       "                  1,           1,           1,           1,           1,           1,           1,           1,           1,           1,           1,           1,           1,           1,           1,           1,           1,           1,           1,           1,           1,           1,           1,\n",
       "                  1,           1,           1,           1,           1,           1,           1,           1,           1,           1,           1,           1,           1,           1,           1,           1,           1,           1,           1,           1,           1,           1,           1,\n",
       "                  1,           1,           1,           1,           1,           1,           1,           1,           1,           1,           1,           1,           1,           1,           1,           1,           1,           1,           1,           1,           1,           1,           1,\n",
       "                  1,           1,           1,           1,           1,           1,           1,           1,           1,           1,           1,           1,           1,           1,           1,           1,           1,           1,           1,           1,           1,           1,           1,\n",
       "                  1,           1,           1,           1,           1,           1,           1,           1,           1,           1,           1,           1,           1,           1,           1,           1,           1,           1,           1,           1,           1,           1,           1,\n",
       "                  1,           1,           1,           1,           1,           1,           1,           1,           1,           1,           1,           1,           1,           1,           1,           1,           1,           1,           1,           1,           1,           1,           1,\n",
       "                  1,           1,           1,           1,           1,           1,           1,           1,           1,           1,           1,           1,           1,           1,           1,           1,           1,           1,           1,           1,           1,           1,           1,\n",
       "                  1,           1,           1,           1,           1,           1,           1,           1,           1,           1,           1,           1,           1,           1,           1,           1,           1,           1,           1,           1,           1,           1,           1,\n",
       "                  1,           1,           1,           1,           1,           1,           1,           1,           1,           1,           1,           1,           1,           1,           1,           1,           1,           1,           1,           1,           1,           1,           1,\n",
       "                  1,           1,           1,           1,           1,           1,           1,           1,           1,           1,           1,           1,           1,           1,           1,           1,           1,           1,           1,           1,           1,           1,           1,\n",
       "                  1,           1,           1,           1,           1,           1,           1,           1,           1,           1,           1,           1,           1,           1,           1,           1,           1,           1,           1,           1,           1,           1,           1,\n",
       "                  1,           1,           1,           1,           1,           1,           1,           1,           1,           1,           1,           1,           1,           1,           1,           1,           1,           1,           1,           1,           1,           1,           1,\n",
       "                  1,           1,           1,           1,           1,           1,           1,           1,           1,           1,           1,           1,           1,           1,           1,           1,           1,           1,           1,           1,           1,           1,           1,\n",
       "                  1,           1,           1,           1,           1,           1,           1,           1,           1,           1,           1,           1,           1,           1,           1,           1,           1,           1,           1,           1,           1,           1,           1,\n",
       "                  1,           1,           1,           1,           1,           1,           1,           1,           1,           1,           1,           1,           1,           1,           1,           1,           1,           1,           1,           1,           1,           1,           1,\n",
       "                  1,           1,           1,           1,           1,           1,           1,           1,           1,           1,           1,           1,           1,           1,           1,           1,           1,           1,           1,           1,           1,           1,           1,\n",
       "                  1,           1,           1,           1,           1,           1,           1,           1,           1,           1,           1,           1,           1,           1,           1,           1,           1,           1,           1,           1,           1,           1,           1,\n",
       "                  1,           1,           1,           1,           1,           1,           1,           1,           1,           1,           1,           1,           1,           1,           1,           1,           1,           1,           1,           1,           1,           1,           1,\n",
       "                  1,           1,           1,           1,           1,           1,           1,           1,           1,           1,           1,           1,           1,           1,           1,           1,           1,           1,           1,           1,           1,           1,           1,\n",
       "                  1,           1,           1,           1,           1,           1,           1,           1,           1,           1,           1,           1,           1,           1,           1,           1,           1,           1,           1,           1,           1,           1,           1,\n",
       "                  1,           1,           1,           1,           1,           1,           1,           1,           1,           1,           1,           1,           1,           1,           1,           1,           1,           1,           1,           1,           1,           1,           1,\n",
       "                  1,           1,           1,           1,           1,           1,           1,           1,           1,           1,           1,           1,           1,           1,           1,           1,           1,           1,           1,           1,           1,           1,           1,\n",
       "                  1,           1,           1,           1,           1,           1,           1,           1,           1,           1,           1,           1,           1,           1,           1,           1,           1,           1,           1,           1,           1,           1,           1,\n",
       "                  1,           1,           1,           1,           1,           1,           1,           1,           1,           1,           1,           1,           1,           1,           1,           1,           1,           1,           1,           1,           1,           1,           1,\n",
       "                  1,           1,           1,           1,           1,           1,           1,           1,           1,           1,           1,           1,           1,           1,           1,           1,           1,           1,           1,           1,           1,           1,           1,\n",
       "                  1,           1,           1,           1,           1,           1,           1,           1,           1,           1,           1,           1,           1,           1,           1,           1,           1,           1,           1,           1,           1,           1,           1,\n",
       "                  1,           1,           1,           1,           1,           1,           1,           1,           1,           1,           1,           1,           1,           1,           1,           1,           1,           1,           1,           1,           1,           1,           1,\n",
       "                  1,           1,           1,           1,           1,           1,           1,           1,           1,           1,           1,           1,           1,           1,           1,           1,           1,           1,           1,           1,           1,           1,           1,\n",
       "                  1,           1,           1,           1,           1,           1,           1,           1,           1,           1,           1,           1,           1,           1,           1,           1,           1,           1,           1,           1,           1,           1,           1,\n",
       "                  1,           1,           1,           1,           1,           1,           1,           1,           1,           1,           1,           1,           1,           1,           1,           1,           1,           1,      0.9697,      0.9697,      0.9697,      0.9697,      0.9697,\n",
       "             0.9697,      0.9697,      0.9697,      0.9697,      0.9697,      0.9697,      0.9697,      0.9697,      0.9697,      0.9697,           0]]), 'Recall', 'Precision'], [array([          0,    0.001001,    0.002002,    0.003003,    0.004004,    0.005005,    0.006006,    0.007007,    0.008008,    0.009009,     0.01001,    0.011011,    0.012012,    0.013013,    0.014014,    0.015015,    0.016016,    0.017017,    0.018018,    0.019019,     0.02002,    0.021021,    0.022022,    0.023023,\n",
       "          0.024024,    0.025025,    0.026026,    0.027027,    0.028028,    0.029029,     0.03003,    0.031031,    0.032032,    0.033033,    0.034034,    0.035035,    0.036036,    0.037037,    0.038038,    0.039039,     0.04004,    0.041041,    0.042042,    0.043043,    0.044044,    0.045045,    0.046046,    0.047047,\n",
       "          0.048048,    0.049049,     0.05005,    0.051051,    0.052052,    0.053053,    0.054054,    0.055055,    0.056056,    0.057057,    0.058058,    0.059059,     0.06006,    0.061061,    0.062062,    0.063063,    0.064064,    0.065065,    0.066066,    0.067067,    0.068068,    0.069069,     0.07007,    0.071071,\n",
       "          0.072072,    0.073073,    0.074074,    0.075075,    0.076076,    0.077077,    0.078078,    0.079079,     0.08008,    0.081081,    0.082082,    0.083083,    0.084084,    0.085085,    0.086086,    0.087087,    0.088088,    0.089089,     0.09009,    0.091091,    0.092092,    0.093093,    0.094094,    0.095095,\n",
       "          0.096096,    0.097097,    0.098098,    0.099099,      0.1001,      0.1011,      0.1021,      0.1031,      0.1041,     0.10511,     0.10611,     0.10711,     0.10811,     0.10911,     0.11011,     0.11111,     0.11211,     0.11311,     0.11411,     0.11512,     0.11612,     0.11712,     0.11812,     0.11912,\n",
       "           0.12012,     0.12112,     0.12212,     0.12312,     0.12412,     0.12513,     0.12613,     0.12713,     0.12813,     0.12913,     0.13013,     0.13113,     0.13213,     0.13313,     0.13413,     0.13514,     0.13614,     0.13714,     0.13814,     0.13914,     0.14014,     0.14114,     0.14214,     0.14314,\n",
       "           0.14414,     0.14515,     0.14615,     0.14715,     0.14815,     0.14915,     0.15015,     0.15115,     0.15215,     0.15315,     0.15415,     0.15516,     0.15616,     0.15716,     0.15816,     0.15916,     0.16016,     0.16116,     0.16216,     0.16316,     0.16416,     0.16517,     0.16617,     0.16717,\n",
       "           0.16817,     0.16917,     0.17017,     0.17117,     0.17217,     0.17317,     0.17417,     0.17518,     0.17618,     0.17718,     0.17818,     0.17918,     0.18018,     0.18118,     0.18218,     0.18318,     0.18418,     0.18519,     0.18619,     0.18719,     0.18819,     0.18919,     0.19019,     0.19119,\n",
       "           0.19219,     0.19319,     0.19419,      0.1952,      0.1962,      0.1972,      0.1982,      0.1992,      0.2002,      0.2012,      0.2022,      0.2032,      0.2042,     0.20521,     0.20621,     0.20721,     0.20821,     0.20921,     0.21021,     0.21121,     0.21221,     0.21321,     0.21421,     0.21522,\n",
       "           0.21622,     0.21722,     0.21822,     0.21922,     0.22022,     0.22122,     0.22222,     0.22322,     0.22422,     0.22523,     0.22623,     0.22723,     0.22823,     0.22923,     0.23023,     0.23123,     0.23223,     0.23323,     0.23423,     0.23524,     0.23624,     0.23724,     0.23824,     0.23924,\n",
       "           0.24024,     0.24124,     0.24224,     0.24324,     0.24424,     0.24525,     0.24625,     0.24725,     0.24825,     0.24925,     0.25025,     0.25125,     0.25225,     0.25325,     0.25425,     0.25526,     0.25626,     0.25726,     0.25826,     0.25926,     0.26026,     0.26126,     0.26226,     0.26326,\n",
       "           0.26426,     0.26527,     0.26627,     0.26727,     0.26827,     0.26927,     0.27027,     0.27127,     0.27227,     0.27327,     0.27427,     0.27528,     0.27628,     0.27728,     0.27828,     0.27928,     0.28028,     0.28128,     0.28228,     0.28328,     0.28428,     0.28529,     0.28629,     0.28729,\n",
       "           0.28829,     0.28929,     0.29029,     0.29129,     0.29229,     0.29329,     0.29429,      0.2953,      0.2963,      0.2973,      0.2983,      0.2993,      0.3003,      0.3013,      0.3023,      0.3033,      0.3043,     0.30531,     0.30631,     0.30731,     0.30831,     0.30931,     0.31031,     0.31131,\n",
       "           0.31231,     0.31331,     0.31431,     0.31532,     0.31632,     0.31732,     0.31832,     0.31932,     0.32032,     0.32132,     0.32232,     0.32332,     0.32432,     0.32533,     0.32633,     0.32733,     0.32833,     0.32933,     0.33033,     0.33133,     0.33233,     0.33333,     0.33433,     0.33534,\n",
       "           0.33634,     0.33734,     0.33834,     0.33934,     0.34034,     0.34134,     0.34234,     0.34334,     0.34434,     0.34535,     0.34635,     0.34735,     0.34835,     0.34935,     0.35035,     0.35135,     0.35235,     0.35335,     0.35435,     0.35536,     0.35636,     0.35736,     0.35836,     0.35936,\n",
       "           0.36036,     0.36136,     0.36236,     0.36336,     0.36436,     0.36537,     0.36637,     0.36737,     0.36837,     0.36937,     0.37037,     0.37137,     0.37237,     0.37337,     0.37437,     0.37538,     0.37638,     0.37738,     0.37838,     0.37938,     0.38038,     0.38138,     0.38238,     0.38338,\n",
       "           0.38438,     0.38539,     0.38639,     0.38739,     0.38839,     0.38939,     0.39039,     0.39139,     0.39239,     0.39339,     0.39439,      0.3954,      0.3964,      0.3974,      0.3984,      0.3994,      0.4004,      0.4014,      0.4024,      0.4034,      0.4044,     0.40541,     0.40641,     0.40741,\n",
       "           0.40841,     0.40941,     0.41041,     0.41141,     0.41241,     0.41341,     0.41441,     0.41542,     0.41642,     0.41742,     0.41842,     0.41942,     0.42042,     0.42142,     0.42242,     0.42342,     0.42442,     0.42543,     0.42643,     0.42743,     0.42843,     0.42943,     0.43043,     0.43143,\n",
       "           0.43243,     0.43343,     0.43443,     0.43544,     0.43644,     0.43744,     0.43844,     0.43944,     0.44044,     0.44144,     0.44244,     0.44344,     0.44444,     0.44545,     0.44645,     0.44745,     0.44845,     0.44945,     0.45045,     0.45145,     0.45245,     0.45345,     0.45445,     0.45546,\n",
       "           0.45646,     0.45746,     0.45846,     0.45946,     0.46046,     0.46146,     0.46246,     0.46346,     0.46446,     0.46547,     0.46647,     0.46747,     0.46847,     0.46947,     0.47047,     0.47147,     0.47247,     0.47347,     0.47447,     0.47548,     0.47648,     0.47748,     0.47848,     0.47948,\n",
       "           0.48048,     0.48148,     0.48248,     0.48348,     0.48448,     0.48549,     0.48649,     0.48749,     0.48849,     0.48949,     0.49049,     0.49149,     0.49249,     0.49349,     0.49449,      0.4955,      0.4965,      0.4975,      0.4985,      0.4995,      0.5005,      0.5015,      0.5025,      0.5035,\n",
       "            0.5045,     0.50551,     0.50651,     0.50751,     0.50851,     0.50951,     0.51051,     0.51151,     0.51251,     0.51351,     0.51451,     0.51552,     0.51652,     0.51752,     0.51852,     0.51952,     0.52052,     0.52152,     0.52252,     0.52352,     0.52452,     0.52553,     0.52653,     0.52753,\n",
       "           0.52853,     0.52953,     0.53053,     0.53153,     0.53253,     0.53353,     0.53453,     0.53554,     0.53654,     0.53754,     0.53854,     0.53954,     0.54054,     0.54154,     0.54254,     0.54354,     0.54454,     0.54555,     0.54655,     0.54755,     0.54855,     0.54955,     0.55055,     0.55155,\n",
       "           0.55255,     0.55355,     0.55455,     0.55556,     0.55656,     0.55756,     0.55856,     0.55956,     0.56056,     0.56156,     0.56256,     0.56356,     0.56456,     0.56557,     0.56657,     0.56757,     0.56857,     0.56957,     0.57057,     0.57157,     0.57257,     0.57357,     0.57457,     0.57558,\n",
       "           0.57658,     0.57758,     0.57858,     0.57958,     0.58058,     0.58158,     0.58258,     0.58358,     0.58458,     0.58559,     0.58659,     0.58759,     0.58859,     0.58959,     0.59059,     0.59159,     0.59259,     0.59359,     0.59459,      0.5956,      0.5966,      0.5976,      0.5986,      0.5996,\n",
       "            0.6006,      0.6016,      0.6026,      0.6036,      0.6046,     0.60561,     0.60661,     0.60761,     0.60861,     0.60961,     0.61061,     0.61161,     0.61261,     0.61361,     0.61461,     0.61562,     0.61662,     0.61762,     0.61862,     0.61962,     0.62062,     0.62162,     0.62262,     0.62362,\n",
       "           0.62462,     0.62563,     0.62663,     0.62763,     0.62863,     0.62963,     0.63063,     0.63163,     0.63263,     0.63363,     0.63463,     0.63564,     0.63664,     0.63764,     0.63864,     0.63964,     0.64064,     0.64164,     0.64264,     0.64364,     0.64464,     0.64565,     0.64665,     0.64765,\n",
       "           0.64865,     0.64965,     0.65065,     0.65165,     0.65265,     0.65365,     0.65465,     0.65566,     0.65666,     0.65766,     0.65866,     0.65966,     0.66066,     0.66166,     0.66266,     0.66366,     0.66466,     0.66567,     0.66667,     0.66767,     0.66867,     0.66967,     0.67067,     0.67167,\n",
       "           0.67267,     0.67367,     0.67467,     0.67568,     0.67668,     0.67768,     0.67868,     0.67968,     0.68068,     0.68168,     0.68268,     0.68368,     0.68468,     0.68569,     0.68669,     0.68769,     0.68869,     0.68969,     0.69069,     0.69169,     0.69269,     0.69369,     0.69469,      0.6957,\n",
       "            0.6967,      0.6977,      0.6987,      0.6997,      0.7007,      0.7017,      0.7027,      0.7037,      0.7047,     0.70571,     0.70671,     0.70771,     0.70871,     0.70971,     0.71071,     0.71171,     0.71271,     0.71371,     0.71471,     0.71572,     0.71672,     0.71772,     0.71872,     0.71972,\n",
       "           0.72072,     0.72172,     0.72272,     0.72372,     0.72472,     0.72573,     0.72673,     0.72773,     0.72873,     0.72973,     0.73073,     0.73173,     0.73273,     0.73373,     0.73473,     0.73574,     0.73674,     0.73774,     0.73874,     0.73974,     0.74074,     0.74174,     0.74274,     0.74374,\n",
       "           0.74474,     0.74575,     0.74675,     0.74775,     0.74875,     0.74975,     0.75075,     0.75175,     0.75275,     0.75375,     0.75475,     0.75576,     0.75676,     0.75776,     0.75876,     0.75976,     0.76076,     0.76176,     0.76276,     0.76376,     0.76476,     0.76577,     0.76677,     0.76777,\n",
       "           0.76877,     0.76977,     0.77077,     0.77177,     0.77277,     0.77377,     0.77477,     0.77578,     0.77678,     0.77778,     0.77878,     0.77978,     0.78078,     0.78178,     0.78278,     0.78378,     0.78478,     0.78579,     0.78679,     0.78779,     0.78879,     0.78979,     0.79079,     0.79179,\n",
       "           0.79279,     0.79379,     0.79479,      0.7958,      0.7968,      0.7978,      0.7988,      0.7998,      0.8008,      0.8018,      0.8028,      0.8038,      0.8048,     0.80581,     0.80681,     0.80781,     0.80881,     0.80981,     0.81081,     0.81181,     0.81281,     0.81381,     0.81481,     0.81582,\n",
       "           0.81682,     0.81782,     0.81882,     0.81982,     0.82082,     0.82182,     0.82282,     0.82382,     0.82482,     0.82583,     0.82683,     0.82783,     0.82883,     0.82983,     0.83083,     0.83183,     0.83283,     0.83383,     0.83483,     0.83584,     0.83684,     0.83784,     0.83884,     0.83984,\n",
       "           0.84084,     0.84184,     0.84284,     0.84384,     0.84484,     0.84585,     0.84685,     0.84785,     0.84885,     0.84985,     0.85085,     0.85185,     0.85285,     0.85385,     0.85485,     0.85586,     0.85686,     0.85786,     0.85886,     0.85986,     0.86086,     0.86186,     0.86286,     0.86386,\n",
       "           0.86486,     0.86587,     0.86687,     0.86787,     0.86887,     0.86987,     0.87087,     0.87187,     0.87287,     0.87387,     0.87487,     0.87588,     0.87688,     0.87788,     0.87888,     0.87988,     0.88088,     0.88188,     0.88288,     0.88388,     0.88488,     0.88589,     0.88689,     0.88789,\n",
       "           0.88889,     0.88989,     0.89089,     0.89189,     0.89289,     0.89389,     0.89489,      0.8959,      0.8969,      0.8979,      0.8989,      0.8999,      0.9009,      0.9019,      0.9029,      0.9039,      0.9049,     0.90591,     0.90691,     0.90791,     0.90891,     0.90991,     0.91091,     0.91191,\n",
       "           0.91291,     0.91391,     0.91491,     0.91592,     0.91692,     0.91792,     0.91892,     0.91992,     0.92092,     0.92192,     0.92292,     0.92392,     0.92492,     0.92593,     0.92693,     0.92793,     0.92893,     0.92993,     0.93093,     0.93193,     0.93293,     0.93393,     0.93493,     0.93594,\n",
       "           0.93694,     0.93794,     0.93894,     0.93994,     0.94094,     0.94194,     0.94294,     0.94394,     0.94494,     0.94595,     0.94695,     0.94795,     0.94895,     0.94995,     0.95095,     0.95195,     0.95295,     0.95395,     0.95495,     0.95596,     0.95696,     0.95796,     0.95896,     0.95996,\n",
       "           0.96096,     0.96196,     0.96296,     0.96396,     0.96496,     0.96597,     0.96697,     0.96797,     0.96897,     0.96997,     0.97097,     0.97197,     0.97297,     0.97397,     0.97497,     0.97598,     0.97698,     0.97798,     0.97898,     0.97998,     0.98098,     0.98198,     0.98298,     0.98398,\n",
       "           0.98498,     0.98599,     0.98699,     0.98799,     0.98899,     0.98999,     0.99099,     0.99199,     0.99299,     0.99399,     0.99499,       0.996,       0.997,       0.998,       0.999,           1]), array([[    0.16389,     0.16389,     0.26595,     0.32758,     0.39577,     0.43659,     0.48248,     0.52112,     0.55051,     0.57531,     0.61015,     0.64065,     0.66567,     0.68809,     0.69906,     0.71408,     0.72888,      0.7348,       0.749,     0.75557,     0.76697,     0.77354,     0.79511,\n",
       "            0.81116,     0.83323,     0.84277,     0.84581,     0.85222,     0.86388,     0.87292,     0.87594,     0.87766,     0.87893,     0.88019,     0.88146,     0.88272,      0.8937,     0.89631,     0.89791,     0.89949,     0.90108,     0.90298,     0.90496,     0.90693,     0.90923,     0.91177,\n",
       "             0.9143,     0.91821,      0.9213,     0.92269,     0.92407,     0.92544,     0.92681,     0.93311,      0.9412,     0.94144,     0.94169,     0.94193,     0.94218,     0.94243,     0.94267,     0.94291,     0.94316,      0.9434,     0.94365,     0.94389,     0.94414,     0.94438,     0.94463,\n",
       "            0.94487,     0.94511,     0.94536,      0.9456,     0.94584,     0.94609,     0.94633,     0.94657,     0.94682,     0.94706,      0.9473,     0.94755,     0.94779,     0.94803,     0.95008,      0.9538,     0.95528,     0.95538,     0.95548,     0.95558,     0.95568,     0.95577,     0.95587,\n",
       "            0.95597,     0.95607,     0.95617,     0.95626,     0.95636,     0.95646,     0.95656,     0.95665,     0.95675,     0.95685,     0.95695,     0.95705,     0.95714,     0.95724,     0.95734,     0.95744,     0.95753,     0.95763,     0.95773,     0.95783,     0.95792,     0.95802,     0.95812,\n",
       "            0.95822,     0.95831,     0.95841,     0.95851,     0.95861,      0.9587,      0.9588,      0.9589,       0.959,     0.95909,     0.95919,     0.95929,     0.95939,     0.95948,     0.95958,     0.95968,     0.95977,     0.95987,     0.95997,     0.96007,     0.96016,     0.96026,     0.96036,\n",
       "            0.96045,     0.96055,     0.96065,     0.96075,     0.96084,     0.96094,     0.96104,     0.96113,     0.96123,     0.96133,     0.96142,     0.96152,     0.96162,     0.96172,     0.96181,     0.96191,     0.96201,      0.9621,      0.9622,      0.9623,     0.96239,     0.96245,      0.9625,\n",
       "            0.96254,     0.96259,     0.96264,     0.96269,     0.96274,     0.96279,     0.96284,     0.96288,     0.96293,     0.96298,     0.96303,     0.96308,     0.96313,     0.96317,     0.96322,     0.96327,     0.96332,     0.96337,     0.96342,     0.96347,     0.96351,     0.96356,     0.96361,\n",
       "            0.96366,     0.96371,     0.96376,      0.9638,     0.96385,      0.9639,     0.96395,       0.964,     0.96405,     0.96409,     0.96414,     0.96419,     0.96424,     0.96429,     0.96434,     0.96438,     0.96443,     0.96448,     0.96453,     0.96458,     0.96463,     0.96467,     0.96472,\n",
       "            0.96477,     0.96482,     0.96487,     0.96491,     0.96496,     0.96501,     0.96506,     0.96511,     0.96516,      0.9652,     0.96525,      0.9653,     0.96535,      0.9654,     0.96545,     0.96549,     0.96554,     0.96559,     0.96564,     0.96569,     0.96573,     0.96578,     0.96583,\n",
       "            0.96588,     0.96593,     0.96598,     0.96602,     0.96607,     0.96612,     0.96617,     0.96622,     0.96626,     0.96631,     0.96636,     0.96641,     0.96646,      0.9665,     0.96655,      0.9666,     0.96665,      0.9667,     0.96675,     0.96679,     0.96684,     0.96689,     0.96694,\n",
       "            0.96699,     0.96703,     0.96708,     0.96713,     0.96718,     0.96723,     0.96727,     0.96732,     0.96737,     0.96742,     0.96747,     0.96751,     0.96756,     0.96761,     0.96766,     0.96771,     0.96775,      0.9678,     0.96785,      0.9679,     0.96795,     0.96799,     0.96804,\n",
       "            0.96809,     0.96814,     0.96819,     0.96823,     0.96828,     0.96833,     0.96838,     0.96843,     0.96847,     0.96852,     0.96857,     0.96862,     0.96867,     0.96871,     0.96876,     0.96881,     0.96886,      0.9689,     0.96895,       0.969,     0.96905,      0.9691,     0.96914,\n",
       "            0.96919,     0.96924,     0.96929,     0.96934,     0.96938,     0.96943,     0.96948,     0.96953,     0.96957,     0.96962,     0.96967,     0.96972,     0.96976,      0.9698,     0.96985,     0.96989,     0.96994,     0.96998,     0.97002,     0.97007,     0.97011,     0.97016,      0.9702,\n",
       "            0.97024,     0.97029,     0.97033,     0.97038,     0.97042,     0.97046,     0.97051,     0.97055,      0.9706,     0.97064,     0.97068,     0.97073,     0.97077,     0.97082,     0.97086,      0.9709,     0.97095,     0.97099,     0.97103,     0.97108,     0.97112,     0.97117,     0.97121,\n",
       "            0.97125,      0.9713,     0.97134,     0.97139,     0.97143,     0.97147,     0.97152,     0.97156,      0.9716,     0.97165,     0.97169,     0.97174,     0.97178,     0.97182,     0.97187,     0.97191,     0.97196,       0.972,     0.97204,     0.97209,     0.97213,     0.97217,     0.97222,\n",
       "            0.97226,     0.97231,     0.97235,     0.97239,     0.97244,     0.97248,     0.97252,     0.97257,     0.97261,     0.97266,      0.9727,     0.97274,     0.97279,     0.97283,     0.97287,     0.97292,     0.97296,     0.97301,     0.97305,     0.97309,     0.97314,     0.97318,     0.97322,\n",
       "            0.97327,     0.97331,     0.97335,      0.9734,     0.97344,     0.97349,     0.97353,     0.97357,     0.97362,     0.97366,      0.9737,     0.97375,     0.97379,     0.97383,     0.97388,     0.97392,     0.97397,     0.97401,     0.97405,      0.9741,     0.97414,     0.97418,     0.97423,\n",
       "            0.97427,     0.97431,     0.97436,      0.9744,     0.97445,     0.97449,     0.97453,     0.97458,     0.97462,     0.97466,     0.97471,     0.97475,     0.97479,     0.97484,     0.97488,     0.97492,     0.97497,     0.97501,     0.97506,      0.9751,     0.97514,     0.97519,     0.97523,\n",
       "            0.97527,     0.97532,     0.97536,      0.9754,     0.97545,     0.97549,     0.97553,     0.97558,     0.97562,     0.97566,     0.97571,     0.97575,     0.97579,     0.97584,     0.97588,     0.97592,     0.97597,     0.97601,     0.97606,      0.9761,     0.97614,     0.97619,     0.97623,\n",
       "            0.97627,     0.97632,     0.97636,      0.9764,     0.97645,     0.97649,     0.97653,     0.97658,     0.97662,     0.97666,     0.97671,     0.97675,     0.97679,     0.97684,     0.97688,     0.97692,     0.97697,     0.97701,     0.97705,      0.9771,     0.97786,     0.97867,     0.97948,\n",
       "            0.98028,     0.98108,     0.98188,     0.98268,     0.98348,     0.98428,     0.98448,     0.98424,     0.98401,     0.98378,     0.98354,     0.98331,     0.98307,     0.98284,      0.9826,     0.98237,     0.98213,     0.98189,     0.98166,     0.98142,     0.98119,     0.98095,     0.98072,\n",
       "            0.98048,     0.98024,     0.98001,     0.97977,     0.97953,      0.9793,     0.97906,     0.97882,     0.97859,     0.97835,     0.97811,     0.97788,     0.97764,      0.9774,     0.97716,     0.97693,     0.97676,     0.97683,     0.97689,     0.97696,     0.97703,     0.97709,     0.97716,\n",
       "            0.97723,     0.97729,     0.97736,     0.97743,      0.9775,     0.97756,     0.97763,      0.9777,     0.97776,     0.97783,      0.9779,     0.97796,     0.97803,      0.9781,     0.97816,     0.97823,      0.9783,     0.97836,     0.97843,      0.9785,     0.97856,     0.97863,      0.9787,\n",
       "            0.97876,     0.97883,      0.9789,     0.97896,     0.97903,      0.9791,     0.97916,     0.97923,      0.9793,     0.97936,     0.97943,      0.9795,     0.97956,     0.97963,      0.9797,     0.97976,     0.97983,      0.9799,     0.97996,     0.98003,      0.9801,     0.98016,     0.98023,\n",
       "            0.98029,     0.98036,     0.98043,     0.98049,     0.98056,     0.98063,     0.98069,     0.98076,     0.98083,     0.98089,     0.98096,     0.98103,     0.98109,     0.98116,     0.98122,     0.98129,     0.98136,     0.98142,     0.98149,     0.98156,     0.98162,     0.98169,     0.98175,\n",
       "            0.98182,     0.98189,     0.98195,     0.98202,     0.98209,     0.98215,     0.98222,     0.98228,     0.98235,     0.98242,     0.98248,     0.98255,     0.98262,     0.98268,     0.98275,     0.98281,     0.98288,     0.98295,     0.98301,     0.98308,     0.98314,     0.98321,     0.98328,\n",
       "            0.98334,     0.98341,     0.98347,     0.98354,     0.98361,     0.98367,     0.98374,      0.9838,     0.98387,     0.98394,       0.984,     0.98407,     0.98413,      0.9842,     0.98427,     0.98433,      0.9844,     0.98448,     0.98455,     0.98463,      0.9847,     0.98478,     0.98485,\n",
       "            0.98492,       0.985,     0.98507,     0.98515,     0.98522,      0.9853,     0.98537,     0.98545,     0.98552,      0.9856,     0.98567,     0.98575,     0.98582,     0.98589,     0.98597,     0.98604,     0.98612,     0.98619,     0.98627,     0.98634,     0.98642,     0.98649,     0.98657,\n",
       "            0.98664,     0.98671,     0.98679,     0.98686,     0.98694,     0.98701,     0.98709,     0.98716,     0.98723,     0.98731,     0.98738,     0.98746,     0.98753,     0.98761,     0.98768,     0.98775,     0.98783,      0.9879,     0.98798,     0.98805,     0.98813,      0.9882,     0.98827,\n",
       "            0.98835,     0.98842,      0.9885,     0.98857,     0.98864,     0.98872,     0.98879,     0.98887,     0.98894,     0.98902,     0.98909,     0.98916,     0.98924,     0.98931,     0.98939,     0.98946,     0.98953,     0.98961,     0.98968,     0.98976,     0.98983,      0.9899,     0.98998,\n",
       "            0.99005,     0.99013,      0.9902,     0.99027,     0.99035,     0.99042,     0.99049,     0.99057,     0.99064,     0.99072,     0.99079,     0.99086,     0.99094,     0.99101,     0.99108,     0.99116,     0.99123,     0.99131,     0.99138,     0.99145,     0.99153,      0.9916,     0.99167,\n",
       "            0.99175,     0.99182,      0.9919,     0.99197,     0.99204,     0.99212,       0.992,     0.99186,     0.99171,     0.99157,     0.99143,     0.99128,     0.99114,     0.99099,     0.99085,     0.99071,     0.99056,     0.99042,     0.99027,     0.99013,     0.98998,     0.98984,      0.9897,\n",
       "            0.98955,     0.98941,     0.98926,     0.98912,     0.98897,     0.98883,     0.98868,     0.98854,     0.98839,     0.98825,      0.9881,     0.98796,     0.98781,     0.98767,     0.98752,     0.98738,     0.98723,     0.98709,     0.98694,      0.9868,     0.98665,     0.98651,     0.98636,\n",
       "            0.98622,     0.98607,     0.98593,     0.98578,     0.98564,     0.98549,     0.98534,      0.9852,     0.98505,     0.98491,     0.98476,     0.98462,     0.98447,     0.98432,     0.98418,     0.98337,     0.98221,     0.98105,     0.97988,     0.97871,     0.97754,     0.97637,     0.97568,\n",
       "            0.97522,     0.97475,     0.97429,     0.97383,     0.97336,      0.9729,     0.97243,     0.97196,      0.9715,     0.97103,     0.97056,     0.97009,     0.96962,     0.96916,     0.96869,     0.96822,     0.96775,     0.96721,     0.96668,     0.96615,     0.96562,     0.96508,     0.96455,\n",
       "            0.96401,     0.96348,     0.96294,     0.96241,     0.96187,     0.96133,     0.96079,     0.96026,     0.95972,     0.95913,     0.95844,     0.95775,     0.95706,     0.95637,     0.95567,     0.95498,     0.95429,     0.95359,      0.9529,      0.9522,      0.9515,     0.95075,     0.94822,\n",
       "            0.94567,     0.94311,     0.94156,     0.94061,     0.93967,     0.93872,     0.93777,     0.93681,     0.93586,      0.9349,     0.93395,     0.93197,     0.92818,     0.92437,     0.92338,      0.9224,     0.92141,     0.92043,     0.91944,     0.91844,     0.91745,     0.91646,     0.91546,\n",
       "            0.91152,      0.9068,     0.90545,     0.90481,     0.90417,     0.90352,     0.90288,     0.90224,     0.90159,     0.90094,      0.9003,     0.89965,       0.899,     0.89835,      0.8977,     0.89705,     0.89531,     0.88992,     0.88379,     0.87635,     0.85882,     0.85537,     0.85345,\n",
       "            0.85153,      0.8496,     0.84766,     0.83552,     0.82529,     0.82325,      0.8212,     0.81915,     0.81709,     0.81502,     0.80992,     0.80443,     0.80172,     0.79941,      0.7971,     0.79477,     0.79241,     0.78839,     0.78433,     0.77487,     0.76557,      0.7612,     0.75654,\n",
       "            0.74963,     0.74348,     0.73882,     0.73413,     0.71764,     0.70543,     0.69674,      0.6782,     0.67111,     0.66324,     0.65413,     0.63999,     0.60861,     0.59381,     0.56658,     0.52961,     0.48687,     0.45363,     0.42655,     0.41024,     0.38222,     0.36039,     0.35197,\n",
       "            0.34438,     0.33512,     0.31365,     0.26992,     0.25099,     0.24387,     0.24034,     0.23679,     0.23323,     0.22966,     0.22607,     0.22247,     0.19875,     0.18086,     0.15519,      0.1356,     0.12231,     0.10986,    0.097802,    0.078292,           0,           0,           0,\n",
       "                  0,           0,           0,           0,           0,           0,           0,           0,           0,           0,           0,           0,           0,           0,           0,           0,           0,           0,           0,           0,           0,           0,           0,\n",
       "                  0,           0,           0,           0,           0,           0,           0,           0,           0,           0,           0]]), 'Confidence', 'F1'], [array([          0,    0.001001,    0.002002,    0.003003,    0.004004,    0.005005,    0.006006,    0.007007,    0.008008,    0.009009,     0.01001,    0.011011,    0.012012,    0.013013,    0.014014,    0.015015,    0.016016,    0.017017,    0.018018,    0.019019,     0.02002,    0.021021,    0.022022,    0.023023,\n",
       "          0.024024,    0.025025,    0.026026,    0.027027,    0.028028,    0.029029,     0.03003,    0.031031,    0.032032,    0.033033,    0.034034,    0.035035,    0.036036,    0.037037,    0.038038,    0.039039,     0.04004,    0.041041,    0.042042,    0.043043,    0.044044,    0.045045,    0.046046,    0.047047,\n",
       "          0.048048,    0.049049,     0.05005,    0.051051,    0.052052,    0.053053,    0.054054,    0.055055,    0.056056,    0.057057,    0.058058,    0.059059,     0.06006,    0.061061,    0.062062,    0.063063,    0.064064,    0.065065,    0.066066,    0.067067,    0.068068,    0.069069,     0.07007,    0.071071,\n",
       "          0.072072,    0.073073,    0.074074,    0.075075,    0.076076,    0.077077,    0.078078,    0.079079,     0.08008,    0.081081,    0.082082,    0.083083,    0.084084,    0.085085,    0.086086,    0.087087,    0.088088,    0.089089,     0.09009,    0.091091,    0.092092,    0.093093,    0.094094,    0.095095,\n",
       "          0.096096,    0.097097,    0.098098,    0.099099,      0.1001,      0.1011,      0.1021,      0.1031,      0.1041,     0.10511,     0.10611,     0.10711,     0.10811,     0.10911,     0.11011,     0.11111,     0.11211,     0.11311,     0.11411,     0.11512,     0.11612,     0.11712,     0.11812,     0.11912,\n",
       "           0.12012,     0.12112,     0.12212,     0.12312,     0.12412,     0.12513,     0.12613,     0.12713,     0.12813,     0.12913,     0.13013,     0.13113,     0.13213,     0.13313,     0.13413,     0.13514,     0.13614,     0.13714,     0.13814,     0.13914,     0.14014,     0.14114,     0.14214,     0.14314,\n",
       "           0.14414,     0.14515,     0.14615,     0.14715,     0.14815,     0.14915,     0.15015,     0.15115,     0.15215,     0.15315,     0.15415,     0.15516,     0.15616,     0.15716,     0.15816,     0.15916,     0.16016,     0.16116,     0.16216,     0.16316,     0.16416,     0.16517,     0.16617,     0.16717,\n",
       "           0.16817,     0.16917,     0.17017,     0.17117,     0.17217,     0.17317,     0.17417,     0.17518,     0.17618,     0.17718,     0.17818,     0.17918,     0.18018,     0.18118,     0.18218,     0.18318,     0.18418,     0.18519,     0.18619,     0.18719,     0.18819,     0.18919,     0.19019,     0.19119,\n",
       "           0.19219,     0.19319,     0.19419,      0.1952,      0.1962,      0.1972,      0.1982,      0.1992,      0.2002,      0.2012,      0.2022,      0.2032,      0.2042,     0.20521,     0.20621,     0.20721,     0.20821,     0.20921,     0.21021,     0.21121,     0.21221,     0.21321,     0.21421,     0.21522,\n",
       "           0.21622,     0.21722,     0.21822,     0.21922,     0.22022,     0.22122,     0.22222,     0.22322,     0.22422,     0.22523,     0.22623,     0.22723,     0.22823,     0.22923,     0.23023,     0.23123,     0.23223,     0.23323,     0.23423,     0.23524,     0.23624,     0.23724,     0.23824,     0.23924,\n",
       "           0.24024,     0.24124,     0.24224,     0.24324,     0.24424,     0.24525,     0.24625,     0.24725,     0.24825,     0.24925,     0.25025,     0.25125,     0.25225,     0.25325,     0.25425,     0.25526,     0.25626,     0.25726,     0.25826,     0.25926,     0.26026,     0.26126,     0.26226,     0.26326,\n",
       "           0.26426,     0.26527,     0.26627,     0.26727,     0.26827,     0.26927,     0.27027,     0.27127,     0.27227,     0.27327,     0.27427,     0.27528,     0.27628,     0.27728,     0.27828,     0.27928,     0.28028,     0.28128,     0.28228,     0.28328,     0.28428,     0.28529,     0.28629,     0.28729,\n",
       "           0.28829,     0.28929,     0.29029,     0.29129,     0.29229,     0.29329,     0.29429,      0.2953,      0.2963,      0.2973,      0.2983,      0.2993,      0.3003,      0.3013,      0.3023,      0.3033,      0.3043,     0.30531,     0.30631,     0.30731,     0.30831,     0.30931,     0.31031,     0.31131,\n",
       "           0.31231,     0.31331,     0.31431,     0.31532,     0.31632,     0.31732,     0.31832,     0.31932,     0.32032,     0.32132,     0.32232,     0.32332,     0.32432,     0.32533,     0.32633,     0.32733,     0.32833,     0.32933,     0.33033,     0.33133,     0.33233,     0.33333,     0.33433,     0.33534,\n",
       "           0.33634,     0.33734,     0.33834,     0.33934,     0.34034,     0.34134,     0.34234,     0.34334,     0.34434,     0.34535,     0.34635,     0.34735,     0.34835,     0.34935,     0.35035,     0.35135,     0.35235,     0.35335,     0.35435,     0.35536,     0.35636,     0.35736,     0.35836,     0.35936,\n",
       "           0.36036,     0.36136,     0.36236,     0.36336,     0.36436,     0.36537,     0.36637,     0.36737,     0.36837,     0.36937,     0.37037,     0.37137,     0.37237,     0.37337,     0.37437,     0.37538,     0.37638,     0.37738,     0.37838,     0.37938,     0.38038,     0.38138,     0.38238,     0.38338,\n",
       "           0.38438,     0.38539,     0.38639,     0.38739,     0.38839,     0.38939,     0.39039,     0.39139,     0.39239,     0.39339,     0.39439,      0.3954,      0.3964,      0.3974,      0.3984,      0.3994,      0.4004,      0.4014,      0.4024,      0.4034,      0.4044,     0.40541,     0.40641,     0.40741,\n",
       "           0.40841,     0.40941,     0.41041,     0.41141,     0.41241,     0.41341,     0.41441,     0.41542,     0.41642,     0.41742,     0.41842,     0.41942,     0.42042,     0.42142,     0.42242,     0.42342,     0.42442,     0.42543,     0.42643,     0.42743,     0.42843,     0.42943,     0.43043,     0.43143,\n",
       "           0.43243,     0.43343,     0.43443,     0.43544,     0.43644,     0.43744,     0.43844,     0.43944,     0.44044,     0.44144,     0.44244,     0.44344,     0.44444,     0.44545,     0.44645,     0.44745,     0.44845,     0.44945,     0.45045,     0.45145,     0.45245,     0.45345,     0.45445,     0.45546,\n",
       "           0.45646,     0.45746,     0.45846,     0.45946,     0.46046,     0.46146,     0.46246,     0.46346,     0.46446,     0.46547,     0.46647,     0.46747,     0.46847,     0.46947,     0.47047,     0.47147,     0.47247,     0.47347,     0.47447,     0.47548,     0.47648,     0.47748,     0.47848,     0.47948,\n",
       "           0.48048,     0.48148,     0.48248,     0.48348,     0.48448,     0.48549,     0.48649,     0.48749,     0.48849,     0.48949,     0.49049,     0.49149,     0.49249,     0.49349,     0.49449,      0.4955,      0.4965,      0.4975,      0.4985,      0.4995,      0.5005,      0.5015,      0.5025,      0.5035,\n",
       "            0.5045,     0.50551,     0.50651,     0.50751,     0.50851,     0.50951,     0.51051,     0.51151,     0.51251,     0.51351,     0.51451,     0.51552,     0.51652,     0.51752,     0.51852,     0.51952,     0.52052,     0.52152,     0.52252,     0.52352,     0.52452,     0.52553,     0.52653,     0.52753,\n",
       "           0.52853,     0.52953,     0.53053,     0.53153,     0.53253,     0.53353,     0.53453,     0.53554,     0.53654,     0.53754,     0.53854,     0.53954,     0.54054,     0.54154,     0.54254,     0.54354,     0.54454,     0.54555,     0.54655,     0.54755,     0.54855,     0.54955,     0.55055,     0.55155,\n",
       "           0.55255,     0.55355,     0.55455,     0.55556,     0.55656,     0.55756,     0.55856,     0.55956,     0.56056,     0.56156,     0.56256,     0.56356,     0.56456,     0.56557,     0.56657,     0.56757,     0.56857,     0.56957,     0.57057,     0.57157,     0.57257,     0.57357,     0.57457,     0.57558,\n",
       "           0.57658,     0.57758,     0.57858,     0.57958,     0.58058,     0.58158,     0.58258,     0.58358,     0.58458,     0.58559,     0.58659,     0.58759,     0.58859,     0.58959,     0.59059,     0.59159,     0.59259,     0.59359,     0.59459,      0.5956,      0.5966,      0.5976,      0.5986,      0.5996,\n",
       "            0.6006,      0.6016,      0.6026,      0.6036,      0.6046,     0.60561,     0.60661,     0.60761,     0.60861,     0.60961,     0.61061,     0.61161,     0.61261,     0.61361,     0.61461,     0.61562,     0.61662,     0.61762,     0.61862,     0.61962,     0.62062,     0.62162,     0.62262,     0.62362,\n",
       "           0.62462,     0.62563,     0.62663,     0.62763,     0.62863,     0.62963,     0.63063,     0.63163,     0.63263,     0.63363,     0.63463,     0.63564,     0.63664,     0.63764,     0.63864,     0.63964,     0.64064,     0.64164,     0.64264,     0.64364,     0.64464,     0.64565,     0.64665,     0.64765,\n",
       "           0.64865,     0.64965,     0.65065,     0.65165,     0.65265,     0.65365,     0.65465,     0.65566,     0.65666,     0.65766,     0.65866,     0.65966,     0.66066,     0.66166,     0.66266,     0.66366,     0.66466,     0.66567,     0.66667,     0.66767,     0.66867,     0.66967,     0.67067,     0.67167,\n",
       "           0.67267,     0.67367,     0.67467,     0.67568,     0.67668,     0.67768,     0.67868,     0.67968,     0.68068,     0.68168,     0.68268,     0.68368,     0.68468,     0.68569,     0.68669,     0.68769,     0.68869,     0.68969,     0.69069,     0.69169,     0.69269,     0.69369,     0.69469,      0.6957,\n",
       "            0.6967,      0.6977,      0.6987,      0.6997,      0.7007,      0.7017,      0.7027,      0.7037,      0.7047,     0.70571,     0.70671,     0.70771,     0.70871,     0.70971,     0.71071,     0.71171,     0.71271,     0.71371,     0.71471,     0.71572,     0.71672,     0.71772,     0.71872,     0.71972,\n",
       "           0.72072,     0.72172,     0.72272,     0.72372,     0.72472,     0.72573,     0.72673,     0.72773,     0.72873,     0.72973,     0.73073,     0.73173,     0.73273,     0.73373,     0.73473,     0.73574,     0.73674,     0.73774,     0.73874,     0.73974,     0.74074,     0.74174,     0.74274,     0.74374,\n",
       "           0.74474,     0.74575,     0.74675,     0.74775,     0.74875,     0.74975,     0.75075,     0.75175,     0.75275,     0.75375,     0.75475,     0.75576,     0.75676,     0.75776,     0.75876,     0.75976,     0.76076,     0.76176,     0.76276,     0.76376,     0.76476,     0.76577,     0.76677,     0.76777,\n",
       "           0.76877,     0.76977,     0.77077,     0.77177,     0.77277,     0.77377,     0.77477,     0.77578,     0.77678,     0.77778,     0.77878,     0.77978,     0.78078,     0.78178,     0.78278,     0.78378,     0.78478,     0.78579,     0.78679,     0.78779,     0.78879,     0.78979,     0.79079,     0.79179,\n",
       "           0.79279,     0.79379,     0.79479,      0.7958,      0.7968,      0.7978,      0.7988,      0.7998,      0.8008,      0.8018,      0.8028,      0.8038,      0.8048,     0.80581,     0.80681,     0.80781,     0.80881,     0.80981,     0.81081,     0.81181,     0.81281,     0.81381,     0.81481,     0.81582,\n",
       "           0.81682,     0.81782,     0.81882,     0.81982,     0.82082,     0.82182,     0.82282,     0.82382,     0.82482,     0.82583,     0.82683,     0.82783,     0.82883,     0.82983,     0.83083,     0.83183,     0.83283,     0.83383,     0.83483,     0.83584,     0.83684,     0.83784,     0.83884,     0.83984,\n",
       "           0.84084,     0.84184,     0.84284,     0.84384,     0.84484,     0.84585,     0.84685,     0.84785,     0.84885,     0.84985,     0.85085,     0.85185,     0.85285,     0.85385,     0.85485,     0.85586,     0.85686,     0.85786,     0.85886,     0.85986,     0.86086,     0.86186,     0.86286,     0.86386,\n",
       "           0.86486,     0.86587,     0.86687,     0.86787,     0.86887,     0.86987,     0.87087,     0.87187,     0.87287,     0.87387,     0.87487,     0.87588,     0.87688,     0.87788,     0.87888,     0.87988,     0.88088,     0.88188,     0.88288,     0.88388,     0.88488,     0.88589,     0.88689,     0.88789,\n",
       "           0.88889,     0.88989,     0.89089,     0.89189,     0.89289,     0.89389,     0.89489,      0.8959,      0.8969,      0.8979,      0.8989,      0.8999,      0.9009,      0.9019,      0.9029,      0.9039,      0.9049,     0.90591,     0.90691,     0.90791,     0.90891,     0.90991,     0.91091,     0.91191,\n",
       "           0.91291,     0.91391,     0.91491,     0.91592,     0.91692,     0.91792,     0.91892,     0.91992,     0.92092,     0.92192,     0.92292,     0.92392,     0.92492,     0.92593,     0.92693,     0.92793,     0.92893,     0.92993,     0.93093,     0.93193,     0.93293,     0.93393,     0.93493,     0.93594,\n",
       "           0.93694,     0.93794,     0.93894,     0.93994,     0.94094,     0.94194,     0.94294,     0.94394,     0.94494,     0.94595,     0.94695,     0.94795,     0.94895,     0.94995,     0.95095,     0.95195,     0.95295,     0.95395,     0.95495,     0.95596,     0.95696,     0.95796,     0.95896,     0.95996,\n",
       "           0.96096,     0.96196,     0.96296,     0.96396,     0.96496,     0.96597,     0.96697,     0.96797,     0.96897,     0.96997,     0.97097,     0.97197,     0.97297,     0.97397,     0.97497,     0.97598,     0.97698,     0.97798,     0.97898,     0.97998,     0.98098,     0.98198,     0.98298,     0.98398,\n",
       "           0.98498,     0.98599,     0.98699,     0.98799,     0.98899,     0.98999,     0.99099,     0.99199,     0.99299,     0.99399,     0.99499,       0.996,       0.997,       0.998,       0.999,           1]), array([[   0.089261,    0.089261,     0.15337,     0.19587,     0.24671,     0.27925,     0.31794,     0.35237,      0.3798,     0.40382,     0.43901,     0.47129,     0.49888,      0.5245,     0.53735,      0.5553,     0.57341,     0.58078,     0.59872,     0.60716,     0.62202,     0.63071,     0.65991,\n",
       "            0.68232,     0.71414,     0.72827,     0.73281,     0.74249,     0.76037,     0.77449,     0.77926,     0.78199,     0.78401,     0.78603,     0.78804,     0.79006,     0.80783,     0.81211,     0.81473,     0.81735,     0.81997,     0.82312,     0.82642,     0.82972,     0.83356,     0.83784,\n",
       "            0.84212,     0.84879,     0.85409,     0.85647,     0.85885,     0.86123,     0.86361,     0.87461,     0.88893,     0.88937,      0.8898,     0.89024,     0.89068,     0.89112,     0.89156,       0.892,     0.89243,     0.89287,     0.89331,     0.89375,     0.89419,     0.89462,     0.89506,\n",
       "             0.8955,     0.89594,     0.89638,     0.89682,     0.89725,     0.89769,     0.89813,     0.89857,     0.89901,     0.89944,     0.89988,     0.90032,     0.90076,      0.9012,     0.90491,     0.91167,      0.9144,     0.91458,     0.91476,     0.91493,     0.91511,     0.91529,     0.91547,\n",
       "            0.91565,     0.91583,     0.91601,     0.91619,     0.91637,     0.91655,     0.91673,     0.91691,     0.91709,     0.91727,     0.91745,     0.91763,     0.91781,     0.91799,     0.91817,     0.91835,     0.91853,     0.91871,     0.91889,     0.91907,     0.91925,     0.91943,     0.91961,\n",
       "            0.91979,     0.91997,     0.92015,     0.92032,      0.9205,     0.92068,     0.92086,     0.92104,     0.92122,      0.9214,     0.92158,     0.92176,     0.92194,     0.92212,      0.9223,     0.92248,     0.92266,     0.92284,     0.92302,      0.9232,     0.92338,     0.92356,     0.92374,\n",
       "            0.92392,      0.9241,     0.92428,     0.92446,     0.92464,     0.92482,       0.925,     0.92518,     0.92536,     0.92554,     0.92571,     0.92589,     0.92607,     0.92625,     0.92643,     0.92661,     0.92679,     0.92697,     0.92715,     0.92733,     0.92751,     0.92761,      0.9277,\n",
       "            0.92779,     0.92788,     0.92797,     0.92806,     0.92815,     0.92824,     0.92833,     0.92842,     0.92851,      0.9286,     0.92869,     0.92878,     0.92888,     0.92897,     0.92906,     0.92915,     0.92924,     0.92933,     0.92942,     0.92951,      0.9296,     0.92969,     0.92978,\n",
       "            0.92987,     0.92996,     0.93005,     0.93014,     0.93023,     0.93032,     0.93041,      0.9305,     0.93059,     0.93068,     0.93077,     0.93086,     0.93095,     0.93104,     0.93113,     0.93122,     0.93131,      0.9314,     0.93149,     0.93158,     0.93167,     0.93176,     0.93185,\n",
       "            0.93194,     0.93203,     0.93212,     0.93221,      0.9323,     0.93239,     0.93248,     0.93257,     0.93266,     0.93275,     0.93284,     0.93293,     0.93302,     0.93311,      0.9332,     0.93329,     0.93338,     0.93347,     0.93356,     0.93365,     0.93374,     0.93383,     0.93392,\n",
       "            0.93401,      0.9341,     0.93419,     0.93428,     0.93437,     0.93446,     0.93455,     0.93464,     0.93473,     0.93482,     0.93491,       0.935,     0.93509,     0.93518,     0.93527,     0.93536,     0.93545,     0.93554,     0.93563,     0.93572,     0.93581,      0.9359,     0.93599,\n",
       "            0.93608,     0.93617,     0.93626,     0.93635,     0.93644,     0.93653,     0.93662,     0.93671,      0.9368,     0.93689,     0.93698,     0.93707,     0.93716,     0.93725,     0.93734,     0.93743,     0.93752,     0.93761,      0.9377,     0.93779,     0.93788,     0.93797,     0.93806,\n",
       "            0.93815,     0.93824,     0.93833,     0.93842,     0.93851,      0.9386,     0.93869,     0.93878,     0.93887,     0.93896,     0.93905,     0.93914,     0.93923,     0.93933,     0.93942,     0.93951,      0.9396,     0.93969,     0.93978,     0.93987,     0.93996,     0.94005,     0.94014,\n",
       "            0.94023,     0.94032,     0.94041,      0.9405,     0.94059,     0.94068,     0.94077,     0.94086,     0.94095,     0.94104,     0.94113,     0.94121,      0.9413,     0.94138,     0.94146,     0.94155,     0.94163,     0.94171,     0.94179,     0.94188,     0.94196,     0.94204,     0.94213,\n",
       "            0.94221,     0.94229,     0.94237,     0.94246,     0.94254,     0.94262,     0.94271,     0.94279,     0.94287,     0.94295,     0.94304,     0.94312,      0.9432,     0.94329,     0.94337,     0.94345,     0.94353,     0.94362,      0.9437,     0.94378,     0.94387,     0.94395,     0.94403,\n",
       "            0.94411,      0.9442,     0.94428,     0.94436,     0.94445,     0.94453,     0.94461,     0.94469,     0.94478,     0.94486,     0.94494,     0.94503,     0.94511,     0.94519,     0.94527,     0.94536,     0.94544,     0.94552,     0.94561,     0.94569,     0.94577,     0.94585,     0.94594,\n",
       "            0.94602,      0.9461,     0.94619,     0.94627,     0.94635,     0.94643,     0.94652,      0.9466,     0.94668,     0.94677,     0.94685,     0.94693,     0.94701,      0.9471,     0.94718,     0.94726,     0.94735,     0.94743,     0.94751,     0.94759,     0.94768,     0.94776,     0.94784,\n",
       "            0.94793,     0.94801,     0.94809,     0.94818,     0.94826,     0.94834,     0.94842,     0.94851,     0.94859,     0.94867,     0.94876,     0.94884,     0.94892,       0.949,     0.94909,     0.94917,     0.94925,     0.94934,     0.94942,      0.9495,     0.94958,     0.94967,     0.94975,\n",
       "            0.94983,     0.94992,        0.95,     0.95008,     0.95016,     0.95025,     0.95033,     0.95041,      0.9505,     0.95058,     0.95066,     0.95074,     0.95083,     0.95091,     0.95099,     0.95108,     0.95116,     0.95124,     0.95132,     0.95141,     0.95149,     0.95157,     0.95166,\n",
       "            0.95174,     0.95182,      0.9519,     0.95199,     0.95207,     0.95215,     0.95224,     0.95232,      0.9524,     0.95248,     0.95257,     0.95265,     0.95273,     0.95282,      0.9529,     0.95298,     0.95306,     0.95315,     0.95323,     0.95331,      0.9534,     0.95348,     0.95356,\n",
       "            0.95364,     0.95373,     0.95381,     0.95389,     0.95398,     0.95406,     0.95414,     0.95422,     0.95431,     0.95439,     0.95447,     0.95456,     0.95464,     0.95472,      0.9548,     0.95489,     0.95497,     0.95505,     0.95514,     0.95522,     0.95668,     0.95823,     0.95978,\n",
       "            0.96132,     0.96287,     0.96441,     0.96596,      0.9675,     0.96905,     0.96969,     0.96967,     0.96966,     0.96965,     0.96963,     0.96962,      0.9696,     0.96959,     0.96958,     0.96956,     0.96955,     0.96954,     0.96952,     0.96951,     0.96949,     0.96948,     0.96947,\n",
       "            0.96945,     0.96944,     0.96942,     0.96941,      0.9694,     0.96938,     0.96937,     0.96935,     0.96934,     0.96933,     0.96931,      0.9693,     0.96928,     0.96927,     0.96926,     0.96924,     0.96926,     0.96939,     0.96952,     0.96966,     0.96979,     0.96992,     0.97005,\n",
       "            0.97018,     0.97032,     0.97045,     0.97058,     0.97071,     0.97084,     0.97097,     0.97111,     0.97124,     0.97137,      0.9715,     0.97163,     0.97177,      0.9719,     0.97203,     0.97216,     0.97229,     0.97243,     0.97256,     0.97269,     0.97282,     0.97295,     0.97308,\n",
       "            0.97322,     0.97335,     0.97348,     0.97361,     0.97374,     0.97388,     0.97401,     0.97414,     0.97427,      0.9744,     0.97453,     0.97467,      0.9748,     0.97493,     0.97506,     0.97519,     0.97533,     0.97546,     0.97559,     0.97572,     0.97585,     0.97598,     0.97612,\n",
       "            0.97625,     0.97638,     0.97651,     0.97664,     0.97678,     0.97691,     0.97704,     0.97717,      0.9773,     0.97743,     0.97757,      0.9777,     0.97783,     0.97796,     0.97809,     0.97823,     0.97836,     0.97849,     0.97862,     0.97875,     0.97888,     0.97902,     0.97915,\n",
       "            0.97928,     0.97941,     0.97954,     0.97968,     0.97981,     0.97994,     0.98007,      0.9802,     0.98034,     0.98047,      0.9806,     0.98073,     0.98086,     0.98099,     0.98113,     0.98126,     0.98139,     0.98152,     0.98165,     0.98179,     0.98192,     0.98205,     0.98218,\n",
       "            0.98231,     0.98244,     0.98258,     0.98271,     0.98284,     0.98297,      0.9831,     0.98324,     0.98337,      0.9835,     0.98363,     0.98376,     0.98389,     0.98403,     0.98416,     0.98429,     0.98443,     0.98458,     0.98473,     0.98488,     0.98503,     0.98518,     0.98533,\n",
       "            0.98547,     0.98562,     0.98577,     0.98592,     0.98607,     0.98622,     0.98637,     0.98652,     0.98667,     0.98682,     0.98697,     0.98712,     0.98727,     0.98742,     0.98757,     0.98772,     0.98787,     0.98802,     0.98817,     0.98832,     0.98847,     0.98862,     0.98876,\n",
       "            0.98891,     0.98906,     0.98921,     0.98936,     0.98951,     0.98966,     0.98981,     0.98996,     0.99011,     0.99026,     0.99041,     0.99056,     0.99071,     0.99086,     0.99101,     0.99116,     0.99131,     0.99146,     0.99161,     0.99176,     0.99191,     0.99205,      0.9922,\n",
       "            0.99235,      0.9925,     0.99265,      0.9928,     0.99295,      0.9931,     0.99325,      0.9934,     0.99355,      0.9937,     0.99385,       0.994,     0.99415,      0.9943,     0.99445,      0.9946,     0.99475,      0.9949,     0.99505,      0.9952,     0.99534,     0.99549,     0.99564,\n",
       "            0.99579,     0.99594,     0.99609,     0.99624,     0.99639,     0.99654,     0.99669,     0.99684,     0.99699,     0.99714,     0.99729,     0.99744,     0.99759,     0.99774,     0.99789,     0.99804,     0.99819,     0.99834,     0.99849,     0.99863,     0.99878,     0.99893,     0.99908,\n",
       "            0.99923,     0.99938,     0.99953,     0.99968,     0.99983,     0.99998,           1,           1,           1,           1,           1,           1,           1,           1,           1,           1,           1,           1,           1,           1,           1,           1,           1,\n",
       "                  1,           1,           1,           1,           1,           1,           1,           1,           1,           1,           1,           1,           1,           1,           1,           1,           1,           1,           1,           1,           1,           1,           1,\n",
       "                  1,           1,           1,           1,           1,           1,           1,           1,           1,           1,           1,           1,           1,           1,           1,           1,           1,           1,           1,           1,           1,           1,           1,\n",
       "                  1,           1,           1,           1,           1,           1,           1,           1,           1,           1,           1,           1,           1,           1,           1,           1,           1,           1,           1,           1,           1,           1,           1,\n",
       "                  1,           1,           1,           1,           1,           1,           1,           1,           1,           1,           1,           1,           1,           1,           1,           1,           1,           1,           1,           1,           1,           1,           1,\n",
       "                  1,           1,           1,           1,           1,           1,           1,           1,           1,           1,           1,           1,           1,           1,           1,           1,           1,           1,           1,           1,           1,           1,           1,\n",
       "                  1,           1,           1,           1,           1,           1,           1,           1,           1,           1,           1,           1,           1,           1,           1,           1,           1,           1,           1,           1,           1,           1,           1,\n",
       "                  1,           1,           1,           1,           1,           1,           1,           1,           1,           1,           1,           1,           1,           1,           1,           1,           1,           1,           1,           1,           1,           1,           1,\n",
       "                  1,           1,           1,           1,           1,           1,           1,           1,           1,           1,           1,           1,           1,           1,           1,           1,           1,           1,           1,           1,           1,           1,           1,\n",
       "                  1,           1,           1,           1,           1,           1,           1,           1,           1,           1,           1,           1,           1,           1,           1,           1,           1,           1,           1,           1,           1,           1,           1,\n",
       "                  1,           1,           1,           1,           1,           1,           1,           1,           1,           1,           1,           1,           1,           1,           1,           1,           1,           1,           1,           1,           1,           1,           1,\n",
       "                  1,           1,           1,           1,           1,           1,           1,           1,           1,           1,           1]]), 'Confidence', 'Precision'], [array([          0,    0.001001,    0.002002,    0.003003,    0.004004,    0.005005,    0.006006,    0.007007,    0.008008,    0.009009,     0.01001,    0.011011,    0.012012,    0.013013,    0.014014,    0.015015,    0.016016,    0.017017,    0.018018,    0.019019,     0.02002,    0.021021,    0.022022,    0.023023,\n",
       "          0.024024,    0.025025,    0.026026,    0.027027,    0.028028,    0.029029,     0.03003,    0.031031,    0.032032,    0.033033,    0.034034,    0.035035,    0.036036,    0.037037,    0.038038,    0.039039,     0.04004,    0.041041,    0.042042,    0.043043,    0.044044,    0.045045,    0.046046,    0.047047,\n",
       "          0.048048,    0.049049,     0.05005,    0.051051,    0.052052,    0.053053,    0.054054,    0.055055,    0.056056,    0.057057,    0.058058,    0.059059,     0.06006,    0.061061,    0.062062,    0.063063,    0.064064,    0.065065,    0.066066,    0.067067,    0.068068,    0.069069,     0.07007,    0.071071,\n",
       "          0.072072,    0.073073,    0.074074,    0.075075,    0.076076,    0.077077,    0.078078,    0.079079,     0.08008,    0.081081,    0.082082,    0.083083,    0.084084,    0.085085,    0.086086,    0.087087,    0.088088,    0.089089,     0.09009,    0.091091,    0.092092,    0.093093,    0.094094,    0.095095,\n",
       "          0.096096,    0.097097,    0.098098,    0.099099,      0.1001,      0.1011,      0.1021,      0.1031,      0.1041,     0.10511,     0.10611,     0.10711,     0.10811,     0.10911,     0.11011,     0.11111,     0.11211,     0.11311,     0.11411,     0.11512,     0.11612,     0.11712,     0.11812,     0.11912,\n",
       "           0.12012,     0.12112,     0.12212,     0.12312,     0.12412,     0.12513,     0.12613,     0.12713,     0.12813,     0.12913,     0.13013,     0.13113,     0.13213,     0.13313,     0.13413,     0.13514,     0.13614,     0.13714,     0.13814,     0.13914,     0.14014,     0.14114,     0.14214,     0.14314,\n",
       "           0.14414,     0.14515,     0.14615,     0.14715,     0.14815,     0.14915,     0.15015,     0.15115,     0.15215,     0.15315,     0.15415,     0.15516,     0.15616,     0.15716,     0.15816,     0.15916,     0.16016,     0.16116,     0.16216,     0.16316,     0.16416,     0.16517,     0.16617,     0.16717,\n",
       "           0.16817,     0.16917,     0.17017,     0.17117,     0.17217,     0.17317,     0.17417,     0.17518,     0.17618,     0.17718,     0.17818,     0.17918,     0.18018,     0.18118,     0.18218,     0.18318,     0.18418,     0.18519,     0.18619,     0.18719,     0.18819,     0.18919,     0.19019,     0.19119,\n",
       "           0.19219,     0.19319,     0.19419,      0.1952,      0.1962,      0.1972,      0.1982,      0.1992,      0.2002,      0.2012,      0.2022,      0.2032,      0.2042,     0.20521,     0.20621,     0.20721,     0.20821,     0.20921,     0.21021,     0.21121,     0.21221,     0.21321,     0.21421,     0.21522,\n",
       "           0.21622,     0.21722,     0.21822,     0.21922,     0.22022,     0.22122,     0.22222,     0.22322,     0.22422,     0.22523,     0.22623,     0.22723,     0.22823,     0.22923,     0.23023,     0.23123,     0.23223,     0.23323,     0.23423,     0.23524,     0.23624,     0.23724,     0.23824,     0.23924,\n",
       "           0.24024,     0.24124,     0.24224,     0.24324,     0.24424,     0.24525,     0.24625,     0.24725,     0.24825,     0.24925,     0.25025,     0.25125,     0.25225,     0.25325,     0.25425,     0.25526,     0.25626,     0.25726,     0.25826,     0.25926,     0.26026,     0.26126,     0.26226,     0.26326,\n",
       "           0.26426,     0.26527,     0.26627,     0.26727,     0.26827,     0.26927,     0.27027,     0.27127,     0.27227,     0.27327,     0.27427,     0.27528,     0.27628,     0.27728,     0.27828,     0.27928,     0.28028,     0.28128,     0.28228,     0.28328,     0.28428,     0.28529,     0.28629,     0.28729,\n",
       "           0.28829,     0.28929,     0.29029,     0.29129,     0.29229,     0.29329,     0.29429,      0.2953,      0.2963,      0.2973,      0.2983,      0.2993,      0.3003,      0.3013,      0.3023,      0.3033,      0.3043,     0.30531,     0.30631,     0.30731,     0.30831,     0.30931,     0.31031,     0.31131,\n",
       "           0.31231,     0.31331,     0.31431,     0.31532,     0.31632,     0.31732,     0.31832,     0.31932,     0.32032,     0.32132,     0.32232,     0.32332,     0.32432,     0.32533,     0.32633,     0.32733,     0.32833,     0.32933,     0.33033,     0.33133,     0.33233,     0.33333,     0.33433,     0.33534,\n",
       "           0.33634,     0.33734,     0.33834,     0.33934,     0.34034,     0.34134,     0.34234,     0.34334,     0.34434,     0.34535,     0.34635,     0.34735,     0.34835,     0.34935,     0.35035,     0.35135,     0.35235,     0.35335,     0.35435,     0.35536,     0.35636,     0.35736,     0.35836,     0.35936,\n",
       "           0.36036,     0.36136,     0.36236,     0.36336,     0.36436,     0.36537,     0.36637,     0.36737,     0.36837,     0.36937,     0.37037,     0.37137,     0.37237,     0.37337,     0.37437,     0.37538,     0.37638,     0.37738,     0.37838,     0.37938,     0.38038,     0.38138,     0.38238,     0.38338,\n",
       "           0.38438,     0.38539,     0.38639,     0.38739,     0.38839,     0.38939,     0.39039,     0.39139,     0.39239,     0.39339,     0.39439,      0.3954,      0.3964,      0.3974,      0.3984,      0.3994,      0.4004,      0.4014,      0.4024,      0.4034,      0.4044,     0.40541,     0.40641,     0.40741,\n",
       "           0.40841,     0.40941,     0.41041,     0.41141,     0.41241,     0.41341,     0.41441,     0.41542,     0.41642,     0.41742,     0.41842,     0.41942,     0.42042,     0.42142,     0.42242,     0.42342,     0.42442,     0.42543,     0.42643,     0.42743,     0.42843,     0.42943,     0.43043,     0.43143,\n",
       "           0.43243,     0.43343,     0.43443,     0.43544,     0.43644,     0.43744,     0.43844,     0.43944,     0.44044,     0.44144,     0.44244,     0.44344,     0.44444,     0.44545,     0.44645,     0.44745,     0.44845,     0.44945,     0.45045,     0.45145,     0.45245,     0.45345,     0.45445,     0.45546,\n",
       "           0.45646,     0.45746,     0.45846,     0.45946,     0.46046,     0.46146,     0.46246,     0.46346,     0.46446,     0.46547,     0.46647,     0.46747,     0.46847,     0.46947,     0.47047,     0.47147,     0.47247,     0.47347,     0.47447,     0.47548,     0.47648,     0.47748,     0.47848,     0.47948,\n",
       "           0.48048,     0.48148,     0.48248,     0.48348,     0.48448,     0.48549,     0.48649,     0.48749,     0.48849,     0.48949,     0.49049,     0.49149,     0.49249,     0.49349,     0.49449,      0.4955,      0.4965,      0.4975,      0.4985,      0.4995,      0.5005,      0.5015,      0.5025,      0.5035,\n",
       "            0.5045,     0.50551,     0.50651,     0.50751,     0.50851,     0.50951,     0.51051,     0.51151,     0.51251,     0.51351,     0.51451,     0.51552,     0.51652,     0.51752,     0.51852,     0.51952,     0.52052,     0.52152,     0.52252,     0.52352,     0.52452,     0.52553,     0.52653,     0.52753,\n",
       "           0.52853,     0.52953,     0.53053,     0.53153,     0.53253,     0.53353,     0.53453,     0.53554,     0.53654,     0.53754,     0.53854,     0.53954,     0.54054,     0.54154,     0.54254,     0.54354,     0.54454,     0.54555,     0.54655,     0.54755,     0.54855,     0.54955,     0.55055,     0.55155,\n",
       "           0.55255,     0.55355,     0.55455,     0.55556,     0.55656,     0.55756,     0.55856,     0.55956,     0.56056,     0.56156,     0.56256,     0.56356,     0.56456,     0.56557,     0.56657,     0.56757,     0.56857,     0.56957,     0.57057,     0.57157,     0.57257,     0.57357,     0.57457,     0.57558,\n",
       "           0.57658,     0.57758,     0.57858,     0.57958,     0.58058,     0.58158,     0.58258,     0.58358,     0.58458,     0.58559,     0.58659,     0.58759,     0.58859,     0.58959,     0.59059,     0.59159,     0.59259,     0.59359,     0.59459,      0.5956,      0.5966,      0.5976,      0.5986,      0.5996,\n",
       "            0.6006,      0.6016,      0.6026,      0.6036,      0.6046,     0.60561,     0.60661,     0.60761,     0.60861,     0.60961,     0.61061,     0.61161,     0.61261,     0.61361,     0.61461,     0.61562,     0.61662,     0.61762,     0.61862,     0.61962,     0.62062,     0.62162,     0.62262,     0.62362,\n",
       "           0.62462,     0.62563,     0.62663,     0.62763,     0.62863,     0.62963,     0.63063,     0.63163,     0.63263,     0.63363,     0.63463,     0.63564,     0.63664,     0.63764,     0.63864,     0.63964,     0.64064,     0.64164,     0.64264,     0.64364,     0.64464,     0.64565,     0.64665,     0.64765,\n",
       "           0.64865,     0.64965,     0.65065,     0.65165,     0.65265,     0.65365,     0.65465,     0.65566,     0.65666,     0.65766,     0.65866,     0.65966,     0.66066,     0.66166,     0.66266,     0.66366,     0.66466,     0.66567,     0.66667,     0.66767,     0.66867,     0.66967,     0.67067,     0.67167,\n",
       "           0.67267,     0.67367,     0.67467,     0.67568,     0.67668,     0.67768,     0.67868,     0.67968,     0.68068,     0.68168,     0.68268,     0.68368,     0.68468,     0.68569,     0.68669,     0.68769,     0.68869,     0.68969,     0.69069,     0.69169,     0.69269,     0.69369,     0.69469,      0.6957,\n",
       "            0.6967,      0.6977,      0.6987,      0.6997,      0.7007,      0.7017,      0.7027,      0.7037,      0.7047,     0.70571,     0.70671,     0.70771,     0.70871,     0.70971,     0.71071,     0.71171,     0.71271,     0.71371,     0.71471,     0.71572,     0.71672,     0.71772,     0.71872,     0.71972,\n",
       "           0.72072,     0.72172,     0.72272,     0.72372,     0.72472,     0.72573,     0.72673,     0.72773,     0.72873,     0.72973,     0.73073,     0.73173,     0.73273,     0.73373,     0.73473,     0.73574,     0.73674,     0.73774,     0.73874,     0.73974,     0.74074,     0.74174,     0.74274,     0.74374,\n",
       "           0.74474,     0.74575,     0.74675,     0.74775,     0.74875,     0.74975,     0.75075,     0.75175,     0.75275,     0.75375,     0.75475,     0.75576,     0.75676,     0.75776,     0.75876,     0.75976,     0.76076,     0.76176,     0.76276,     0.76376,     0.76476,     0.76577,     0.76677,     0.76777,\n",
       "           0.76877,     0.76977,     0.77077,     0.77177,     0.77277,     0.77377,     0.77477,     0.77578,     0.77678,     0.77778,     0.77878,     0.77978,     0.78078,     0.78178,     0.78278,     0.78378,     0.78478,     0.78579,     0.78679,     0.78779,     0.78879,     0.78979,     0.79079,     0.79179,\n",
       "           0.79279,     0.79379,     0.79479,      0.7958,      0.7968,      0.7978,      0.7988,      0.7998,      0.8008,      0.8018,      0.8028,      0.8038,      0.8048,     0.80581,     0.80681,     0.80781,     0.80881,     0.80981,     0.81081,     0.81181,     0.81281,     0.81381,     0.81481,     0.81582,\n",
       "           0.81682,     0.81782,     0.81882,     0.81982,     0.82082,     0.82182,     0.82282,     0.82382,     0.82482,     0.82583,     0.82683,     0.82783,     0.82883,     0.82983,     0.83083,     0.83183,     0.83283,     0.83383,     0.83483,     0.83584,     0.83684,     0.83784,     0.83884,     0.83984,\n",
       "           0.84084,     0.84184,     0.84284,     0.84384,     0.84484,     0.84585,     0.84685,     0.84785,     0.84885,     0.84985,     0.85085,     0.85185,     0.85285,     0.85385,     0.85485,     0.85586,     0.85686,     0.85786,     0.85886,     0.85986,     0.86086,     0.86186,     0.86286,     0.86386,\n",
       "           0.86486,     0.86587,     0.86687,     0.86787,     0.86887,     0.86987,     0.87087,     0.87187,     0.87287,     0.87387,     0.87487,     0.87588,     0.87688,     0.87788,     0.87888,     0.87988,     0.88088,     0.88188,     0.88288,     0.88388,     0.88488,     0.88589,     0.88689,     0.88789,\n",
       "           0.88889,     0.88989,     0.89089,     0.89189,     0.89289,     0.89389,     0.89489,      0.8959,      0.8969,      0.8979,      0.8989,      0.8999,      0.9009,      0.9019,      0.9029,      0.9039,      0.9049,     0.90591,     0.90691,     0.90791,     0.90891,     0.90991,     0.91091,     0.91191,\n",
       "           0.91291,     0.91391,     0.91491,     0.91592,     0.91692,     0.91792,     0.91892,     0.91992,     0.92092,     0.92192,     0.92292,     0.92392,     0.92492,     0.92593,     0.92693,     0.92793,     0.92893,     0.92993,     0.93093,     0.93193,     0.93293,     0.93393,     0.93493,     0.93594,\n",
       "           0.93694,     0.93794,     0.93894,     0.93994,     0.94094,     0.94194,     0.94294,     0.94394,     0.94494,     0.94595,     0.94695,     0.94795,     0.94895,     0.94995,     0.95095,     0.95195,     0.95295,     0.95395,     0.95495,     0.95596,     0.95696,     0.95796,     0.95896,     0.95996,\n",
       "           0.96096,     0.96196,     0.96296,     0.96396,     0.96496,     0.96597,     0.96697,     0.96797,     0.96897,     0.96997,     0.97097,     0.97197,     0.97297,     0.97397,     0.97497,     0.97598,     0.97698,     0.97798,     0.97898,     0.97998,     0.98098,     0.98198,     0.98298,     0.98398,\n",
       "           0.98498,     0.98599,     0.98699,     0.98799,     0.98899,     0.98999,     0.99099,     0.99199,     0.99299,     0.99399,     0.99499,       0.996,       0.997,       0.998,       0.999,           1]), array([[          1,           1,           1,           1,           1,           1,           1,           1,           1,           1,           1,           1,           1,           1,           1,           1,           1,           1,           1,           1,           1,           1,           1,\n",
       "                  1,           1,           1,           1,           1,           1,           1,           1,           1,           1,           1,           1,           1,           1,           1,           1,           1,           1,           1,           1,           1,           1,           1,\n",
       "                  1,           1,           1,           1,           1,           1,           1,           1,           1,           1,           1,           1,           1,           1,           1,           1,           1,           1,           1,           1,           1,           1,           1,\n",
       "                  1,           1,           1,           1,           1,           1,           1,           1,           1,           1,           1,           1,           1,           1,           1,           1,           1,           1,           1,           1,           1,           1,           1,\n",
       "                  1,           1,           1,           1,           1,           1,           1,           1,           1,           1,           1,           1,           1,           1,           1,           1,           1,           1,           1,           1,           1,           1,           1,\n",
       "                  1,           1,           1,           1,           1,           1,           1,           1,           1,           1,           1,           1,           1,           1,           1,           1,           1,           1,           1,           1,           1,           1,           1,\n",
       "                  1,           1,           1,           1,           1,           1,           1,           1,           1,           1,           1,           1,           1,           1,           1,           1,           1,           1,           1,           1,           1,           1,           1,\n",
       "                  1,           1,           1,           1,           1,           1,           1,           1,           1,           1,           1,           1,           1,           1,           1,           1,           1,           1,           1,           1,           1,           1,           1,\n",
       "                  1,           1,           1,           1,           1,           1,           1,           1,           1,           1,           1,           1,           1,           1,           1,           1,           1,           1,           1,           1,           1,           1,           1,\n",
       "                  1,           1,           1,           1,           1,           1,           1,           1,           1,           1,           1,           1,           1,           1,           1,           1,           1,           1,           1,           1,           1,           1,           1,\n",
       "                  1,           1,           1,           1,           1,           1,           1,           1,           1,           1,           1,           1,           1,           1,           1,           1,           1,           1,           1,           1,           1,           1,           1,\n",
       "                  1,           1,           1,           1,           1,           1,           1,           1,           1,           1,           1,           1,           1,           1,           1,           1,           1,           1,           1,           1,           1,           1,           1,\n",
       "                  1,           1,           1,           1,           1,           1,           1,           1,           1,           1,           1,           1,           1,           1,           1,           1,           1,           1,           1,           1,           1,           1,           1,\n",
       "                  1,           1,           1,           1,           1,           1,           1,           1,           1,           1,           1,           1,           1,           1,           1,           1,           1,           1,           1,           1,           1,           1,           1,\n",
       "                  1,           1,           1,           1,           1,           1,           1,           1,           1,           1,           1,           1,           1,           1,           1,           1,           1,           1,           1,           1,           1,           1,           1,\n",
       "                  1,           1,           1,           1,           1,           1,           1,           1,           1,           1,           1,           1,           1,           1,           1,           1,           1,           1,           1,           1,           1,           1,           1,\n",
       "                  1,           1,           1,           1,           1,           1,           1,           1,           1,           1,           1,           1,           1,           1,           1,           1,           1,           1,           1,           1,           1,           1,           1,\n",
       "                  1,           1,           1,           1,           1,           1,           1,           1,           1,           1,           1,           1,           1,           1,           1,           1,           1,           1,           1,           1,           1,           1,           1,\n",
       "                  1,           1,           1,           1,           1,           1,           1,           1,           1,           1,           1,           1,           1,           1,           1,           1,           1,           1,           1,           1,           1,           1,           1,\n",
       "                  1,           1,           1,           1,           1,           1,           1,           1,           1,           1,           1,           1,           1,           1,           1,           1,           1,           1,           1,           1,           1,           1,           1,\n",
       "                  1,           1,           1,           1,           1,           1,           1,           1,           1,           1,           1,           1,           1,           1,           1,           1,           1,           1,           1,           1,           1,           1,           1,\n",
       "                  1,           1,           1,           1,           1,           1,     0.99973,     0.99926,     0.99879,     0.99832,     0.99785,     0.99738,     0.99692,     0.99645,     0.99598,     0.99551,     0.99504,     0.99457,     0.99411,     0.99364,     0.99317,      0.9927,     0.99223,\n",
       "            0.99176,     0.99129,     0.99083,     0.99036,     0.98989,     0.98942,     0.98895,     0.98848,     0.98802,     0.98755,     0.98708,     0.98661,     0.98614,     0.98567,      0.9852,     0.98474,     0.98438,     0.98438,     0.98438,     0.98438,     0.98438,     0.98438,     0.98438,\n",
       "            0.98438,     0.98438,     0.98438,     0.98438,     0.98438,     0.98438,     0.98438,     0.98438,     0.98438,     0.98438,     0.98438,     0.98438,     0.98438,     0.98438,     0.98438,     0.98438,     0.98438,     0.98438,     0.98438,     0.98438,     0.98438,     0.98438,     0.98438,\n",
       "            0.98438,     0.98438,     0.98438,     0.98438,     0.98438,     0.98438,     0.98438,     0.98438,     0.98438,     0.98438,     0.98438,     0.98438,     0.98438,     0.98438,     0.98438,     0.98438,     0.98438,     0.98438,     0.98438,     0.98438,     0.98438,     0.98438,     0.98438,\n",
       "            0.98438,     0.98438,     0.98438,     0.98438,     0.98438,     0.98438,     0.98438,     0.98438,     0.98438,     0.98438,     0.98438,     0.98438,     0.98438,     0.98438,     0.98438,     0.98438,     0.98438,     0.98438,     0.98438,     0.98438,     0.98438,     0.98438,     0.98438,\n",
       "            0.98438,     0.98438,     0.98438,     0.98438,     0.98438,     0.98438,     0.98438,     0.98438,     0.98438,     0.98438,     0.98438,     0.98438,     0.98438,     0.98438,     0.98438,     0.98438,     0.98438,     0.98438,     0.98438,     0.98438,     0.98438,     0.98438,     0.98438,\n",
       "            0.98438,     0.98438,     0.98438,     0.98438,     0.98438,     0.98438,     0.98438,     0.98438,     0.98438,     0.98438,     0.98438,     0.98438,     0.98438,     0.98438,     0.98438,     0.98438,     0.98438,     0.98438,     0.98438,     0.98438,     0.98438,     0.98438,     0.98438,\n",
       "            0.98438,     0.98438,     0.98438,     0.98438,     0.98438,     0.98438,     0.98438,     0.98438,     0.98438,     0.98438,     0.98438,     0.98438,     0.98438,     0.98438,     0.98438,     0.98438,     0.98438,     0.98438,     0.98438,     0.98438,     0.98438,     0.98438,     0.98438,\n",
       "            0.98438,     0.98438,     0.98438,     0.98438,     0.98438,     0.98438,     0.98438,     0.98438,     0.98438,     0.98438,     0.98438,     0.98438,     0.98438,     0.98438,     0.98438,     0.98438,     0.98438,     0.98438,     0.98438,     0.98438,     0.98438,     0.98438,     0.98438,\n",
       "            0.98438,     0.98438,     0.98438,     0.98438,     0.98438,     0.98438,     0.98438,     0.98438,     0.98438,     0.98438,     0.98438,     0.98438,     0.98438,     0.98438,     0.98438,     0.98438,     0.98438,     0.98438,     0.98438,     0.98438,     0.98438,     0.98438,     0.98438,\n",
       "            0.98438,     0.98438,     0.98438,     0.98438,     0.98438,     0.98438,     0.98438,     0.98438,     0.98438,     0.98438,     0.98438,     0.98438,     0.98438,     0.98438,     0.98438,     0.98438,     0.98438,     0.98438,     0.98438,     0.98438,     0.98438,     0.98438,     0.98438,\n",
       "            0.98438,     0.98438,     0.98438,     0.98438,     0.98438,     0.98438,     0.98413,     0.98385,     0.98356,     0.98328,       0.983,     0.98271,     0.98243,     0.98215,     0.98187,     0.98158,      0.9813,     0.98102,     0.98073,     0.98045,     0.98017,     0.97988,      0.9796,\n",
       "            0.97932,     0.97904,     0.97875,     0.97847,     0.97819,      0.9779,     0.97762,     0.97734,     0.97705,     0.97677,     0.97649,     0.97621,     0.97592,     0.97564,     0.97536,     0.97507,     0.97479,     0.97451,     0.97423,     0.97394,     0.97366,     0.97338,     0.97309,\n",
       "            0.97281,     0.97253,     0.97224,     0.97196,     0.97168,      0.9714,     0.97111,     0.97083,     0.97055,     0.97026,     0.96998,      0.9697,     0.96941,     0.96913,     0.96885,     0.96729,     0.96505,      0.9628,     0.96056,     0.95832,     0.95607,     0.95383,     0.95252,\n",
       "            0.95164,     0.95075,     0.94987,     0.94899,      0.9481,     0.94722,     0.94634,     0.94545,     0.94457,     0.94369,     0.94281,     0.94192,     0.94104,     0.94016,     0.93927,     0.93839,     0.93751,     0.93651,     0.93551,     0.93452,     0.93352,     0.93252,     0.93153,\n",
       "            0.93053,     0.92953,     0.92853,     0.92754,     0.92654,     0.92554,     0.92455,     0.92355,     0.92255,     0.92147,      0.9202,     0.91893,     0.91765,     0.91638,     0.91511,     0.91384,     0.91257,      0.9113,     0.91003,     0.90876,     0.90749,     0.90612,     0.90153,\n",
       "            0.89694,     0.89235,     0.88957,     0.88789,      0.8862,     0.88451,     0.88282,     0.88114,     0.87945,     0.87776,     0.87608,     0.87261,     0.86598,     0.85937,     0.85767,     0.85598,     0.85428,     0.85258,     0.85089,     0.84919,     0.84749,     0.84579,      0.8441,\n",
       "            0.83743,     0.82949,     0.82724,     0.82617,      0.8251,     0.82403,     0.82296,     0.82189,     0.82082,     0.81975,     0.81867,      0.8176,     0.81653,     0.81546,     0.81439,     0.81332,     0.81046,     0.80167,     0.79178,     0.77991,     0.75257,     0.74728,     0.74436,\n",
       "            0.74144,     0.73852,      0.7356,      0.7175,     0.70255,      0.6996,     0.69665,      0.6937,     0.69075,      0.6878,     0.68056,     0.67284,     0.66907,     0.66585,     0.66264,     0.65943,      0.6562,     0.65069,     0.64518,     0.63248,     0.62019,     0.61447,     0.60841,\n",
       "            0.59952,     0.59169,     0.58582,     0.57994,     0.55963,     0.54492,     0.53462,     0.51309,     0.50502,     0.49616,     0.48602,     0.47058,     0.43741,     0.42228,     0.39526,     0.36018,     0.32176,     0.29335,      0.2711,     0.25806,     0.23626,      0.2198,     0.21357,\n",
       "            0.20801,     0.20129,     0.18599,     0.15601,      0.1435,     0.13887,     0.13658,      0.1343,     0.13201,     0.12973,     0.12744,     0.12516,     0.11034,    0.099423,    0.084124,    0.072732,    0.065139,    0.058123,    0.051415,    0.040741,           0,           0,           0,\n",
       "                  0,           0,           0,           0,           0,           0,           0,           0,           0,           0,           0,           0,           0,           0,           0,           0,           0,           0,           0,           0,           0,           0,           0,\n",
       "                  0,           0,           0,           0,           0,           0,           0,           0,           0,           0,           0]]), 'Confidence', 'Recall']]\n",
       "fitness: np.float64(0.9476381391075274)\n",
       "keys: ['metrics/precision(B)', 'metrics/recall(B)', 'metrics/mAP50(B)', 'metrics/mAP50-95(B)']\n",
       "maps: array([    0.94241])\n",
       "names: {0: 'leaf'}\n",
       "plot: True\n",
       "results_dict: {'metrics/precision(B)': np.float64(0.997587775671849), 'metrics/recall(B)': np.float64(0.984375), 'metrics/mAP50(B)': np.float64(0.9946969696969697), 'metrics/mAP50-95(B)': np.float64(0.9424093801531448), 'fitness': np.float64(0.9476381391075274)}\n",
       "save_dir: WindowsPath('runs/detect/leaf-detector2')\n",
       "speed: {'preprocess': 1.644329688133439, 'inference': 148.04374218874727, 'loss': 4.843786882702261e-05, 'postprocess': 0.3291718749096617}\n",
       "task: 'detect'"
      ]
     },
     "execution_count": 27,
     "metadata": {},
     "output_type": "execute_result"
    }
   ],
   "execution_count": null
  },
  {
   "metadata": {
    "id": "3209f6bfddf0c5eb"
   },
   "cell_type": "markdown",
   "source": [
    "## Metrics Visualization from YOLO model training/validation"
   ],
   "id": "3209f6bfddf0c5eb"
  },
  {
   "metadata": {
    "ExecuteTime": {
     "end_time": "2025-04-18T02:24:11.083083Z",
     "start_time": "2025-04-18T02:24:06.980999Z"
    },
    "id": "4c7ff851289d14d1",
    "outputId": "c864427f-0143-4598-f735-8da023e4b0d1"
   },
   "cell_type": "code",
   "source": [
    "import pandas as pd\n",
    "import matplotlib.pyplot as plt\n",
    "import seaborn as sns\n",
    "import os\n",
    "\n",
    "csv_path = \"runs/detect/leaf-detector2/results.csv\"  # Adjust this path\n",
    "save_dir = r\"C:\\Users\\Travi\\PycharmProjects\\FYP\\YOLO_Visualizations\"\n",
    "\n",
    "df = pd.read_csv(csv_path)\n",
    "\n",
    "print(\"Columns in CSV:\\n\", df.columns.tolist())\n",
    "\n",
    "metrics_to_plot = {\n",
    "    'Train Box Loss': 'train/box_loss',\n",
    "    'Train Class Loss': 'train/cls_loss',\n",
    "    'Train DFL Loss': 'train/dfl_loss',\n",
    "    'Validation Box Loss': 'val/box_loss',\n",
    "    'Validation Class Loss': 'val/cls_loss',\n",
    "    'Validation DFL Loss': 'val/dfl_loss',\n",
    "    'Precision': 'metrics/precision(B)',\n",
    "    'Recall': 'metrics/recall(B)',\n",
    "    'mAP@0.5': 'metrics/mAP50(B)',\n",
    "    'mAP@0.5:0.95': 'metrics/mAP50-95(B)'\n",
    "}\n",
    "\n",
    "sns.set(style='whitegrid')\n",
    "for title, column in metrics_to_plot.items():\n",
    "    if column not in df.columns:\n",
    "        print(f\"Warning: {column} not found in CSV. Skipping...\")\n",
    "        continue\n",
    "\n",
    "    plt.figure(figsize=(10, 5))\n",
    "    plt.plot(df.index + 1, df[column], marker='o')\n",
    "    plt.title(f\"{title} over Epochs\")\n",
    "    plt.xlabel(\"Epoch\")\n",
    "    plt.ylabel(title)\n",
    "    plt.tight_layout()\n",
    "    plt.savefig(os.path.join(save_dir, f\"{title.replace(' ', '_')}.png\"), dpi=300)\n",
    "    plt.close()\n",
    "\n",
    "print(\"Metrics visualized and saved to: {save_dir}\")"
   ],
   "id": "4c7ff851289d14d1",
   "outputs": [
    {
     "name": "stdout",
     "output_type": "stream",
     "text": [
      "Columns in CSV:\n",
      " ['epoch', 'time', 'train/box_loss', 'train/cls_loss', 'train/dfl_loss', 'metrics/precision(B)', 'metrics/recall(B)', 'metrics/mAP50(B)', 'metrics/mAP50-95(B)', 'val/box_loss', 'val/cls_loss', 'val/dfl_loss', 'lr/pg0', 'lr/pg1', 'lr/pg2']\n",
      "Metrics visualized and saved to: {save_dir}\n"
     ]
    }
   ],
   "execution_count": null
  },
  {
   "metadata": {
    "id": "f4a343268d325b87"
   },
   "cell_type": "markdown",
   "source": [
    "## Metric Visualization from Test Set Evaluation"
   ],
   "id": "f4a343268d325b87"
  },
  {
   "metadata": {
    "ExecuteTime": {
     "end_time": "2025-04-18T02:30:21.589917Z",
     "start_time": "2025-04-18T02:29:59.974971Z"
    },
    "id": "c243860b1d2c9a1e",
    "outputId": "52c5de15-2491-47a9-834e-360f2e5c8c96"
   },
   "cell_type": "code",
   "source": [
    "from ultralytics import YOLO\n",
    "\n",
    "model = YOLO(\"runs/detect/leaf-detector2/weights/best.pt\")\n",
    "\n",
    "metrics = model.val(\n",
    "    data=r\"D:/Suvan's Projects/FYP/BBox_Split/data.yaml\",\n",
    "    split='test',\n",
    "    imgsz=640,\n",
    "    batch=16\n",
    ")\n",
    "\n",
    "print(metrics)"
   ],
   "id": "c243860b1d2c9a1e",
   "outputs": [
    {
     "name": "stdout",
     "output_type": "stream",
     "text": [
      "Ultralytics 8.3.110  Python-3.12.8 torch-2.6.0+cpu CPU (AMD Ryzen 7 7435HS)\n",
      "Model summary (fused): 72 layers, 11,125,971 parameters, 0 gradients, 28.4 GFLOPs\n",
      "\u001B[34m\u001B[1mval: \u001B[0mFast image access  (ping: 0.20.1 ms, read: 113.415.2 MB/s, size: 64.7 KB)\n"
     ]
    },
    {
     "name": "stderr",
     "output_type": "stream",
     "text": [
      "\u001B[34m\u001B[1mval: \u001B[0mScanning D:\\Suvan's Projects\\FYP\\BBox_Split\\labels\\test... 63 images, 0 backgrounds, 0 corrupt: 100%|██████████| 63/63 [00:00<00:00, 1539.58it/s]"
     ]
    },
    {
     "name": "stdout",
     "output_type": "stream",
     "text": [
      "\u001B[34m\u001B[1mval: \u001B[0mNew cache created: D:\\Suvan's Projects\\FYP\\BBox_Split\\labels\\test.cache\n"
     ]
    },
    {
     "name": "stderr",
     "output_type": "stream",
     "text": [
      "\n",
      "                 Class     Images  Instances      Box(P          R      mAP50  mAP50-95): 100%|██████████| 4/4 [00:10<00:00,  2.73s/it]\n"
     ]
    },
    {
     "name": "stdout",
     "output_type": "stream",
     "text": [
      "                   all         63         63      0.999          1      0.995      0.931\n",
      "Speed: 1.4ms preprocess, 161.3ms inference, 0.0ms loss, 0.5ms postprocess per image\n",
      "Results saved to \u001B[1mruns\\detect\\val\u001B[0m\n",
      "ultralytics.utils.metrics.DetMetrics object with attributes:\n",
      "\n",
      "ap_class_index: array([0])\n",
      "box: ultralytics.utils.metrics.Metric object\n",
      "confusion_matrix: <ultralytics.utils.metrics.ConfusionMatrix object at 0x000001BAB9FBB470>\n",
      "curves: ['Precision-Recall(B)', 'F1-Confidence(B)', 'Precision-Confidence(B)', 'Recall-Confidence(B)']\n",
      "curves_results: [[array([          0,    0.001001,    0.002002,    0.003003,    0.004004,    0.005005,    0.006006,    0.007007,    0.008008,    0.009009,     0.01001,    0.011011,    0.012012,    0.013013,    0.014014,    0.015015,    0.016016,    0.017017,    0.018018,    0.019019,     0.02002,    0.021021,    0.022022,    0.023023,\n",
      "          0.024024,    0.025025,    0.026026,    0.027027,    0.028028,    0.029029,     0.03003,    0.031031,    0.032032,    0.033033,    0.034034,    0.035035,    0.036036,    0.037037,    0.038038,    0.039039,     0.04004,    0.041041,    0.042042,    0.043043,    0.044044,    0.045045,    0.046046,    0.047047,\n",
      "          0.048048,    0.049049,     0.05005,    0.051051,    0.052052,    0.053053,    0.054054,    0.055055,    0.056056,    0.057057,    0.058058,    0.059059,     0.06006,    0.061061,    0.062062,    0.063063,    0.064064,    0.065065,    0.066066,    0.067067,    0.068068,    0.069069,     0.07007,    0.071071,\n",
      "          0.072072,    0.073073,    0.074074,    0.075075,    0.076076,    0.077077,    0.078078,    0.079079,     0.08008,    0.081081,    0.082082,    0.083083,    0.084084,    0.085085,    0.086086,    0.087087,    0.088088,    0.089089,     0.09009,    0.091091,    0.092092,    0.093093,    0.094094,    0.095095,\n",
      "          0.096096,    0.097097,    0.098098,    0.099099,      0.1001,      0.1011,      0.1021,      0.1031,      0.1041,     0.10511,     0.10611,     0.10711,     0.10811,     0.10911,     0.11011,     0.11111,     0.11211,     0.11311,     0.11411,     0.11512,     0.11612,     0.11712,     0.11812,     0.11912,\n",
      "           0.12012,     0.12112,     0.12212,     0.12312,     0.12412,     0.12513,     0.12613,     0.12713,     0.12813,     0.12913,     0.13013,     0.13113,     0.13213,     0.13313,     0.13413,     0.13514,     0.13614,     0.13714,     0.13814,     0.13914,     0.14014,     0.14114,     0.14214,     0.14314,\n",
      "           0.14414,     0.14515,     0.14615,     0.14715,     0.14815,     0.14915,     0.15015,     0.15115,     0.15215,     0.15315,     0.15415,     0.15516,     0.15616,     0.15716,     0.15816,     0.15916,     0.16016,     0.16116,     0.16216,     0.16316,     0.16416,     0.16517,     0.16617,     0.16717,\n",
      "           0.16817,     0.16917,     0.17017,     0.17117,     0.17217,     0.17317,     0.17417,     0.17518,     0.17618,     0.17718,     0.17818,     0.17918,     0.18018,     0.18118,     0.18218,     0.18318,     0.18418,     0.18519,     0.18619,     0.18719,     0.18819,     0.18919,     0.19019,     0.19119,\n",
      "           0.19219,     0.19319,     0.19419,      0.1952,      0.1962,      0.1972,      0.1982,      0.1992,      0.2002,      0.2012,      0.2022,      0.2032,      0.2042,     0.20521,     0.20621,     0.20721,     0.20821,     0.20921,     0.21021,     0.21121,     0.21221,     0.21321,     0.21421,     0.21522,\n",
      "           0.21622,     0.21722,     0.21822,     0.21922,     0.22022,     0.22122,     0.22222,     0.22322,     0.22422,     0.22523,     0.22623,     0.22723,     0.22823,     0.22923,     0.23023,     0.23123,     0.23223,     0.23323,     0.23423,     0.23524,     0.23624,     0.23724,     0.23824,     0.23924,\n",
      "           0.24024,     0.24124,     0.24224,     0.24324,     0.24424,     0.24525,     0.24625,     0.24725,     0.24825,     0.24925,     0.25025,     0.25125,     0.25225,     0.25325,     0.25425,     0.25526,     0.25626,     0.25726,     0.25826,     0.25926,     0.26026,     0.26126,     0.26226,     0.26326,\n",
      "           0.26426,     0.26527,     0.26627,     0.26727,     0.26827,     0.26927,     0.27027,     0.27127,     0.27227,     0.27327,     0.27427,     0.27528,     0.27628,     0.27728,     0.27828,     0.27928,     0.28028,     0.28128,     0.28228,     0.28328,     0.28428,     0.28529,     0.28629,     0.28729,\n",
      "           0.28829,     0.28929,     0.29029,     0.29129,     0.29229,     0.29329,     0.29429,      0.2953,      0.2963,      0.2973,      0.2983,      0.2993,      0.3003,      0.3013,      0.3023,      0.3033,      0.3043,     0.30531,     0.30631,     0.30731,     0.30831,     0.30931,     0.31031,     0.31131,\n",
      "           0.31231,     0.31331,     0.31431,     0.31532,     0.31632,     0.31732,     0.31832,     0.31932,     0.32032,     0.32132,     0.32232,     0.32332,     0.32432,     0.32533,     0.32633,     0.32733,     0.32833,     0.32933,     0.33033,     0.33133,     0.33233,     0.33333,     0.33433,     0.33534,\n",
      "           0.33634,     0.33734,     0.33834,     0.33934,     0.34034,     0.34134,     0.34234,     0.34334,     0.34434,     0.34535,     0.34635,     0.34735,     0.34835,     0.34935,     0.35035,     0.35135,     0.35235,     0.35335,     0.35435,     0.35536,     0.35636,     0.35736,     0.35836,     0.35936,\n",
      "           0.36036,     0.36136,     0.36236,     0.36336,     0.36436,     0.36537,     0.36637,     0.36737,     0.36837,     0.36937,     0.37037,     0.37137,     0.37237,     0.37337,     0.37437,     0.37538,     0.37638,     0.37738,     0.37838,     0.37938,     0.38038,     0.38138,     0.38238,     0.38338,\n",
      "           0.38438,     0.38539,     0.38639,     0.38739,     0.38839,     0.38939,     0.39039,     0.39139,     0.39239,     0.39339,     0.39439,      0.3954,      0.3964,      0.3974,      0.3984,      0.3994,      0.4004,      0.4014,      0.4024,      0.4034,      0.4044,     0.40541,     0.40641,     0.40741,\n",
      "           0.40841,     0.40941,     0.41041,     0.41141,     0.41241,     0.41341,     0.41441,     0.41542,     0.41642,     0.41742,     0.41842,     0.41942,     0.42042,     0.42142,     0.42242,     0.42342,     0.42442,     0.42543,     0.42643,     0.42743,     0.42843,     0.42943,     0.43043,     0.43143,\n",
      "           0.43243,     0.43343,     0.43443,     0.43544,     0.43644,     0.43744,     0.43844,     0.43944,     0.44044,     0.44144,     0.44244,     0.44344,     0.44444,     0.44545,     0.44645,     0.44745,     0.44845,     0.44945,     0.45045,     0.45145,     0.45245,     0.45345,     0.45445,     0.45546,\n",
      "           0.45646,     0.45746,     0.45846,     0.45946,     0.46046,     0.46146,     0.46246,     0.46346,     0.46446,     0.46547,     0.46647,     0.46747,     0.46847,     0.46947,     0.47047,     0.47147,     0.47247,     0.47347,     0.47447,     0.47548,     0.47648,     0.47748,     0.47848,     0.47948,\n",
      "           0.48048,     0.48148,     0.48248,     0.48348,     0.48448,     0.48549,     0.48649,     0.48749,     0.48849,     0.48949,     0.49049,     0.49149,     0.49249,     0.49349,     0.49449,      0.4955,      0.4965,      0.4975,      0.4985,      0.4995,      0.5005,      0.5015,      0.5025,      0.5035,\n",
      "            0.5045,     0.50551,     0.50651,     0.50751,     0.50851,     0.50951,     0.51051,     0.51151,     0.51251,     0.51351,     0.51451,     0.51552,     0.51652,     0.51752,     0.51852,     0.51952,     0.52052,     0.52152,     0.52252,     0.52352,     0.52452,     0.52553,     0.52653,     0.52753,\n",
      "           0.52853,     0.52953,     0.53053,     0.53153,     0.53253,     0.53353,     0.53453,     0.53554,     0.53654,     0.53754,     0.53854,     0.53954,     0.54054,     0.54154,     0.54254,     0.54354,     0.54454,     0.54555,     0.54655,     0.54755,     0.54855,     0.54955,     0.55055,     0.55155,\n",
      "           0.55255,     0.55355,     0.55455,     0.55556,     0.55656,     0.55756,     0.55856,     0.55956,     0.56056,     0.56156,     0.56256,     0.56356,     0.56456,     0.56557,     0.56657,     0.56757,     0.56857,     0.56957,     0.57057,     0.57157,     0.57257,     0.57357,     0.57457,     0.57558,\n",
      "           0.57658,     0.57758,     0.57858,     0.57958,     0.58058,     0.58158,     0.58258,     0.58358,     0.58458,     0.58559,     0.58659,     0.58759,     0.58859,     0.58959,     0.59059,     0.59159,     0.59259,     0.59359,     0.59459,      0.5956,      0.5966,      0.5976,      0.5986,      0.5996,\n",
      "            0.6006,      0.6016,      0.6026,      0.6036,      0.6046,     0.60561,     0.60661,     0.60761,     0.60861,     0.60961,     0.61061,     0.61161,     0.61261,     0.61361,     0.61461,     0.61562,     0.61662,     0.61762,     0.61862,     0.61962,     0.62062,     0.62162,     0.62262,     0.62362,\n",
      "           0.62462,     0.62563,     0.62663,     0.62763,     0.62863,     0.62963,     0.63063,     0.63163,     0.63263,     0.63363,     0.63463,     0.63564,     0.63664,     0.63764,     0.63864,     0.63964,     0.64064,     0.64164,     0.64264,     0.64364,     0.64464,     0.64565,     0.64665,     0.64765,\n",
      "           0.64865,     0.64965,     0.65065,     0.65165,     0.65265,     0.65365,     0.65465,     0.65566,     0.65666,     0.65766,     0.65866,     0.65966,     0.66066,     0.66166,     0.66266,     0.66366,     0.66466,     0.66567,     0.66667,     0.66767,     0.66867,     0.66967,     0.67067,     0.67167,\n",
      "           0.67267,     0.67367,     0.67467,     0.67568,     0.67668,     0.67768,     0.67868,     0.67968,     0.68068,     0.68168,     0.68268,     0.68368,     0.68468,     0.68569,     0.68669,     0.68769,     0.68869,     0.68969,     0.69069,     0.69169,     0.69269,     0.69369,     0.69469,      0.6957,\n",
      "            0.6967,      0.6977,      0.6987,      0.6997,      0.7007,      0.7017,      0.7027,      0.7037,      0.7047,     0.70571,     0.70671,     0.70771,     0.70871,     0.70971,     0.71071,     0.71171,     0.71271,     0.71371,     0.71471,     0.71572,     0.71672,     0.71772,     0.71872,     0.71972,\n",
      "           0.72072,     0.72172,     0.72272,     0.72372,     0.72472,     0.72573,     0.72673,     0.72773,     0.72873,     0.72973,     0.73073,     0.73173,     0.73273,     0.73373,     0.73473,     0.73574,     0.73674,     0.73774,     0.73874,     0.73974,     0.74074,     0.74174,     0.74274,     0.74374,\n",
      "           0.74474,     0.74575,     0.74675,     0.74775,     0.74875,     0.74975,     0.75075,     0.75175,     0.75275,     0.75375,     0.75475,     0.75576,     0.75676,     0.75776,     0.75876,     0.75976,     0.76076,     0.76176,     0.76276,     0.76376,     0.76476,     0.76577,     0.76677,     0.76777,\n",
      "           0.76877,     0.76977,     0.77077,     0.77177,     0.77277,     0.77377,     0.77477,     0.77578,     0.77678,     0.77778,     0.77878,     0.77978,     0.78078,     0.78178,     0.78278,     0.78378,     0.78478,     0.78579,     0.78679,     0.78779,     0.78879,     0.78979,     0.79079,     0.79179,\n",
      "           0.79279,     0.79379,     0.79479,      0.7958,      0.7968,      0.7978,      0.7988,      0.7998,      0.8008,      0.8018,      0.8028,      0.8038,      0.8048,     0.80581,     0.80681,     0.80781,     0.80881,     0.80981,     0.81081,     0.81181,     0.81281,     0.81381,     0.81481,     0.81582,\n",
      "           0.81682,     0.81782,     0.81882,     0.81982,     0.82082,     0.82182,     0.82282,     0.82382,     0.82482,     0.82583,     0.82683,     0.82783,     0.82883,     0.82983,     0.83083,     0.83183,     0.83283,     0.83383,     0.83483,     0.83584,     0.83684,     0.83784,     0.83884,     0.83984,\n",
      "           0.84084,     0.84184,     0.84284,     0.84384,     0.84484,     0.84585,     0.84685,     0.84785,     0.84885,     0.84985,     0.85085,     0.85185,     0.85285,     0.85385,     0.85485,     0.85586,     0.85686,     0.85786,     0.85886,     0.85986,     0.86086,     0.86186,     0.86286,     0.86386,\n",
      "           0.86486,     0.86587,     0.86687,     0.86787,     0.86887,     0.86987,     0.87087,     0.87187,     0.87287,     0.87387,     0.87487,     0.87588,     0.87688,     0.87788,     0.87888,     0.87988,     0.88088,     0.88188,     0.88288,     0.88388,     0.88488,     0.88589,     0.88689,     0.88789,\n",
      "           0.88889,     0.88989,     0.89089,     0.89189,     0.89289,     0.89389,     0.89489,      0.8959,      0.8969,      0.8979,      0.8989,      0.8999,      0.9009,      0.9019,      0.9029,      0.9039,      0.9049,     0.90591,     0.90691,     0.90791,     0.90891,     0.90991,     0.91091,     0.91191,\n",
      "           0.91291,     0.91391,     0.91491,     0.91592,     0.91692,     0.91792,     0.91892,     0.91992,     0.92092,     0.92192,     0.92292,     0.92392,     0.92492,     0.92593,     0.92693,     0.92793,     0.92893,     0.92993,     0.93093,     0.93193,     0.93293,     0.93393,     0.93493,     0.93594,\n",
      "           0.93694,     0.93794,     0.93894,     0.93994,     0.94094,     0.94194,     0.94294,     0.94394,     0.94494,     0.94595,     0.94695,     0.94795,     0.94895,     0.94995,     0.95095,     0.95195,     0.95295,     0.95395,     0.95495,     0.95596,     0.95696,     0.95796,     0.95896,     0.95996,\n",
      "           0.96096,     0.96196,     0.96296,     0.96396,     0.96496,     0.96597,     0.96697,     0.96797,     0.96897,     0.96997,     0.97097,     0.97197,     0.97297,     0.97397,     0.97497,     0.97598,     0.97698,     0.97798,     0.97898,     0.97998,     0.98098,     0.98198,     0.98298,     0.98398,\n",
      "           0.98498,     0.98599,     0.98699,     0.98799,     0.98899,     0.98999,     0.99099,     0.99199,     0.99299,     0.99399,     0.99499,       0.996,       0.997,       0.998,       0.999,           1]), array([[          1,           1,           1,           1,           1,           1,           1,           1,           1,           1,           1,           1,           1,           1,           1,           1,           1,           1,           1,           1,           1,           1,           1,\n",
      "                  1,           1,           1,           1,           1,           1,           1,           1,           1,           1,           1,           1,           1,           1,           1,           1,           1,           1,           1,           1,           1,           1,           1,\n",
      "                  1,           1,           1,           1,           1,           1,           1,           1,           1,           1,           1,           1,           1,           1,           1,           1,           1,           1,           1,           1,           1,           1,           1,\n",
      "                  1,           1,           1,           1,           1,           1,           1,           1,           1,           1,           1,           1,           1,           1,           1,           1,           1,           1,           1,           1,           1,           1,           1,\n",
      "                  1,           1,           1,           1,           1,           1,           1,           1,           1,           1,           1,           1,           1,           1,           1,           1,           1,           1,           1,           1,           1,           1,           1,\n",
      "                  1,           1,           1,           1,           1,           1,           1,           1,           1,           1,           1,           1,           1,           1,           1,           1,           1,           1,           1,           1,           1,           1,           1,\n",
      "                  1,           1,           1,           1,           1,           1,           1,           1,           1,           1,           1,           1,           1,           1,           1,           1,           1,           1,           1,           1,           1,           1,           1,\n",
      "                  1,           1,           1,           1,           1,           1,           1,           1,           1,           1,           1,           1,           1,           1,           1,           1,           1,           1,           1,           1,           1,           1,           1,\n",
      "                  1,           1,           1,           1,           1,           1,           1,           1,           1,           1,           1,           1,           1,           1,           1,           1,           1,           1,           1,           1,           1,           1,           1,\n",
      "                  1,           1,           1,           1,           1,           1,           1,           1,           1,           1,           1,           1,           1,           1,           1,           1,           1,           1,           1,           1,           1,           1,           1,\n",
      "                  1,           1,           1,           1,           1,           1,           1,           1,           1,           1,           1,           1,           1,           1,           1,           1,           1,           1,           1,           1,           1,           1,           1,\n",
      "                  1,           1,           1,           1,           1,           1,           1,           1,           1,           1,           1,           1,           1,           1,           1,           1,           1,           1,           1,           1,           1,           1,           1,\n",
      "                  1,           1,           1,           1,           1,           1,           1,           1,           1,           1,           1,           1,           1,           1,           1,           1,           1,           1,           1,           1,           1,           1,           1,\n",
      "                  1,           1,           1,           1,           1,           1,           1,           1,           1,           1,           1,           1,           1,           1,           1,           1,           1,           1,           1,           1,           1,           1,           1,\n",
      "                  1,           1,           1,           1,           1,           1,           1,           1,           1,           1,           1,           1,           1,           1,           1,           1,           1,           1,           1,           1,           1,           1,           1,\n",
      "                  1,           1,           1,           1,           1,           1,           1,           1,           1,           1,           1,           1,           1,           1,           1,           1,           1,           1,           1,           1,           1,           1,           1,\n",
      "                  1,           1,           1,           1,           1,           1,           1,           1,           1,           1,           1,           1,           1,           1,           1,           1,           1,           1,           1,           1,           1,           1,           1,\n",
      "                  1,           1,           1,           1,           1,           1,           1,           1,           1,           1,           1,           1,           1,           1,           1,           1,           1,           1,           1,           1,           1,           1,           1,\n",
      "                  1,           1,           1,           1,           1,           1,           1,           1,           1,           1,           1,           1,           1,           1,           1,           1,           1,           1,           1,           1,           1,           1,           1,\n",
      "                  1,           1,           1,           1,           1,           1,           1,           1,           1,           1,           1,           1,           1,           1,           1,           1,           1,           1,           1,           1,           1,           1,           1,\n",
      "                  1,           1,           1,           1,           1,           1,           1,           1,           1,           1,           1,           1,           1,           1,           1,           1,           1,           1,           1,           1,           1,           1,           1,\n",
      "                  1,           1,           1,           1,           1,           1,           1,           1,           1,           1,           1,           1,           1,           1,           1,           1,           1,           1,           1,           1,           1,           1,           1,\n",
      "                  1,           1,           1,           1,           1,           1,           1,           1,           1,           1,           1,           1,           1,           1,           1,           1,           1,           1,           1,           1,           1,           1,           1,\n",
      "                  1,           1,           1,           1,           1,           1,           1,           1,           1,           1,           1,           1,           1,           1,           1,           1,           1,           1,           1,           1,           1,           1,           1,\n",
      "                  1,           1,           1,           1,           1,           1,           1,           1,           1,           1,           1,           1,           1,           1,           1,           1,           1,           1,           1,           1,           1,           1,           1,\n",
      "                  1,           1,           1,           1,           1,           1,           1,           1,           1,           1,           1,           1,           1,           1,           1,           1,           1,           1,           1,           1,           1,           1,           1,\n",
      "                  1,           1,           1,           1,           1,           1,           1,           1,           1,           1,           1,           1,           1,           1,           1,           1,           1,           1,           1,           1,           1,           1,           1,\n",
      "                  1,           1,           1,           1,           1,           1,           1,           1,           1,           1,           1,           1,           1,           1,           1,           1,           1,           1,           1,           1,           1,           1,           1,\n",
      "                  1,           1,           1,           1,           1,           1,           1,           1,           1,           1,           1,           1,           1,           1,           1,           1,           1,           1,           1,           1,           1,           1,           1,\n",
      "                  1,           1,           1,           1,           1,           1,           1,           1,           1,           1,           1,           1,           1,           1,           1,           1,           1,           1,           1,           1,           1,           1,           1,\n",
      "                  1,           1,           1,           1,           1,           1,           1,           1,           1,           1,           1,           1,           1,           1,           1,           1,           1,           1,           1,           1,           1,           1,           1,\n",
      "                  1,           1,           1,           1,           1,           1,           1,           1,           1,           1,           1,           1,           1,           1,           1,           1,           1,           1,           1,           1,           1,           1,           1,\n",
      "                  1,           1,           1,           1,           1,           1,           1,           1,           1,           1,           1,           1,           1,           1,           1,           1,           1,           1,           1,           1,           1,           1,           1,\n",
      "                  1,           1,           1,           1,           1,           1,           1,           1,           1,           1,           1,           1,           1,           1,           1,           1,           1,           1,           1,           1,           1,           1,           1,\n",
      "                  1,           1,           1,           1,           1,           1,           1,           1,           1,           1,           1,           1,           1,           1,           1,           1,           1,           1,           1,           1,           1,           1,           1,\n",
      "                  1,           1,           1,           1,           1,           1,           1,           1,           1,           1,           1,           1,           1,           1,           1,           1,           1,           1,           1,           1,           1,           1,           1,\n",
      "                  1,           1,           1,           1,           1,           1,           1,           1,           1,           1,           1,           1,           1,           1,           1,           1,           1,           1,           1,           1,           1,           1,           1,\n",
      "                  1,           1,           1,           1,           1,           1,           1,           1,           1,           1,           1,           1,           1,           1,           1,           1,           1,           1,           1,           1,           1,           1,           1,\n",
      "                  1,           1,           1,           1,           1,           1,           1,           1,           1,           1,           1,           1,           1,           1,           1,           1,           1,           1,           1,           1,           1,           1,           1,\n",
      "                  1,           1,           1,           1,           1,           1,           1,           1,           1,           1,           1,           1,           1,           1,           1,           1,           1,           1,           1,           1,           1,           1,           1,\n",
      "                  1,           1,           1,           1,           1,           1,           1,           1,           1,           1,           1,           1,           1,           1,           1,           1,           1,           1,           1,           1,           1,           1,           1,\n",
      "                  1,           1,           1,           1,           1,           1,           1,           1,           1,           1,           1,           1,           1,           1,           1,           1,           1,           1,           1,           1,           1,           1,           1,\n",
      "                  1,           1,           1,           1,           1,           1,           1,           1,           1,           1,           1,           1,           1,           1,           1,           1,           1,           1,           1,           1,           1,           1,           1,\n",
      "                  1,           1,           1,           1,           1,           1,           1,           1,           1,           1,           0]]), 'Recall', 'Precision'], [array([          0,    0.001001,    0.002002,    0.003003,    0.004004,    0.005005,    0.006006,    0.007007,    0.008008,    0.009009,     0.01001,    0.011011,    0.012012,    0.013013,    0.014014,    0.015015,    0.016016,    0.017017,    0.018018,    0.019019,     0.02002,    0.021021,    0.022022,    0.023023,\n",
      "          0.024024,    0.025025,    0.026026,    0.027027,    0.028028,    0.029029,     0.03003,    0.031031,    0.032032,    0.033033,    0.034034,    0.035035,    0.036036,    0.037037,    0.038038,    0.039039,     0.04004,    0.041041,    0.042042,    0.043043,    0.044044,    0.045045,    0.046046,    0.047047,\n",
      "          0.048048,    0.049049,     0.05005,    0.051051,    0.052052,    0.053053,    0.054054,    0.055055,    0.056056,    0.057057,    0.058058,    0.059059,     0.06006,    0.061061,    0.062062,    0.063063,    0.064064,    0.065065,    0.066066,    0.067067,    0.068068,    0.069069,     0.07007,    0.071071,\n",
      "          0.072072,    0.073073,    0.074074,    0.075075,    0.076076,    0.077077,    0.078078,    0.079079,     0.08008,    0.081081,    0.082082,    0.083083,    0.084084,    0.085085,    0.086086,    0.087087,    0.088088,    0.089089,     0.09009,    0.091091,    0.092092,    0.093093,    0.094094,    0.095095,\n",
      "          0.096096,    0.097097,    0.098098,    0.099099,      0.1001,      0.1011,      0.1021,      0.1031,      0.1041,     0.10511,     0.10611,     0.10711,     0.10811,     0.10911,     0.11011,     0.11111,     0.11211,     0.11311,     0.11411,     0.11512,     0.11612,     0.11712,     0.11812,     0.11912,\n",
      "           0.12012,     0.12112,     0.12212,     0.12312,     0.12412,     0.12513,     0.12613,     0.12713,     0.12813,     0.12913,     0.13013,     0.13113,     0.13213,     0.13313,     0.13413,     0.13514,     0.13614,     0.13714,     0.13814,     0.13914,     0.14014,     0.14114,     0.14214,     0.14314,\n",
      "           0.14414,     0.14515,     0.14615,     0.14715,     0.14815,     0.14915,     0.15015,     0.15115,     0.15215,     0.15315,     0.15415,     0.15516,     0.15616,     0.15716,     0.15816,     0.15916,     0.16016,     0.16116,     0.16216,     0.16316,     0.16416,     0.16517,     0.16617,     0.16717,\n",
      "           0.16817,     0.16917,     0.17017,     0.17117,     0.17217,     0.17317,     0.17417,     0.17518,     0.17618,     0.17718,     0.17818,     0.17918,     0.18018,     0.18118,     0.18218,     0.18318,     0.18418,     0.18519,     0.18619,     0.18719,     0.18819,     0.18919,     0.19019,     0.19119,\n",
      "           0.19219,     0.19319,     0.19419,      0.1952,      0.1962,      0.1972,      0.1982,      0.1992,      0.2002,      0.2012,      0.2022,      0.2032,      0.2042,     0.20521,     0.20621,     0.20721,     0.20821,     0.20921,     0.21021,     0.21121,     0.21221,     0.21321,     0.21421,     0.21522,\n",
      "           0.21622,     0.21722,     0.21822,     0.21922,     0.22022,     0.22122,     0.22222,     0.22322,     0.22422,     0.22523,     0.22623,     0.22723,     0.22823,     0.22923,     0.23023,     0.23123,     0.23223,     0.23323,     0.23423,     0.23524,     0.23624,     0.23724,     0.23824,     0.23924,\n",
      "           0.24024,     0.24124,     0.24224,     0.24324,     0.24424,     0.24525,     0.24625,     0.24725,     0.24825,     0.24925,     0.25025,     0.25125,     0.25225,     0.25325,     0.25425,     0.25526,     0.25626,     0.25726,     0.25826,     0.25926,     0.26026,     0.26126,     0.26226,     0.26326,\n",
      "           0.26426,     0.26527,     0.26627,     0.26727,     0.26827,     0.26927,     0.27027,     0.27127,     0.27227,     0.27327,     0.27427,     0.27528,     0.27628,     0.27728,     0.27828,     0.27928,     0.28028,     0.28128,     0.28228,     0.28328,     0.28428,     0.28529,     0.28629,     0.28729,\n",
      "           0.28829,     0.28929,     0.29029,     0.29129,     0.29229,     0.29329,     0.29429,      0.2953,      0.2963,      0.2973,      0.2983,      0.2993,      0.3003,      0.3013,      0.3023,      0.3033,      0.3043,     0.30531,     0.30631,     0.30731,     0.30831,     0.30931,     0.31031,     0.31131,\n",
      "           0.31231,     0.31331,     0.31431,     0.31532,     0.31632,     0.31732,     0.31832,     0.31932,     0.32032,     0.32132,     0.32232,     0.32332,     0.32432,     0.32533,     0.32633,     0.32733,     0.32833,     0.32933,     0.33033,     0.33133,     0.33233,     0.33333,     0.33433,     0.33534,\n",
      "           0.33634,     0.33734,     0.33834,     0.33934,     0.34034,     0.34134,     0.34234,     0.34334,     0.34434,     0.34535,     0.34635,     0.34735,     0.34835,     0.34935,     0.35035,     0.35135,     0.35235,     0.35335,     0.35435,     0.35536,     0.35636,     0.35736,     0.35836,     0.35936,\n",
      "           0.36036,     0.36136,     0.36236,     0.36336,     0.36436,     0.36537,     0.36637,     0.36737,     0.36837,     0.36937,     0.37037,     0.37137,     0.37237,     0.37337,     0.37437,     0.37538,     0.37638,     0.37738,     0.37838,     0.37938,     0.38038,     0.38138,     0.38238,     0.38338,\n",
      "           0.38438,     0.38539,     0.38639,     0.38739,     0.38839,     0.38939,     0.39039,     0.39139,     0.39239,     0.39339,     0.39439,      0.3954,      0.3964,      0.3974,      0.3984,      0.3994,      0.4004,      0.4014,      0.4024,      0.4034,      0.4044,     0.40541,     0.40641,     0.40741,\n",
      "           0.40841,     0.40941,     0.41041,     0.41141,     0.41241,     0.41341,     0.41441,     0.41542,     0.41642,     0.41742,     0.41842,     0.41942,     0.42042,     0.42142,     0.42242,     0.42342,     0.42442,     0.42543,     0.42643,     0.42743,     0.42843,     0.42943,     0.43043,     0.43143,\n",
      "           0.43243,     0.43343,     0.43443,     0.43544,     0.43644,     0.43744,     0.43844,     0.43944,     0.44044,     0.44144,     0.44244,     0.44344,     0.44444,     0.44545,     0.44645,     0.44745,     0.44845,     0.44945,     0.45045,     0.45145,     0.45245,     0.45345,     0.45445,     0.45546,\n",
      "           0.45646,     0.45746,     0.45846,     0.45946,     0.46046,     0.46146,     0.46246,     0.46346,     0.46446,     0.46547,     0.46647,     0.46747,     0.46847,     0.46947,     0.47047,     0.47147,     0.47247,     0.47347,     0.47447,     0.47548,     0.47648,     0.47748,     0.47848,     0.47948,\n",
      "           0.48048,     0.48148,     0.48248,     0.48348,     0.48448,     0.48549,     0.48649,     0.48749,     0.48849,     0.48949,     0.49049,     0.49149,     0.49249,     0.49349,     0.49449,      0.4955,      0.4965,      0.4975,      0.4985,      0.4995,      0.5005,      0.5015,      0.5025,      0.5035,\n",
      "            0.5045,     0.50551,     0.50651,     0.50751,     0.50851,     0.50951,     0.51051,     0.51151,     0.51251,     0.51351,     0.51451,     0.51552,     0.51652,     0.51752,     0.51852,     0.51952,     0.52052,     0.52152,     0.52252,     0.52352,     0.52452,     0.52553,     0.52653,     0.52753,\n",
      "           0.52853,     0.52953,     0.53053,     0.53153,     0.53253,     0.53353,     0.53453,     0.53554,     0.53654,     0.53754,     0.53854,     0.53954,     0.54054,     0.54154,     0.54254,     0.54354,     0.54454,     0.54555,     0.54655,     0.54755,     0.54855,     0.54955,     0.55055,     0.55155,\n",
      "           0.55255,     0.55355,     0.55455,     0.55556,     0.55656,     0.55756,     0.55856,     0.55956,     0.56056,     0.56156,     0.56256,     0.56356,     0.56456,     0.56557,     0.56657,     0.56757,     0.56857,     0.56957,     0.57057,     0.57157,     0.57257,     0.57357,     0.57457,     0.57558,\n",
      "           0.57658,     0.57758,     0.57858,     0.57958,     0.58058,     0.58158,     0.58258,     0.58358,     0.58458,     0.58559,     0.58659,     0.58759,     0.58859,     0.58959,     0.59059,     0.59159,     0.59259,     0.59359,     0.59459,      0.5956,      0.5966,      0.5976,      0.5986,      0.5996,\n",
      "            0.6006,      0.6016,      0.6026,      0.6036,      0.6046,     0.60561,     0.60661,     0.60761,     0.60861,     0.60961,     0.61061,     0.61161,     0.61261,     0.61361,     0.61461,     0.61562,     0.61662,     0.61762,     0.61862,     0.61962,     0.62062,     0.62162,     0.62262,     0.62362,\n",
      "           0.62462,     0.62563,     0.62663,     0.62763,     0.62863,     0.62963,     0.63063,     0.63163,     0.63263,     0.63363,     0.63463,     0.63564,     0.63664,     0.63764,     0.63864,     0.63964,     0.64064,     0.64164,     0.64264,     0.64364,     0.64464,     0.64565,     0.64665,     0.64765,\n",
      "           0.64865,     0.64965,     0.65065,     0.65165,     0.65265,     0.65365,     0.65465,     0.65566,     0.65666,     0.65766,     0.65866,     0.65966,     0.66066,     0.66166,     0.66266,     0.66366,     0.66466,     0.66567,     0.66667,     0.66767,     0.66867,     0.66967,     0.67067,     0.67167,\n",
      "           0.67267,     0.67367,     0.67467,     0.67568,     0.67668,     0.67768,     0.67868,     0.67968,     0.68068,     0.68168,     0.68268,     0.68368,     0.68468,     0.68569,     0.68669,     0.68769,     0.68869,     0.68969,     0.69069,     0.69169,     0.69269,     0.69369,     0.69469,      0.6957,\n",
      "            0.6967,      0.6977,      0.6987,      0.6997,      0.7007,      0.7017,      0.7027,      0.7037,      0.7047,     0.70571,     0.70671,     0.70771,     0.70871,     0.70971,     0.71071,     0.71171,     0.71271,     0.71371,     0.71471,     0.71572,     0.71672,     0.71772,     0.71872,     0.71972,\n",
      "           0.72072,     0.72172,     0.72272,     0.72372,     0.72472,     0.72573,     0.72673,     0.72773,     0.72873,     0.72973,     0.73073,     0.73173,     0.73273,     0.73373,     0.73473,     0.73574,     0.73674,     0.73774,     0.73874,     0.73974,     0.74074,     0.74174,     0.74274,     0.74374,\n",
      "           0.74474,     0.74575,     0.74675,     0.74775,     0.74875,     0.74975,     0.75075,     0.75175,     0.75275,     0.75375,     0.75475,     0.75576,     0.75676,     0.75776,     0.75876,     0.75976,     0.76076,     0.76176,     0.76276,     0.76376,     0.76476,     0.76577,     0.76677,     0.76777,\n",
      "           0.76877,     0.76977,     0.77077,     0.77177,     0.77277,     0.77377,     0.77477,     0.77578,     0.77678,     0.77778,     0.77878,     0.77978,     0.78078,     0.78178,     0.78278,     0.78378,     0.78478,     0.78579,     0.78679,     0.78779,     0.78879,     0.78979,     0.79079,     0.79179,\n",
      "           0.79279,     0.79379,     0.79479,      0.7958,      0.7968,      0.7978,      0.7988,      0.7998,      0.8008,      0.8018,      0.8028,      0.8038,      0.8048,     0.80581,     0.80681,     0.80781,     0.80881,     0.80981,     0.81081,     0.81181,     0.81281,     0.81381,     0.81481,     0.81582,\n",
      "           0.81682,     0.81782,     0.81882,     0.81982,     0.82082,     0.82182,     0.82282,     0.82382,     0.82482,     0.82583,     0.82683,     0.82783,     0.82883,     0.82983,     0.83083,     0.83183,     0.83283,     0.83383,     0.83483,     0.83584,     0.83684,     0.83784,     0.83884,     0.83984,\n",
      "           0.84084,     0.84184,     0.84284,     0.84384,     0.84484,     0.84585,     0.84685,     0.84785,     0.84885,     0.84985,     0.85085,     0.85185,     0.85285,     0.85385,     0.85485,     0.85586,     0.85686,     0.85786,     0.85886,     0.85986,     0.86086,     0.86186,     0.86286,     0.86386,\n",
      "           0.86486,     0.86587,     0.86687,     0.86787,     0.86887,     0.86987,     0.87087,     0.87187,     0.87287,     0.87387,     0.87487,     0.87588,     0.87688,     0.87788,     0.87888,     0.87988,     0.88088,     0.88188,     0.88288,     0.88388,     0.88488,     0.88589,     0.88689,     0.88789,\n",
      "           0.88889,     0.88989,     0.89089,     0.89189,     0.89289,     0.89389,     0.89489,      0.8959,      0.8969,      0.8979,      0.8989,      0.8999,      0.9009,      0.9019,      0.9029,      0.9039,      0.9049,     0.90591,     0.90691,     0.90791,     0.90891,     0.90991,     0.91091,     0.91191,\n",
      "           0.91291,     0.91391,     0.91491,     0.91592,     0.91692,     0.91792,     0.91892,     0.91992,     0.92092,     0.92192,     0.92292,     0.92392,     0.92492,     0.92593,     0.92693,     0.92793,     0.92893,     0.92993,     0.93093,     0.93193,     0.93293,     0.93393,     0.93493,     0.93594,\n",
      "           0.93694,     0.93794,     0.93894,     0.93994,     0.94094,     0.94194,     0.94294,     0.94394,     0.94494,     0.94595,     0.94695,     0.94795,     0.94895,     0.94995,     0.95095,     0.95195,     0.95295,     0.95395,     0.95495,     0.95596,     0.95696,     0.95796,     0.95896,     0.95996,\n",
      "           0.96096,     0.96196,     0.96296,     0.96396,     0.96496,     0.96597,     0.96697,     0.96797,     0.96897,     0.96997,     0.97097,     0.97197,     0.97297,     0.97397,     0.97497,     0.97598,     0.97698,     0.97798,     0.97898,     0.97998,     0.98098,     0.98198,     0.98298,     0.98398,\n",
      "           0.98498,     0.98599,     0.98699,     0.98799,     0.98899,     0.98999,     0.99099,     0.99199,     0.99299,     0.99399,     0.99499,       0.996,       0.997,       0.998,       0.999,           1]), array([[      0.163,       0.163,     0.26055,     0.33647,     0.39232,     0.44057,     0.47515,      0.5094,     0.54982,     0.57303,     0.59684,     0.62209,     0.65086,     0.66448,     0.67813,     0.69964,     0.71393,     0.72267,     0.72965,     0.74436,     0.74851,     0.75358,     0.76489,\n",
      "            0.76799,     0.77151,     0.78315,     0.79419,     0.80608,     0.81717,     0.82394,      0.8285,     0.84144,     0.84528,     0.84747,     0.84948,     0.85264,     0.86348,     0.87524,     0.88054,     0.88325,     0.88564,     0.88969,     0.89768,     0.90711,     0.90814,     0.90916,\n",
      "            0.91018,      0.9112,     0.91222,     0.91328,     0.91452,     0.91576,     0.91699,     0.91822,     0.91945,     0.92663,     0.92744,     0.92825,     0.92906,     0.92987,     0.93067,     0.93148,     0.93228,     0.93308,     0.93567,     0.93905,     0.94085,     0.94173,     0.94261,\n",
      "            0.94348,     0.94435,     0.94523,      0.9461,     0.94697,     0.95072,     0.95475,      0.9553,     0.95585,     0.95639,     0.95694,     0.95748,     0.95803,     0.95857,     0.95911,     0.95966,      0.9602,     0.96074,     0.96128,     0.96182,     0.96251,     0.96321,      0.9639,\n",
      "             0.9646,     0.96529,     0.96598,     0.96667,     0.96736,     0.96805,     0.96874,     0.96964,     0.97107,      0.9725,     0.97392,     0.97533,     0.97674,     0.98442,     0.98461,     0.98481,       0.985,      0.9852,     0.98539,     0.98559,     0.98578,     0.98598,     0.98617,\n",
      "            0.98637,     0.98656,     0.98676,     0.98695,     0.98715,     0.98734,     0.98754,     0.98773,     0.98792,     0.98812,     0.98831,     0.98851,      0.9887,     0.98889,     0.98909,     0.98928,     0.98948,     0.98967,     0.98986,     0.99006,     0.99025,     0.99044,     0.99064,\n",
      "            0.99083,     0.99102,     0.99121,     0.99141,      0.9916,     0.99179,     0.99199,     0.99213,     0.99214,     0.99216,     0.99217,     0.99219,      0.9922,     0.99221,     0.99223,     0.99224,     0.99226,     0.99227,     0.99229,      0.9923,     0.99231,     0.99233,     0.99234,\n",
      "            0.99236,     0.99237,     0.99238,      0.9924,     0.99241,     0.99243,     0.99244,     0.99245,     0.99247,     0.99248,      0.9925,     0.99251,     0.99253,     0.99254,     0.99255,     0.99257,     0.99258,      0.9926,     0.99261,     0.99262,     0.99264,     0.99265,     0.99267,\n",
      "            0.99268,     0.99269,     0.99271,     0.99272,     0.99274,     0.99275,     0.99276,     0.99278,     0.99279,     0.99281,     0.99282,     0.99284,     0.99285,     0.99286,     0.99288,     0.99289,     0.99291,     0.99292,     0.99293,     0.99295,     0.99296,     0.99298,     0.99299,\n",
      "              0.993,     0.99302,     0.99303,     0.99305,     0.99306,     0.99308,     0.99309,      0.9931,     0.99312,     0.99313,     0.99315,     0.99316,     0.99317,     0.99319,      0.9932,     0.99322,     0.99323,     0.99324,     0.99326,     0.99327,     0.99329,      0.9933,     0.99331,\n",
      "            0.99333,     0.99334,     0.99336,     0.99337,     0.99339,      0.9934,     0.99341,     0.99343,     0.99344,     0.99346,     0.99347,     0.99348,      0.9935,     0.99351,     0.99353,     0.99354,     0.99355,     0.99357,     0.99358,      0.9936,     0.99361,     0.99362,     0.99364,\n",
      "            0.99365,     0.99367,     0.99368,     0.99369,     0.99371,     0.99372,     0.99374,     0.99375,     0.99377,     0.99378,     0.99379,     0.99381,     0.99382,     0.99384,     0.99385,     0.99386,     0.99388,     0.99389,     0.99391,     0.99392,     0.99393,     0.99395,     0.99396,\n",
      "            0.99398,     0.99399,       0.994,     0.99402,     0.99403,     0.99405,     0.99406,     0.99407,     0.99409,      0.9941,     0.99412,     0.99413,     0.99415,     0.99416,     0.99417,     0.99419,      0.9942,     0.99422,     0.99423,     0.99424,     0.99426,     0.99427,     0.99429,\n",
      "             0.9943,     0.99431,     0.99433,     0.99434,     0.99436,     0.99437,     0.99438,      0.9944,     0.99441,     0.99443,     0.99444,     0.99445,     0.99447,     0.99448,      0.9945,     0.99451,     0.99452,     0.99454,     0.99455,     0.99457,     0.99458,      0.9946,     0.99461,\n",
      "            0.99462,     0.99464,     0.99465,     0.99467,     0.99468,     0.99469,     0.99471,     0.99472,     0.99474,     0.99475,     0.99476,     0.99478,     0.99479,     0.99481,     0.99482,     0.99483,     0.99485,     0.99486,     0.99488,     0.99489,      0.9949,     0.99492,     0.99493,\n",
      "            0.99495,     0.99496,     0.99497,     0.99499,       0.995,     0.99502,     0.99503,     0.99504,     0.99506,     0.99507,     0.99509,      0.9951,     0.99511,     0.99513,     0.99514,     0.99516,     0.99517,     0.99519,      0.9952,     0.99521,     0.99523,     0.99524,     0.99526,\n",
      "            0.99527,     0.99528,      0.9953,     0.99531,     0.99533,     0.99534,     0.99535,     0.99537,     0.99538,      0.9954,     0.99541,     0.99542,     0.99544,     0.99545,     0.99547,     0.99548,     0.99549,     0.99551,     0.99552,     0.99554,     0.99555,     0.99556,     0.99558,\n",
      "            0.99559,     0.99561,     0.99562,     0.99563,     0.99565,     0.99566,     0.99568,     0.99569,      0.9957,     0.99572,     0.99573,     0.99575,     0.99576,     0.99577,     0.99579,      0.9958,     0.99582,     0.99583,     0.99584,     0.99586,     0.99587,     0.99589,      0.9959,\n",
      "            0.99591,     0.99593,     0.99594,     0.99596,     0.99597,     0.99598,       0.996,     0.99601,     0.99603,     0.99604,     0.99605,     0.99607,     0.99608,      0.9961,     0.99611,     0.99612,     0.99614,     0.99615,     0.99617,     0.99618,     0.99619,     0.99621,     0.99622,\n",
      "            0.99624,     0.99625,     0.99626,     0.99628,     0.99629,     0.99631,     0.99632,     0.99633,     0.99635,     0.99636,     0.99638,     0.99639,      0.9964,     0.99642,     0.99643,     0.99645,     0.99646,     0.99647,     0.99649,      0.9965,     0.99652,     0.99653,     0.99654,\n",
      "            0.99656,     0.99657,     0.99659,      0.9966,     0.99661,     0.99663,     0.99664,     0.99666,     0.99667,     0.99668,      0.9967,     0.99671,     0.99673,     0.99674,     0.99675,     0.99677,     0.99678,      0.9968,     0.99681,     0.99682,     0.99684,     0.99685,     0.99687,\n",
      "            0.99688,     0.99689,     0.99691,     0.99692,     0.99694,     0.99695,     0.99696,     0.99698,     0.99699,     0.99701,     0.99702,     0.99703,     0.99705,     0.99706,     0.99708,     0.99709,      0.9971,     0.99712,     0.99713,     0.99715,     0.99716,     0.99717,     0.99719,\n",
      "             0.9972,     0.99722,     0.99723,     0.99724,     0.99726,     0.99727,     0.99729,      0.9973,     0.99731,     0.99733,     0.99734,     0.99736,     0.99737,     0.99738,      0.9974,     0.99741,     0.99743,     0.99744,     0.99745,     0.99747,     0.99748,      0.9975,     0.99751,\n",
      "            0.99752,     0.99754,     0.99755,     0.99757,     0.99758,     0.99759,     0.99761,     0.99762,     0.99764,     0.99765,     0.99766,     0.99768,     0.99769,     0.99771,     0.99772,     0.99773,     0.99775,     0.99776,     0.99778,     0.99779,      0.9978,     0.99782,     0.99783,\n",
      "            0.99784,     0.99786,     0.99787,     0.99789,      0.9979,     0.99791,     0.99793,     0.99794,     0.99796,     0.99797,     0.99798,       0.998,     0.99801,     0.99803,     0.99804,     0.99805,     0.99807,     0.99808,      0.9981,     0.99811,     0.99812,     0.99814,     0.99815,\n",
      "            0.99817,     0.99818,     0.99819,     0.99821,     0.99822,     0.99824,     0.99825,     0.99826,     0.99828,     0.99829,     0.99831,     0.99832,     0.99833,     0.99835,     0.99836,     0.99838,     0.99839,      0.9984,     0.99842,     0.99843,     0.99844,     0.99846,     0.99847,\n",
      "            0.99849,      0.9985,     0.99851,     0.99853,     0.99854,     0.99856,     0.99857,     0.99858,      0.9986,     0.99861,     0.99863,     0.99864,     0.99865,     0.99867,     0.99868,      0.9987,     0.99871,     0.99872,     0.99874,     0.99875,     0.99877,     0.99878,     0.99879,\n",
      "            0.99881,     0.99882,     0.99884,     0.99885,     0.99886,     0.99888,     0.99889,      0.9989,     0.99892,     0.99893,     0.99895,     0.99896,     0.99897,     0.99899,       0.999,     0.99902,     0.99903,     0.99904,     0.99906,     0.99907,     0.99909,      0.9991,     0.99911,\n",
      "            0.99913,     0.99914,     0.99916,     0.99917,     0.99918,      0.9992,     0.99921,     0.99923,     0.99924,     0.99925,     0.99927,     0.99928,     0.99929,     0.99931,     0.99932,     0.99934,     0.99935,     0.99936,     0.99938,     0.99939,     0.99941,     0.99942,     0.99943,\n",
      "            0.99945,     0.99946,     0.99948,     0.99949,      0.9995,     0.99952,     0.99953,     0.99955,     0.99956,     0.99957,     0.99959,      0.9996,     0.99961,     0.99963,     0.99964,     0.99966,     0.99967,     0.99968,      0.9997,     0.99971,     0.99973,     0.99974,     0.99975,\n",
      "            0.99977,     0.99978,      0.9998,     0.99981,     0.99982,     0.99984,     0.99985,     0.99987,     0.99988,     0.99989,     0.99991,     0.99992,     0.99993,     0.99995,     0.99996,     0.99998,     0.99999,     0.99996,     0.99984,     0.99972,      0.9996,     0.99948,     0.99936,\n",
      "            0.99924,     0.99912,       0.999,     0.99888,     0.99876,     0.99864,     0.99852,     0.99839,     0.99827,     0.99815,     0.99803,     0.99791,     0.99779,     0.99767,     0.99755,     0.99743,     0.99731,     0.99719,     0.99706,     0.99694,     0.99682,      0.9967,     0.99658,\n",
      "            0.99646,     0.99634,     0.99622,     0.99609,     0.99597,     0.99585,     0.99573,     0.99561,     0.99549,     0.99537,     0.99524,     0.99512,       0.995,     0.99488,     0.99476,     0.99464,     0.99451,     0.99439,     0.99427,     0.99415,     0.99403,     0.99391,     0.99378,\n",
      "            0.99366,     0.99354,     0.99342,      0.9933,     0.99317,     0.99305,     0.99293,     0.99281,     0.99269,     0.99256,     0.99244,     0.99232,      0.9922,     0.99207,     0.99186,     0.99149,     0.99112,     0.99075,     0.99038,     0.99001,     0.98964,     0.98926,     0.98889,\n",
      "            0.98852,     0.98815,     0.98778,      0.9874,     0.98703,     0.98666,     0.98628,     0.98591,     0.98554,     0.98516,     0.98479,     0.98441,     0.98404,      0.9835,     0.98283,     0.98215,     0.98148,      0.9808,     0.98013,     0.97945,     0.97877,      0.9781,     0.97742,\n",
      "            0.97674,     0.97606,     0.97541,     0.97482,     0.97424,     0.97365,     0.97306,     0.97248,     0.97189,      0.9713,     0.97071,     0.97012,     0.96953,     0.96894,     0.96835,     0.96775,     0.96653,     0.95903,     0.95822,     0.95774,     0.95727,     0.95679,     0.95631,\n",
      "            0.95583,     0.95535,     0.95487,     0.95439,      0.9539,     0.95342,     0.95294,     0.95246,     0.95197,     0.95149,       0.951,     0.95052,     0.95003,     0.94944,     0.94883,     0.94823,     0.94762,     0.94701,      0.9464,     0.94579,     0.94518,     0.94457,     0.94396,\n",
      "            0.94335,     0.94273,     0.94212,     0.94151,     0.94084,     0.94013,     0.93941,     0.93869,     0.93797,     0.93725,     0.93652,      0.9358,     0.93508,     0.93435,     0.93362,      0.9329,     0.93215,      0.9311,     0.93005,       0.929,     0.92795,     0.92689,     0.92583,\n",
      "            0.92477,     0.92371,      0.9214,     0.91727,     0.91322,     0.90968,     0.90613,     0.90115,     0.89474,     0.89357,      0.8924,     0.89122,     0.89005,     0.88887,     0.88769,      0.8865,     0.88532,     0.88306,     0.88034,     0.87759,     0.87485,     0.87225,     0.86964,\n",
      "            0.86702,     0.86297,     0.85291,     0.84477,     0.84097,     0.83758,     0.83417,     0.82214,     0.81381,     0.80485,     0.78615,     0.77758,     0.77423,     0.77147,      0.7687,     0.76591,     0.75066,     0.74617,     0.74164,     0.72575,     0.72095,     0.71612,     0.70969,\n",
      "            0.70224,     0.69905,     0.69668,     0.69429,      0.6919,     0.68951,     0.68109,     0.64853,     0.63313,     0.60068,     0.58869,     0.57851,     0.56911,     0.53132,     0.48156,     0.47551,     0.46941,     0.46198,     0.41049,     0.39496,     0.38377,     0.36864,     0.32934,\n",
      "            0.31537,     0.30724,     0.29903,     0.29421,     0.29029,     0.28634,     0.28238,     0.27841,     0.27441,     0.26366,     0.25192,     0.24327,     0.23516,     0.22698,     0.15862,     0.13955,     0.12884,     0.11639,    0.092404,     0.04282,           0,           0,           0,\n",
      "                  0,           0,           0,           0,           0,           0,           0,           0,           0,           0,           0,           0,           0,           0,           0,           0,           0,           0,           0,           0,           0,           0,           0,\n",
      "                  0,           0,           0,           0,           0,           0,           0,           0,           0,           0,           0]]), 'Confidence', 'F1'], [array([          0,    0.001001,    0.002002,    0.003003,    0.004004,    0.005005,    0.006006,    0.007007,    0.008008,    0.009009,     0.01001,    0.011011,    0.012012,    0.013013,    0.014014,    0.015015,    0.016016,    0.017017,    0.018018,    0.019019,     0.02002,    0.021021,    0.022022,    0.023023,\n",
      "          0.024024,    0.025025,    0.026026,    0.027027,    0.028028,    0.029029,     0.03003,    0.031031,    0.032032,    0.033033,    0.034034,    0.035035,    0.036036,    0.037037,    0.038038,    0.039039,     0.04004,    0.041041,    0.042042,    0.043043,    0.044044,    0.045045,    0.046046,    0.047047,\n",
      "          0.048048,    0.049049,     0.05005,    0.051051,    0.052052,    0.053053,    0.054054,    0.055055,    0.056056,    0.057057,    0.058058,    0.059059,     0.06006,    0.061061,    0.062062,    0.063063,    0.064064,    0.065065,    0.066066,    0.067067,    0.068068,    0.069069,     0.07007,    0.071071,\n",
      "          0.072072,    0.073073,    0.074074,    0.075075,    0.076076,    0.077077,    0.078078,    0.079079,     0.08008,    0.081081,    0.082082,    0.083083,    0.084084,    0.085085,    0.086086,    0.087087,    0.088088,    0.089089,     0.09009,    0.091091,    0.092092,    0.093093,    0.094094,    0.095095,\n",
      "          0.096096,    0.097097,    0.098098,    0.099099,      0.1001,      0.1011,      0.1021,      0.1031,      0.1041,     0.10511,     0.10611,     0.10711,     0.10811,     0.10911,     0.11011,     0.11111,     0.11211,     0.11311,     0.11411,     0.11512,     0.11612,     0.11712,     0.11812,     0.11912,\n",
      "           0.12012,     0.12112,     0.12212,     0.12312,     0.12412,     0.12513,     0.12613,     0.12713,     0.12813,     0.12913,     0.13013,     0.13113,     0.13213,     0.13313,     0.13413,     0.13514,     0.13614,     0.13714,     0.13814,     0.13914,     0.14014,     0.14114,     0.14214,     0.14314,\n",
      "           0.14414,     0.14515,     0.14615,     0.14715,     0.14815,     0.14915,     0.15015,     0.15115,     0.15215,     0.15315,     0.15415,     0.15516,     0.15616,     0.15716,     0.15816,     0.15916,     0.16016,     0.16116,     0.16216,     0.16316,     0.16416,     0.16517,     0.16617,     0.16717,\n",
      "           0.16817,     0.16917,     0.17017,     0.17117,     0.17217,     0.17317,     0.17417,     0.17518,     0.17618,     0.17718,     0.17818,     0.17918,     0.18018,     0.18118,     0.18218,     0.18318,     0.18418,     0.18519,     0.18619,     0.18719,     0.18819,     0.18919,     0.19019,     0.19119,\n",
      "           0.19219,     0.19319,     0.19419,      0.1952,      0.1962,      0.1972,      0.1982,      0.1992,      0.2002,      0.2012,      0.2022,      0.2032,      0.2042,     0.20521,     0.20621,     0.20721,     0.20821,     0.20921,     0.21021,     0.21121,     0.21221,     0.21321,     0.21421,     0.21522,\n",
      "           0.21622,     0.21722,     0.21822,     0.21922,     0.22022,     0.22122,     0.22222,     0.22322,     0.22422,     0.22523,     0.22623,     0.22723,     0.22823,     0.22923,     0.23023,     0.23123,     0.23223,     0.23323,     0.23423,     0.23524,     0.23624,     0.23724,     0.23824,     0.23924,\n",
      "           0.24024,     0.24124,     0.24224,     0.24324,     0.24424,     0.24525,     0.24625,     0.24725,     0.24825,     0.24925,     0.25025,     0.25125,     0.25225,     0.25325,     0.25425,     0.25526,     0.25626,     0.25726,     0.25826,     0.25926,     0.26026,     0.26126,     0.26226,     0.26326,\n",
      "           0.26426,     0.26527,     0.26627,     0.26727,     0.26827,     0.26927,     0.27027,     0.27127,     0.27227,     0.27327,     0.27427,     0.27528,     0.27628,     0.27728,     0.27828,     0.27928,     0.28028,     0.28128,     0.28228,     0.28328,     0.28428,     0.28529,     0.28629,     0.28729,\n",
      "           0.28829,     0.28929,     0.29029,     0.29129,     0.29229,     0.29329,     0.29429,      0.2953,      0.2963,      0.2973,      0.2983,      0.2993,      0.3003,      0.3013,      0.3023,      0.3033,      0.3043,     0.30531,     0.30631,     0.30731,     0.30831,     0.30931,     0.31031,     0.31131,\n",
      "           0.31231,     0.31331,     0.31431,     0.31532,     0.31632,     0.31732,     0.31832,     0.31932,     0.32032,     0.32132,     0.32232,     0.32332,     0.32432,     0.32533,     0.32633,     0.32733,     0.32833,     0.32933,     0.33033,     0.33133,     0.33233,     0.33333,     0.33433,     0.33534,\n",
      "           0.33634,     0.33734,     0.33834,     0.33934,     0.34034,     0.34134,     0.34234,     0.34334,     0.34434,     0.34535,     0.34635,     0.34735,     0.34835,     0.34935,     0.35035,     0.35135,     0.35235,     0.35335,     0.35435,     0.35536,     0.35636,     0.35736,     0.35836,     0.35936,\n",
      "           0.36036,     0.36136,     0.36236,     0.36336,     0.36436,     0.36537,     0.36637,     0.36737,     0.36837,     0.36937,     0.37037,     0.37137,     0.37237,     0.37337,     0.37437,     0.37538,     0.37638,     0.37738,     0.37838,     0.37938,     0.38038,     0.38138,     0.38238,     0.38338,\n",
      "           0.38438,     0.38539,     0.38639,     0.38739,     0.38839,     0.38939,     0.39039,     0.39139,     0.39239,     0.39339,     0.39439,      0.3954,      0.3964,      0.3974,      0.3984,      0.3994,      0.4004,      0.4014,      0.4024,      0.4034,      0.4044,     0.40541,     0.40641,     0.40741,\n",
      "           0.40841,     0.40941,     0.41041,     0.41141,     0.41241,     0.41341,     0.41441,     0.41542,     0.41642,     0.41742,     0.41842,     0.41942,     0.42042,     0.42142,     0.42242,     0.42342,     0.42442,     0.42543,     0.42643,     0.42743,     0.42843,     0.42943,     0.43043,     0.43143,\n",
      "           0.43243,     0.43343,     0.43443,     0.43544,     0.43644,     0.43744,     0.43844,     0.43944,     0.44044,     0.44144,     0.44244,     0.44344,     0.44444,     0.44545,     0.44645,     0.44745,     0.44845,     0.44945,     0.45045,     0.45145,     0.45245,     0.45345,     0.45445,     0.45546,\n",
      "           0.45646,     0.45746,     0.45846,     0.45946,     0.46046,     0.46146,     0.46246,     0.46346,     0.46446,     0.46547,     0.46647,     0.46747,     0.46847,     0.46947,     0.47047,     0.47147,     0.47247,     0.47347,     0.47447,     0.47548,     0.47648,     0.47748,     0.47848,     0.47948,\n",
      "           0.48048,     0.48148,     0.48248,     0.48348,     0.48448,     0.48549,     0.48649,     0.48749,     0.48849,     0.48949,     0.49049,     0.49149,     0.49249,     0.49349,     0.49449,      0.4955,      0.4965,      0.4975,      0.4985,      0.4995,      0.5005,      0.5015,      0.5025,      0.5035,\n",
      "            0.5045,     0.50551,     0.50651,     0.50751,     0.50851,     0.50951,     0.51051,     0.51151,     0.51251,     0.51351,     0.51451,     0.51552,     0.51652,     0.51752,     0.51852,     0.51952,     0.52052,     0.52152,     0.52252,     0.52352,     0.52452,     0.52553,     0.52653,     0.52753,\n",
      "           0.52853,     0.52953,     0.53053,     0.53153,     0.53253,     0.53353,     0.53453,     0.53554,     0.53654,     0.53754,     0.53854,     0.53954,     0.54054,     0.54154,     0.54254,     0.54354,     0.54454,     0.54555,     0.54655,     0.54755,     0.54855,     0.54955,     0.55055,     0.55155,\n",
      "           0.55255,     0.55355,     0.55455,     0.55556,     0.55656,     0.55756,     0.55856,     0.55956,     0.56056,     0.56156,     0.56256,     0.56356,     0.56456,     0.56557,     0.56657,     0.56757,     0.56857,     0.56957,     0.57057,     0.57157,     0.57257,     0.57357,     0.57457,     0.57558,\n",
      "           0.57658,     0.57758,     0.57858,     0.57958,     0.58058,     0.58158,     0.58258,     0.58358,     0.58458,     0.58559,     0.58659,     0.58759,     0.58859,     0.58959,     0.59059,     0.59159,     0.59259,     0.59359,     0.59459,      0.5956,      0.5966,      0.5976,      0.5986,      0.5996,\n",
      "            0.6006,      0.6016,      0.6026,      0.6036,      0.6046,     0.60561,     0.60661,     0.60761,     0.60861,     0.60961,     0.61061,     0.61161,     0.61261,     0.61361,     0.61461,     0.61562,     0.61662,     0.61762,     0.61862,     0.61962,     0.62062,     0.62162,     0.62262,     0.62362,\n",
      "           0.62462,     0.62563,     0.62663,     0.62763,     0.62863,     0.62963,     0.63063,     0.63163,     0.63263,     0.63363,     0.63463,     0.63564,     0.63664,     0.63764,     0.63864,     0.63964,     0.64064,     0.64164,     0.64264,     0.64364,     0.64464,     0.64565,     0.64665,     0.64765,\n",
      "           0.64865,     0.64965,     0.65065,     0.65165,     0.65265,     0.65365,     0.65465,     0.65566,     0.65666,     0.65766,     0.65866,     0.65966,     0.66066,     0.66166,     0.66266,     0.66366,     0.66466,     0.66567,     0.66667,     0.66767,     0.66867,     0.66967,     0.67067,     0.67167,\n",
      "           0.67267,     0.67367,     0.67467,     0.67568,     0.67668,     0.67768,     0.67868,     0.67968,     0.68068,     0.68168,     0.68268,     0.68368,     0.68468,     0.68569,     0.68669,     0.68769,     0.68869,     0.68969,     0.69069,     0.69169,     0.69269,     0.69369,     0.69469,      0.6957,\n",
      "            0.6967,      0.6977,      0.6987,      0.6997,      0.7007,      0.7017,      0.7027,      0.7037,      0.7047,     0.70571,     0.70671,     0.70771,     0.70871,     0.70971,     0.71071,     0.71171,     0.71271,     0.71371,     0.71471,     0.71572,     0.71672,     0.71772,     0.71872,     0.71972,\n",
      "           0.72072,     0.72172,     0.72272,     0.72372,     0.72472,     0.72573,     0.72673,     0.72773,     0.72873,     0.72973,     0.73073,     0.73173,     0.73273,     0.73373,     0.73473,     0.73574,     0.73674,     0.73774,     0.73874,     0.73974,     0.74074,     0.74174,     0.74274,     0.74374,\n",
      "           0.74474,     0.74575,     0.74675,     0.74775,     0.74875,     0.74975,     0.75075,     0.75175,     0.75275,     0.75375,     0.75475,     0.75576,     0.75676,     0.75776,     0.75876,     0.75976,     0.76076,     0.76176,     0.76276,     0.76376,     0.76476,     0.76577,     0.76677,     0.76777,\n",
      "           0.76877,     0.76977,     0.77077,     0.77177,     0.77277,     0.77377,     0.77477,     0.77578,     0.77678,     0.77778,     0.77878,     0.77978,     0.78078,     0.78178,     0.78278,     0.78378,     0.78478,     0.78579,     0.78679,     0.78779,     0.78879,     0.78979,     0.79079,     0.79179,\n",
      "           0.79279,     0.79379,     0.79479,      0.7958,      0.7968,      0.7978,      0.7988,      0.7998,      0.8008,      0.8018,      0.8028,      0.8038,      0.8048,     0.80581,     0.80681,     0.80781,     0.80881,     0.80981,     0.81081,     0.81181,     0.81281,     0.81381,     0.81481,     0.81582,\n",
      "           0.81682,     0.81782,     0.81882,     0.81982,     0.82082,     0.82182,     0.82282,     0.82382,     0.82482,     0.82583,     0.82683,     0.82783,     0.82883,     0.82983,     0.83083,     0.83183,     0.83283,     0.83383,     0.83483,     0.83584,     0.83684,     0.83784,     0.83884,     0.83984,\n",
      "           0.84084,     0.84184,     0.84284,     0.84384,     0.84484,     0.84585,     0.84685,     0.84785,     0.84885,     0.84985,     0.85085,     0.85185,     0.85285,     0.85385,     0.85485,     0.85586,     0.85686,     0.85786,     0.85886,     0.85986,     0.86086,     0.86186,     0.86286,     0.86386,\n",
      "           0.86486,     0.86587,     0.86687,     0.86787,     0.86887,     0.86987,     0.87087,     0.87187,     0.87287,     0.87387,     0.87487,     0.87588,     0.87688,     0.87788,     0.87888,     0.87988,     0.88088,     0.88188,     0.88288,     0.88388,     0.88488,     0.88589,     0.88689,     0.88789,\n",
      "           0.88889,     0.88989,     0.89089,     0.89189,     0.89289,     0.89389,     0.89489,      0.8959,      0.8969,      0.8979,      0.8989,      0.8999,      0.9009,      0.9019,      0.9029,      0.9039,      0.9049,     0.90591,     0.90691,     0.90791,     0.90891,     0.90991,     0.91091,     0.91191,\n",
      "           0.91291,     0.91391,     0.91491,     0.91592,     0.91692,     0.91792,     0.91892,     0.91992,     0.92092,     0.92192,     0.92292,     0.92392,     0.92492,     0.92593,     0.92693,     0.92793,     0.92893,     0.92993,     0.93093,     0.93193,     0.93293,     0.93393,     0.93493,     0.93594,\n",
      "           0.93694,     0.93794,     0.93894,     0.93994,     0.94094,     0.94194,     0.94294,     0.94394,     0.94494,     0.94595,     0.94695,     0.94795,     0.94895,     0.94995,     0.95095,     0.95195,     0.95295,     0.95395,     0.95495,     0.95596,     0.95696,     0.95796,     0.95896,     0.95996,\n",
      "           0.96096,     0.96196,     0.96296,     0.96396,     0.96496,     0.96597,     0.96697,     0.96797,     0.96897,     0.96997,     0.97097,     0.97197,     0.97297,     0.97397,     0.97497,     0.97598,     0.97698,     0.97798,     0.97898,     0.97998,     0.98098,     0.98198,     0.98298,     0.98398,\n",
      "           0.98498,     0.98599,     0.98699,     0.98799,     0.98899,     0.98999,     0.99099,     0.99199,     0.99299,     0.99399,     0.99499,       0.996,       0.997,       0.998,       0.999,           1]), array([[   0.088732,    0.088732,     0.14979,     0.20226,     0.24403,     0.28252,     0.31161,     0.34174,     0.37914,     0.40158,     0.42536,     0.45147,     0.48242,     0.49754,       0.513,     0.53804,     0.55513,     0.56577,     0.57437,     0.59282,     0.59809,      0.6046,     0.61929,\n",
      "            0.62336,     0.62801,     0.64359,     0.65863,     0.67515,     0.69086,     0.70059,     0.70722,     0.72629,     0.73203,     0.73531,     0.73835,     0.74314,     0.75975,     0.77816,     0.78658,     0.79091,     0.79475,     0.80129,     0.81435,     0.83001,     0.83173,     0.83345,\n",
      "            0.83517,     0.83689,     0.83861,      0.8404,      0.8425,     0.84461,     0.84671,     0.84881,     0.85091,     0.86329,      0.8647,     0.86611,     0.86752,     0.86893,     0.87033,     0.87174,     0.87315,     0.87456,     0.87912,      0.8851,     0.88831,     0.88988,     0.89144,\n",
      "            0.89301,     0.89458,     0.89614,     0.89771,     0.89927,     0.90607,     0.91343,     0.91443,     0.91543,     0.91643,     0.91743,     0.91843,     0.91944,     0.92044,     0.92144,     0.92244,     0.92344,     0.92444,     0.92544,     0.92645,     0.92773,     0.92903,     0.93032,\n",
      "            0.93161,     0.93291,      0.9342,      0.9355,     0.93679,     0.93808,     0.93938,     0.94108,     0.94377,     0.94646,     0.94916,     0.95185,     0.95454,     0.96931,     0.96969,     0.97007,     0.97045,     0.97083,     0.97121,     0.97159,     0.97197,     0.97235,     0.97273,\n",
      "             0.9731,     0.97348,     0.97386,     0.97424,     0.97462,       0.975,     0.97538,     0.97576,     0.97614,     0.97652,      0.9769,     0.97727,     0.97765,     0.97803,     0.97841,     0.97879,     0.97917,     0.97955,     0.97993,     0.98031,     0.98069,     0.98107,     0.98144,\n",
      "            0.98182,      0.9822,     0.98258,     0.98296,     0.98334,     0.98372,      0.9841,     0.98438,     0.98441,     0.98444,     0.98447,     0.98449,     0.98452,     0.98455,     0.98458,      0.9846,     0.98463,     0.98466,     0.98469,     0.98472,     0.98474,     0.98477,      0.9848,\n",
      "            0.98483,     0.98486,     0.98488,     0.98491,     0.98494,     0.98497,     0.98499,     0.98502,     0.98505,     0.98508,     0.98511,     0.98513,     0.98516,     0.98519,     0.98522,     0.98524,     0.98527,      0.9853,     0.98533,     0.98536,     0.98538,     0.98541,     0.98544,\n",
      "            0.98547,     0.98549,     0.98552,     0.98555,     0.98558,     0.98561,     0.98563,     0.98566,     0.98569,     0.98572,     0.98574,     0.98577,      0.9858,     0.98583,     0.98586,     0.98588,     0.98591,     0.98594,     0.98597,       0.986,     0.98602,     0.98605,     0.98608,\n",
      "            0.98611,     0.98613,     0.98616,     0.98619,     0.98622,     0.98625,     0.98627,      0.9863,     0.98633,     0.98636,     0.98638,     0.98641,     0.98644,     0.98647,      0.9865,     0.98652,     0.98655,     0.98658,     0.98661,     0.98663,     0.98666,     0.98669,     0.98672,\n",
      "            0.98675,     0.98677,      0.9868,     0.98683,     0.98686,     0.98688,     0.98691,     0.98694,     0.98697,       0.987,     0.98702,     0.98705,     0.98708,     0.98711,     0.98714,     0.98716,     0.98719,     0.98722,     0.98725,     0.98727,      0.9873,     0.98733,     0.98736,\n",
      "            0.98739,     0.98741,     0.98744,     0.98747,      0.9875,     0.98752,     0.98755,     0.98758,     0.98761,     0.98764,     0.98766,     0.98769,     0.98772,     0.98775,     0.98777,      0.9878,     0.98783,     0.98786,     0.98789,     0.98791,     0.98794,     0.98797,       0.988,\n",
      "            0.98802,     0.98805,     0.98808,     0.98811,     0.98814,     0.98816,     0.98819,     0.98822,     0.98825,     0.98828,      0.9883,     0.98833,     0.98836,     0.98839,     0.98841,     0.98844,     0.98847,      0.9885,     0.98853,     0.98855,     0.98858,     0.98861,     0.98864,\n",
      "            0.98866,     0.98869,     0.98872,     0.98875,     0.98878,      0.9888,     0.98883,     0.98886,     0.98889,     0.98891,     0.98894,     0.98897,       0.989,     0.98903,     0.98905,     0.98908,     0.98911,     0.98914,     0.98916,     0.98919,     0.98922,     0.98925,     0.98928,\n",
      "             0.9893,     0.98933,     0.98936,     0.98939,     0.98942,     0.98944,     0.98947,      0.9895,     0.98953,     0.98955,     0.98958,     0.98961,     0.98964,     0.98967,     0.98969,     0.98972,     0.98975,     0.98978,      0.9898,     0.98983,     0.98986,     0.98989,     0.98992,\n",
      "            0.98994,     0.98997,        0.99,     0.99003,     0.99005,     0.99008,     0.99011,     0.99014,     0.99017,     0.99019,     0.99022,     0.99025,     0.99028,      0.9903,     0.99033,     0.99036,     0.99039,     0.99042,     0.99044,     0.99047,      0.9905,     0.99053,     0.99056,\n",
      "            0.99058,     0.99061,     0.99064,     0.99067,     0.99069,     0.99072,     0.99075,     0.99078,     0.99081,     0.99083,     0.99086,     0.99089,     0.99092,     0.99094,     0.99097,       0.991,     0.99103,     0.99106,     0.99108,     0.99111,     0.99114,     0.99117,     0.99119,\n",
      "            0.99122,     0.99125,     0.99128,     0.99131,     0.99133,     0.99136,     0.99139,     0.99142,     0.99144,     0.99147,      0.9915,     0.99153,     0.99156,     0.99158,     0.99161,     0.99164,     0.99167,      0.9917,     0.99172,     0.99175,     0.99178,     0.99181,     0.99183,\n",
      "            0.99186,     0.99189,     0.99192,     0.99195,     0.99197,       0.992,     0.99203,     0.99206,     0.99208,     0.99211,     0.99214,     0.99217,      0.9922,     0.99222,     0.99225,     0.99228,     0.99231,     0.99233,     0.99236,     0.99239,     0.99242,     0.99245,     0.99247,\n",
      "             0.9925,     0.99253,     0.99256,     0.99258,     0.99261,     0.99264,     0.99267,      0.9927,     0.99272,     0.99275,     0.99278,     0.99281,     0.99284,     0.99286,     0.99289,     0.99292,     0.99295,     0.99297,       0.993,     0.99303,     0.99306,     0.99309,     0.99311,\n",
      "            0.99314,     0.99317,      0.9932,     0.99322,     0.99325,     0.99328,     0.99331,     0.99334,     0.99336,     0.99339,     0.99342,     0.99345,     0.99347,      0.9935,     0.99353,     0.99356,     0.99359,     0.99361,     0.99364,     0.99367,      0.9937,     0.99372,     0.99375,\n",
      "            0.99378,     0.99381,     0.99384,     0.99386,     0.99389,     0.99392,     0.99395,     0.99398,       0.994,     0.99403,     0.99406,     0.99409,     0.99411,     0.99414,     0.99417,      0.9942,     0.99423,     0.99425,     0.99428,     0.99431,     0.99434,     0.99436,     0.99439,\n",
      "            0.99442,     0.99445,     0.99448,      0.9945,     0.99453,     0.99456,     0.99459,     0.99461,     0.99464,     0.99467,      0.9947,     0.99473,     0.99475,     0.99478,     0.99481,     0.99484,     0.99486,     0.99489,     0.99492,     0.99495,     0.99498,       0.995,     0.99503,\n",
      "            0.99506,     0.99509,     0.99512,     0.99514,     0.99517,      0.9952,     0.99523,     0.99525,     0.99528,     0.99531,     0.99534,     0.99537,     0.99539,     0.99542,     0.99545,     0.99548,      0.9955,     0.99553,     0.99556,     0.99559,     0.99562,     0.99564,     0.99567,\n",
      "             0.9957,     0.99573,     0.99575,     0.99578,     0.99581,     0.99584,     0.99587,     0.99589,     0.99592,     0.99595,     0.99598,       0.996,     0.99603,     0.99606,     0.99609,     0.99612,     0.99614,     0.99617,      0.9962,     0.99623,     0.99626,     0.99628,     0.99631,\n",
      "            0.99634,     0.99637,     0.99639,     0.99642,     0.99645,     0.99648,     0.99651,     0.99653,     0.99656,     0.99659,     0.99662,     0.99664,     0.99667,      0.9967,     0.99673,     0.99676,     0.99678,     0.99681,     0.99684,     0.99687,     0.99689,     0.99692,     0.99695,\n",
      "            0.99698,     0.99701,     0.99703,     0.99706,     0.99709,     0.99712,     0.99714,     0.99717,      0.9972,     0.99723,     0.99726,     0.99728,     0.99731,     0.99734,     0.99737,      0.9974,     0.99742,     0.99745,     0.99748,     0.99751,     0.99753,     0.99756,     0.99759,\n",
      "            0.99762,     0.99765,     0.99767,      0.9977,     0.99773,     0.99776,     0.99778,     0.99781,     0.99784,     0.99787,      0.9979,     0.99792,     0.99795,     0.99798,     0.99801,     0.99803,     0.99806,     0.99809,     0.99812,     0.99815,     0.99817,      0.9982,     0.99823,\n",
      "            0.99826,     0.99828,     0.99831,     0.99834,     0.99837,      0.9984,     0.99842,     0.99845,     0.99848,     0.99851,     0.99854,     0.99856,     0.99859,     0.99862,     0.99865,     0.99867,      0.9987,     0.99873,     0.99876,     0.99879,     0.99881,     0.99884,     0.99887,\n",
      "             0.9989,     0.99892,     0.99895,     0.99898,     0.99901,     0.99904,     0.99906,     0.99909,     0.99912,     0.99915,     0.99917,      0.9992,     0.99923,     0.99926,     0.99929,     0.99931,     0.99934,     0.99937,      0.9994,     0.99942,     0.99945,     0.99948,     0.99951,\n",
      "            0.99954,     0.99956,     0.99959,     0.99962,     0.99965,     0.99968,      0.9997,     0.99973,     0.99976,     0.99979,     0.99981,     0.99984,     0.99987,      0.9999,     0.99993,     0.99995,     0.99998,           1,           1,           1,           1,           1,           1,\n",
      "                  1,           1,           1,           1,           1,           1,           1,           1,           1,           1,           1,           1,           1,           1,           1,           1,           1,           1,           1,           1,           1,           1,           1,\n",
      "                  1,           1,           1,           1,           1,           1,           1,           1,           1,           1,           1,           1,           1,           1,           1,           1,           1,           1,           1,           1,           1,           1,           1,\n",
      "                  1,           1,           1,           1,           1,           1,           1,           1,           1,           1,           1,           1,           1,           1,           1,           1,           1,           1,           1,           1,           1,           1,           1,\n",
      "                  1,           1,           1,           1,           1,           1,           1,           1,           1,           1,           1,           1,           1,           1,           1,           1,           1,           1,           1,           1,           1,           1,           1,\n",
      "                  1,           1,           1,           1,           1,           1,           1,           1,           1,           1,           1,           1,           1,           1,           1,           1,           1,           1,           1,           1,           1,           1,           1,\n",
      "                  1,           1,           1,           1,           1,           1,           1,           1,           1,           1,           1,           1,           1,           1,           1,           1,           1,           1,           1,           1,           1,           1,           1,\n",
      "                  1,           1,           1,           1,           1,           1,           1,           1,           1,           1,           1,           1,           1,           1,           1,           1,           1,           1,           1,           1,           1,           1,           1,\n",
      "                  1,           1,           1,           1,           1,           1,           1,           1,           1,           1,           1,           1,           1,           1,           1,           1,           1,           1,           1,           1,           1,           1,           1,\n",
      "                  1,           1,           1,           1,           1,           1,           1,           1,           1,           1,           1,           1,           1,           1,           1,           1,           1,           1,           1,           1,           1,           1,           1,\n",
      "                  1,           1,           1,           1,           1,           1,           1,           1,           1,           1,           1,           1,           1,           1,           1,           1,           1,           1,           1,           1,           1,           1,           1,\n",
      "                  1,           1,           1,           1,           1,           1,           1,           1,           1,           1,           1,           1,           1,           1,           1,           1,           1,           1,           1,           1,           1,           1,           1,\n",
      "                  1,           1,           1,           1,           1,           1,           1,           1,           1,           1,           1,           1,           1,           1,           1,           1,           1,           1,           1,           1,           1,           1,           1,\n",
      "                  1,           1,           1,           1,           1,           1,           1,           1,           1,           1,           1]]), 'Confidence', 'Precision'], [array([          0,    0.001001,    0.002002,    0.003003,    0.004004,    0.005005,    0.006006,    0.007007,    0.008008,    0.009009,     0.01001,    0.011011,    0.012012,    0.013013,    0.014014,    0.015015,    0.016016,    0.017017,    0.018018,    0.019019,     0.02002,    0.021021,    0.022022,    0.023023,\n",
      "          0.024024,    0.025025,    0.026026,    0.027027,    0.028028,    0.029029,     0.03003,    0.031031,    0.032032,    0.033033,    0.034034,    0.035035,    0.036036,    0.037037,    0.038038,    0.039039,     0.04004,    0.041041,    0.042042,    0.043043,    0.044044,    0.045045,    0.046046,    0.047047,\n",
      "          0.048048,    0.049049,     0.05005,    0.051051,    0.052052,    0.053053,    0.054054,    0.055055,    0.056056,    0.057057,    0.058058,    0.059059,     0.06006,    0.061061,    0.062062,    0.063063,    0.064064,    0.065065,    0.066066,    0.067067,    0.068068,    0.069069,     0.07007,    0.071071,\n",
      "          0.072072,    0.073073,    0.074074,    0.075075,    0.076076,    0.077077,    0.078078,    0.079079,     0.08008,    0.081081,    0.082082,    0.083083,    0.084084,    0.085085,    0.086086,    0.087087,    0.088088,    0.089089,     0.09009,    0.091091,    0.092092,    0.093093,    0.094094,    0.095095,\n",
      "          0.096096,    0.097097,    0.098098,    0.099099,      0.1001,      0.1011,      0.1021,      0.1031,      0.1041,     0.10511,     0.10611,     0.10711,     0.10811,     0.10911,     0.11011,     0.11111,     0.11211,     0.11311,     0.11411,     0.11512,     0.11612,     0.11712,     0.11812,     0.11912,\n",
      "           0.12012,     0.12112,     0.12212,     0.12312,     0.12412,     0.12513,     0.12613,     0.12713,     0.12813,     0.12913,     0.13013,     0.13113,     0.13213,     0.13313,     0.13413,     0.13514,     0.13614,     0.13714,     0.13814,     0.13914,     0.14014,     0.14114,     0.14214,     0.14314,\n",
      "           0.14414,     0.14515,     0.14615,     0.14715,     0.14815,     0.14915,     0.15015,     0.15115,     0.15215,     0.15315,     0.15415,     0.15516,     0.15616,     0.15716,     0.15816,     0.15916,     0.16016,     0.16116,     0.16216,     0.16316,     0.16416,     0.16517,     0.16617,     0.16717,\n",
      "           0.16817,     0.16917,     0.17017,     0.17117,     0.17217,     0.17317,     0.17417,     0.17518,     0.17618,     0.17718,     0.17818,     0.17918,     0.18018,     0.18118,     0.18218,     0.18318,     0.18418,     0.18519,     0.18619,     0.18719,     0.18819,     0.18919,     0.19019,     0.19119,\n",
      "           0.19219,     0.19319,     0.19419,      0.1952,      0.1962,      0.1972,      0.1982,      0.1992,      0.2002,      0.2012,      0.2022,      0.2032,      0.2042,     0.20521,     0.20621,     0.20721,     0.20821,     0.20921,     0.21021,     0.21121,     0.21221,     0.21321,     0.21421,     0.21522,\n",
      "           0.21622,     0.21722,     0.21822,     0.21922,     0.22022,     0.22122,     0.22222,     0.22322,     0.22422,     0.22523,     0.22623,     0.22723,     0.22823,     0.22923,     0.23023,     0.23123,     0.23223,     0.23323,     0.23423,     0.23524,     0.23624,     0.23724,     0.23824,     0.23924,\n",
      "           0.24024,     0.24124,     0.24224,     0.24324,     0.24424,     0.24525,     0.24625,     0.24725,     0.24825,     0.24925,     0.25025,     0.25125,     0.25225,     0.25325,     0.25425,     0.25526,     0.25626,     0.25726,     0.25826,     0.25926,     0.26026,     0.26126,     0.26226,     0.26326,\n",
      "           0.26426,     0.26527,     0.26627,     0.26727,     0.26827,     0.26927,     0.27027,     0.27127,     0.27227,     0.27327,     0.27427,     0.27528,     0.27628,     0.27728,     0.27828,     0.27928,     0.28028,     0.28128,     0.28228,     0.28328,     0.28428,     0.28529,     0.28629,     0.28729,\n",
      "           0.28829,     0.28929,     0.29029,     0.29129,     0.29229,     0.29329,     0.29429,      0.2953,      0.2963,      0.2973,      0.2983,      0.2993,      0.3003,      0.3013,      0.3023,      0.3033,      0.3043,     0.30531,     0.30631,     0.30731,     0.30831,     0.30931,     0.31031,     0.31131,\n",
      "           0.31231,     0.31331,     0.31431,     0.31532,     0.31632,     0.31732,     0.31832,     0.31932,     0.32032,     0.32132,     0.32232,     0.32332,     0.32432,     0.32533,     0.32633,     0.32733,     0.32833,     0.32933,     0.33033,     0.33133,     0.33233,     0.33333,     0.33433,     0.33534,\n",
      "           0.33634,     0.33734,     0.33834,     0.33934,     0.34034,     0.34134,     0.34234,     0.34334,     0.34434,     0.34535,     0.34635,     0.34735,     0.34835,     0.34935,     0.35035,     0.35135,     0.35235,     0.35335,     0.35435,     0.35536,     0.35636,     0.35736,     0.35836,     0.35936,\n",
      "           0.36036,     0.36136,     0.36236,     0.36336,     0.36436,     0.36537,     0.36637,     0.36737,     0.36837,     0.36937,     0.37037,     0.37137,     0.37237,     0.37337,     0.37437,     0.37538,     0.37638,     0.37738,     0.37838,     0.37938,     0.38038,     0.38138,     0.38238,     0.38338,\n",
      "           0.38438,     0.38539,     0.38639,     0.38739,     0.38839,     0.38939,     0.39039,     0.39139,     0.39239,     0.39339,     0.39439,      0.3954,      0.3964,      0.3974,      0.3984,      0.3994,      0.4004,      0.4014,      0.4024,      0.4034,      0.4044,     0.40541,     0.40641,     0.40741,\n",
      "           0.40841,     0.40941,     0.41041,     0.41141,     0.41241,     0.41341,     0.41441,     0.41542,     0.41642,     0.41742,     0.41842,     0.41942,     0.42042,     0.42142,     0.42242,     0.42342,     0.42442,     0.42543,     0.42643,     0.42743,     0.42843,     0.42943,     0.43043,     0.43143,\n",
      "           0.43243,     0.43343,     0.43443,     0.43544,     0.43644,     0.43744,     0.43844,     0.43944,     0.44044,     0.44144,     0.44244,     0.44344,     0.44444,     0.44545,     0.44645,     0.44745,     0.44845,     0.44945,     0.45045,     0.45145,     0.45245,     0.45345,     0.45445,     0.45546,\n",
      "           0.45646,     0.45746,     0.45846,     0.45946,     0.46046,     0.46146,     0.46246,     0.46346,     0.46446,     0.46547,     0.46647,     0.46747,     0.46847,     0.46947,     0.47047,     0.47147,     0.47247,     0.47347,     0.47447,     0.47548,     0.47648,     0.47748,     0.47848,     0.47948,\n",
      "           0.48048,     0.48148,     0.48248,     0.48348,     0.48448,     0.48549,     0.48649,     0.48749,     0.48849,     0.48949,     0.49049,     0.49149,     0.49249,     0.49349,     0.49449,      0.4955,      0.4965,      0.4975,      0.4985,      0.4995,      0.5005,      0.5015,      0.5025,      0.5035,\n",
      "            0.5045,     0.50551,     0.50651,     0.50751,     0.50851,     0.50951,     0.51051,     0.51151,     0.51251,     0.51351,     0.51451,     0.51552,     0.51652,     0.51752,     0.51852,     0.51952,     0.52052,     0.52152,     0.52252,     0.52352,     0.52452,     0.52553,     0.52653,     0.52753,\n",
      "           0.52853,     0.52953,     0.53053,     0.53153,     0.53253,     0.53353,     0.53453,     0.53554,     0.53654,     0.53754,     0.53854,     0.53954,     0.54054,     0.54154,     0.54254,     0.54354,     0.54454,     0.54555,     0.54655,     0.54755,     0.54855,     0.54955,     0.55055,     0.55155,\n",
      "           0.55255,     0.55355,     0.55455,     0.55556,     0.55656,     0.55756,     0.55856,     0.55956,     0.56056,     0.56156,     0.56256,     0.56356,     0.56456,     0.56557,     0.56657,     0.56757,     0.56857,     0.56957,     0.57057,     0.57157,     0.57257,     0.57357,     0.57457,     0.57558,\n",
      "           0.57658,     0.57758,     0.57858,     0.57958,     0.58058,     0.58158,     0.58258,     0.58358,     0.58458,     0.58559,     0.58659,     0.58759,     0.58859,     0.58959,     0.59059,     0.59159,     0.59259,     0.59359,     0.59459,      0.5956,      0.5966,      0.5976,      0.5986,      0.5996,\n",
      "            0.6006,      0.6016,      0.6026,      0.6036,      0.6046,     0.60561,     0.60661,     0.60761,     0.60861,     0.60961,     0.61061,     0.61161,     0.61261,     0.61361,     0.61461,     0.61562,     0.61662,     0.61762,     0.61862,     0.61962,     0.62062,     0.62162,     0.62262,     0.62362,\n",
      "           0.62462,     0.62563,     0.62663,     0.62763,     0.62863,     0.62963,     0.63063,     0.63163,     0.63263,     0.63363,     0.63463,     0.63564,     0.63664,     0.63764,     0.63864,     0.63964,     0.64064,     0.64164,     0.64264,     0.64364,     0.64464,     0.64565,     0.64665,     0.64765,\n",
      "           0.64865,     0.64965,     0.65065,     0.65165,     0.65265,     0.65365,     0.65465,     0.65566,     0.65666,     0.65766,     0.65866,     0.65966,     0.66066,     0.66166,     0.66266,     0.66366,     0.66466,     0.66567,     0.66667,     0.66767,     0.66867,     0.66967,     0.67067,     0.67167,\n",
      "           0.67267,     0.67367,     0.67467,     0.67568,     0.67668,     0.67768,     0.67868,     0.67968,     0.68068,     0.68168,     0.68268,     0.68368,     0.68468,     0.68569,     0.68669,     0.68769,     0.68869,     0.68969,     0.69069,     0.69169,     0.69269,     0.69369,     0.69469,      0.6957,\n",
      "            0.6967,      0.6977,      0.6987,      0.6997,      0.7007,      0.7017,      0.7027,      0.7037,      0.7047,     0.70571,     0.70671,     0.70771,     0.70871,     0.70971,     0.71071,     0.71171,     0.71271,     0.71371,     0.71471,     0.71572,     0.71672,     0.71772,     0.71872,     0.71972,\n",
      "           0.72072,     0.72172,     0.72272,     0.72372,     0.72472,     0.72573,     0.72673,     0.72773,     0.72873,     0.72973,     0.73073,     0.73173,     0.73273,     0.73373,     0.73473,     0.73574,     0.73674,     0.73774,     0.73874,     0.73974,     0.74074,     0.74174,     0.74274,     0.74374,\n",
      "           0.74474,     0.74575,     0.74675,     0.74775,     0.74875,     0.74975,     0.75075,     0.75175,     0.75275,     0.75375,     0.75475,     0.75576,     0.75676,     0.75776,     0.75876,     0.75976,     0.76076,     0.76176,     0.76276,     0.76376,     0.76476,     0.76577,     0.76677,     0.76777,\n",
      "           0.76877,     0.76977,     0.77077,     0.77177,     0.77277,     0.77377,     0.77477,     0.77578,     0.77678,     0.77778,     0.77878,     0.77978,     0.78078,     0.78178,     0.78278,     0.78378,     0.78478,     0.78579,     0.78679,     0.78779,     0.78879,     0.78979,     0.79079,     0.79179,\n",
      "           0.79279,     0.79379,     0.79479,      0.7958,      0.7968,      0.7978,      0.7988,      0.7998,      0.8008,      0.8018,      0.8028,      0.8038,      0.8048,     0.80581,     0.80681,     0.80781,     0.80881,     0.80981,     0.81081,     0.81181,     0.81281,     0.81381,     0.81481,     0.81582,\n",
      "           0.81682,     0.81782,     0.81882,     0.81982,     0.82082,     0.82182,     0.82282,     0.82382,     0.82482,     0.82583,     0.82683,     0.82783,     0.82883,     0.82983,     0.83083,     0.83183,     0.83283,     0.83383,     0.83483,     0.83584,     0.83684,     0.83784,     0.83884,     0.83984,\n",
      "           0.84084,     0.84184,     0.84284,     0.84384,     0.84484,     0.84585,     0.84685,     0.84785,     0.84885,     0.84985,     0.85085,     0.85185,     0.85285,     0.85385,     0.85485,     0.85586,     0.85686,     0.85786,     0.85886,     0.85986,     0.86086,     0.86186,     0.86286,     0.86386,\n",
      "           0.86486,     0.86587,     0.86687,     0.86787,     0.86887,     0.86987,     0.87087,     0.87187,     0.87287,     0.87387,     0.87487,     0.87588,     0.87688,     0.87788,     0.87888,     0.87988,     0.88088,     0.88188,     0.88288,     0.88388,     0.88488,     0.88589,     0.88689,     0.88789,\n",
      "           0.88889,     0.88989,     0.89089,     0.89189,     0.89289,     0.89389,     0.89489,      0.8959,      0.8969,      0.8979,      0.8989,      0.8999,      0.9009,      0.9019,      0.9029,      0.9039,      0.9049,     0.90591,     0.90691,     0.90791,     0.90891,     0.90991,     0.91091,     0.91191,\n",
      "           0.91291,     0.91391,     0.91491,     0.91592,     0.91692,     0.91792,     0.91892,     0.91992,     0.92092,     0.92192,     0.92292,     0.92392,     0.92492,     0.92593,     0.92693,     0.92793,     0.92893,     0.92993,     0.93093,     0.93193,     0.93293,     0.93393,     0.93493,     0.93594,\n",
      "           0.93694,     0.93794,     0.93894,     0.93994,     0.94094,     0.94194,     0.94294,     0.94394,     0.94494,     0.94595,     0.94695,     0.94795,     0.94895,     0.94995,     0.95095,     0.95195,     0.95295,     0.95395,     0.95495,     0.95596,     0.95696,     0.95796,     0.95896,     0.95996,\n",
      "           0.96096,     0.96196,     0.96296,     0.96396,     0.96496,     0.96597,     0.96697,     0.96797,     0.96897,     0.96997,     0.97097,     0.97197,     0.97297,     0.97397,     0.97497,     0.97598,     0.97698,     0.97798,     0.97898,     0.97998,     0.98098,     0.98198,     0.98298,     0.98398,\n",
      "           0.98498,     0.98599,     0.98699,     0.98799,     0.98899,     0.98999,     0.99099,     0.99199,     0.99299,     0.99399,     0.99499,       0.996,       0.997,       0.998,       0.999,           1]), array([[          1,           1,           1,           1,           1,           1,           1,           1,           1,           1,           1,           1,           1,           1,           1,           1,           1,           1,           1,           1,           1,           1,           1,\n",
      "                  1,           1,           1,           1,           1,           1,           1,           1,           1,           1,           1,           1,           1,           1,           1,           1,           1,           1,           1,           1,           1,           1,           1,\n",
      "                  1,           1,           1,           1,           1,           1,           1,           1,           1,           1,           1,           1,           1,           1,           1,           1,           1,           1,           1,           1,           1,           1,           1,\n",
      "                  1,           1,           1,           1,           1,           1,           1,           1,           1,           1,           1,           1,           1,           1,           1,           1,           1,           1,           1,           1,           1,           1,           1,\n",
      "                  1,           1,           1,           1,           1,           1,           1,           1,           1,           1,           1,           1,           1,           1,           1,           1,           1,           1,           1,           1,           1,           1,           1,\n",
      "                  1,           1,           1,           1,           1,           1,           1,           1,           1,           1,           1,           1,           1,           1,           1,           1,           1,           1,           1,           1,           1,           1,           1,\n",
      "                  1,           1,           1,           1,           1,           1,           1,           1,           1,           1,           1,           1,           1,           1,           1,           1,           1,           1,           1,           1,           1,           1,           1,\n",
      "                  1,           1,           1,           1,           1,           1,           1,           1,           1,           1,           1,           1,           1,           1,           1,           1,           1,           1,           1,           1,           1,           1,           1,\n",
      "                  1,           1,           1,           1,           1,           1,           1,           1,           1,           1,           1,           1,           1,           1,           1,           1,           1,           1,           1,           1,           1,           1,           1,\n",
      "                  1,           1,           1,           1,           1,           1,           1,           1,           1,           1,           1,           1,           1,           1,           1,           1,           1,           1,           1,           1,           1,           1,           1,\n",
      "                  1,           1,           1,           1,           1,           1,           1,           1,           1,           1,           1,           1,           1,           1,           1,           1,           1,           1,           1,           1,           1,           1,           1,\n",
      "                  1,           1,           1,           1,           1,           1,           1,           1,           1,           1,           1,           1,           1,           1,           1,           1,           1,           1,           1,           1,           1,           1,           1,\n",
      "                  1,           1,           1,           1,           1,           1,           1,           1,           1,           1,           1,           1,           1,           1,           1,           1,           1,           1,           1,           1,           1,           1,           1,\n",
      "                  1,           1,           1,           1,           1,           1,           1,           1,           1,           1,           1,           1,           1,           1,           1,           1,           1,           1,           1,           1,           1,           1,           1,\n",
      "                  1,           1,           1,           1,           1,           1,           1,           1,           1,           1,           1,           1,           1,           1,           1,           1,           1,           1,           1,           1,           1,           1,           1,\n",
      "                  1,           1,           1,           1,           1,           1,           1,           1,           1,           1,           1,           1,           1,           1,           1,           1,           1,           1,           1,           1,           1,           1,           1,\n",
      "                  1,           1,           1,           1,           1,           1,           1,           1,           1,           1,           1,           1,           1,           1,           1,           1,           1,           1,           1,           1,           1,           1,           1,\n",
      "                  1,           1,           1,           1,           1,           1,           1,           1,           1,           1,           1,           1,           1,           1,           1,           1,           1,           1,           1,           1,           1,           1,           1,\n",
      "                  1,           1,           1,           1,           1,           1,           1,           1,           1,           1,           1,           1,           1,           1,           1,           1,           1,           1,           1,           1,           1,           1,           1,\n",
      "                  1,           1,           1,           1,           1,           1,           1,           1,           1,           1,           1,           1,           1,           1,           1,           1,           1,           1,           1,           1,           1,           1,           1,\n",
      "                  1,           1,           1,           1,           1,           1,           1,           1,           1,           1,           1,           1,           1,           1,           1,           1,           1,           1,           1,           1,           1,           1,           1,\n",
      "                  1,           1,           1,           1,           1,           1,           1,           1,           1,           1,           1,           1,           1,           1,           1,           1,           1,           1,           1,           1,           1,           1,           1,\n",
      "                  1,           1,           1,           1,           1,           1,           1,           1,           1,           1,           1,           1,           1,           1,           1,           1,           1,           1,           1,           1,           1,           1,           1,\n",
      "                  1,           1,           1,           1,           1,           1,           1,           1,           1,           1,           1,           1,           1,           1,           1,           1,           1,           1,           1,           1,           1,           1,           1,\n",
      "                  1,           1,           1,           1,           1,           1,           1,           1,           1,           1,           1,           1,           1,           1,           1,           1,           1,           1,           1,           1,           1,           1,           1,\n",
      "                  1,           1,           1,           1,           1,           1,           1,           1,           1,           1,           1,           1,           1,           1,           1,           1,           1,           1,           1,           1,           1,           1,           1,\n",
      "                  1,           1,           1,           1,           1,           1,           1,           1,           1,           1,           1,           1,           1,           1,           1,           1,           1,           1,           1,           1,           1,           1,           1,\n",
      "                  1,           1,           1,           1,           1,           1,           1,           1,           1,           1,           1,           1,           1,           1,           1,           1,           1,           1,           1,           1,           1,           1,           1,\n",
      "                  1,           1,           1,           1,           1,           1,           1,           1,           1,           1,           1,           1,           1,           1,           1,           1,           1,           1,           1,           1,           1,           1,           1,\n",
      "                  1,           1,           1,           1,           1,           1,           1,           1,           1,           1,           1,           1,           1,           1,           1,           1,           1,           1,           1,           1,           1,           1,           1,\n",
      "                  1,           1,           1,           1,           1,           1,           1,           1,           1,           1,           1,           1,           1,           1,           1,           1,           1,     0.99992,     0.99968,     0.99944,      0.9992,     0.99896,     0.99872,\n",
      "            0.99848,     0.99824,       0.998,     0.99776,     0.99752,     0.99728,     0.99703,     0.99679,     0.99655,     0.99631,     0.99607,     0.99583,     0.99559,     0.99535,     0.99511,     0.99487,     0.99463,     0.99439,     0.99415,     0.99391,     0.99366,     0.99342,     0.99318,\n",
      "            0.99294,      0.9927,     0.99246,     0.99222,     0.99198,     0.99174,      0.9915,     0.99126,     0.99102,     0.99078,     0.99053,     0.99029,     0.99005,     0.98981,     0.98957,     0.98933,     0.98909,     0.98885,     0.98861,     0.98837,     0.98813,     0.98789,     0.98765,\n",
      "             0.9874,     0.98716,     0.98692,     0.98668,     0.98644,      0.9862,     0.98596,     0.98572,     0.98548,     0.98524,       0.985,     0.98476,     0.98452,     0.98427,     0.98385,     0.98312,     0.98239,     0.98166,     0.98094,     0.98021,     0.97948,     0.97876,     0.97803,\n",
      "             0.9773,     0.97657,     0.97585,     0.97512,     0.97439,     0.97367,     0.97294,     0.97221,     0.97149,     0.97076,     0.97003,      0.9693,     0.96858,     0.96753,     0.96623,     0.96493,     0.96363,     0.96233,     0.96103,     0.95973,     0.95843,     0.95713,     0.95583,\n",
      "            0.95453,     0.95323,       0.952,     0.95088,     0.94977,     0.94865,     0.94754,     0.94643,     0.94531,      0.9442,     0.94309,     0.94197,     0.94086,     0.93975,     0.93863,     0.93752,     0.93523,     0.92128,     0.91979,     0.91891,     0.91803,     0.91715,     0.91627,\n",
      "            0.91539,     0.91451,     0.91363,     0.91275,     0.91187,     0.91099,     0.91011,     0.90923,     0.90835,     0.90747,     0.90659,     0.90571,     0.90483,     0.90374,     0.90265,     0.90155,     0.90045,     0.89935,     0.89826,     0.89716,     0.89606,     0.89496,     0.89387,\n",
      "            0.89277,     0.89167,     0.89058,     0.88948,      0.8883,     0.88702,     0.88574,     0.88446,     0.88318,      0.8819,     0.88063,     0.87935,     0.87807,     0.87679,     0.87551,     0.87423,     0.87293,     0.87109,     0.86925,     0.86741,     0.86558,     0.86374,      0.8619,\n",
      "            0.86007,     0.85823,     0.85425,     0.84718,      0.8403,     0.83433,     0.82836,     0.82009,     0.80954,     0.80761,      0.8057,     0.80379,     0.80188,     0.79997,     0.79805,     0.79614,     0.79423,     0.79061,     0.78625,     0.78189,     0.77754,     0.77345,     0.76935,\n",
      "            0.76526,     0.75897,     0.74354,     0.73125,     0.72558,     0.72055,     0.71552,       0.698,     0.68607,     0.67343,     0.64765,      0.6361,     0.63163,     0.62796,      0.6243,     0.62063,     0.60085,     0.59511,     0.58937,     0.56955,     0.56366,     0.55778,     0.55002,\n",
      "            0.54112,     0.53734,     0.53454,     0.53174,     0.52894,     0.52614,     0.51641,     0.47987,      0.4632,     0.42927,     0.41712,     0.40697,     0.39773,     0.36177,     0.31714,     0.31191,     0.30669,     0.30038,     0.25825,     0.24608,     0.23745,     0.22597,     0.19713,\n",
      "            0.18721,      0.1815,      0.1758,     0.17248,     0.16979,      0.1671,     0.16441,     0.16171,     0.15902,     0.15184,     0.14411,     0.13848,     0.13325,     0.12802,     0.08614,    0.075006,    0.068858,    0.061793,     0.04844,    0.021878,           0,           0,           0,\n",
      "                  0,           0,           0,           0,           0,           0,           0,           0,           0,           0,           0,           0,           0,           0,           0,           0,           0,           0,           0,           0,           0,           0,           0,\n",
      "                  0,           0,           0,           0,           0,           0,           0,           0,           0,           0,           0]]), 'Confidence', 'Recall']]\n",
      "fitness: np.float64(0.9374827072128268)\n",
      "keys: ['metrics/precision(B)', 'metrics/recall(B)', 'metrics/mAP50(B)', 'metrics/mAP50-95(B)']\n",
      "maps: array([    0.93109])\n",
      "names: {0: 'leaf'}\n",
      "plot: True\n",
      "results_dict: {'metrics/precision(B)': np.float64(0.9988965799767012), 'metrics/recall(B)': np.float64(1.0), 'metrics/mAP50(B)': np.float64(0.995), 'metrics/mAP50-95(B)': np.float64(0.9310918969031409), 'fitness': np.float64(0.9374827072128268)}\n",
      "save_dir: WindowsPath('runs/detect/val')\n",
      "speed: {'preprocess': 1.4362396831284203, 'inference': 161.30490952156603, 'loss': 0.00010952464349213102, 'postprocess': 0.48018730289879297}\n",
      "task: 'detect'\n"
     ]
    }
   ],
   "execution_count": null
  },
  {
   "metadata": {
    "id": "9898d0ab6684423"
   },
   "cell_type": "markdown",
   "source": [
    "## Image Visualization from Test Set Evaluation"
   ],
   "id": "9898d0ab6684423"
  },
  {
   "metadata": {
    "ExecuteTime": {
     "end_time": "2025-04-18T02:32:21.102869Z",
     "start_time": "2025-04-18T02:32:10.180378Z"
    },
    "id": "29d2ac3d257ecefb",
    "outputId": "ee41597e-6f5b-4762-cb8c-077584036d60"
   },
   "cell_type": "code",
   "source": [
    "results = model.predict(\n",
    "    source=r\"D:/Suvan's Projects/FYP/BBox_Split/images/test\",  # Test image directory\n",
    "    imgsz=640,\n",
    "    conf=0.25,\n",
    "    save=True,\n",
    "    save_txt=True,\n",
    "    project=\"runs/test_inference\",  # Save directory\n",
    "    name=\"leaf_test\"\n",
    ")"
   ],
   "id": "29d2ac3d257ecefb",
   "outputs": [
    {
     "name": "stdout",
     "output_type": "stream",
     "text": [
      "\n",
      "image 1/63 D:\\Suvan's Projects\\FYP\\BBox_Split\\images\\test\\Algal_Leaf_Spot_14.jpg: 640x640 1 leaf, 255.3ms\n",
      "image 2/63 D:\\Suvan's Projects\\FYP\\BBox_Split\\images\\test\\Algal_Leaf_Spot_15.jpg: 640x640 1 leaf, 155.6ms\n",
      "image 3/63 D:\\Suvan's Projects\\FYP\\BBox_Split\\images\\test\\Algal_Leaf_Spot_18.jpg: 640x640 1 leaf, 157.5ms\n",
      "image 4/63 D:\\Suvan's Projects\\FYP\\BBox_Split\\images\\test\\Algal_Leaf_Spot_20.jpg: 640x640 1 leaf, 158.9ms\n",
      "image 5/63 D:\\Suvan's Projects\\FYP\\BBox_Split\\images\\test\\Algal_Leaf_Spot_24.jpg: 640x640 1 leaf, 156.2ms\n",
      "image 6/63 D:\\Suvan's Projects\\FYP\\BBox_Split\\images\\test\\Algal_Leaf_Spot_28.jpg: 640x640 1 leaf, 162.9ms\n",
      "image 7/63 D:\\Suvan's Projects\\FYP\\BBox_Split\\images\\test\\Algal_Leaf_Spot_40.jpg: 640x640 1 leaf, 157.4ms\n",
      "image 8/63 D:\\Suvan's Projects\\FYP\\BBox_Split\\images\\test\\Algal_Leaf_Spot_42.jpg: 640x640 1 leaf, 161.3ms\n",
      "image 9/63 D:\\Suvan's Projects\\FYP\\BBox_Split\\images\\test\\Algal_Leaf_Spot_47.jpg: 640x640 1 leaf, 160.5ms\n",
      "image 10/63 D:\\Suvan's Projects\\FYP\\BBox_Split\\images\\test\\Algal_Leaf_Spot_52.jpg: 640x640 1 leaf, 167.4ms\n",
      "image 11/63 D:\\Suvan's Projects\\FYP\\BBox_Split\\images\\test\\Algal_Leaf_Spot_54.jpg: 640x640 1 leaf, 161.0ms\n",
      "image 12/63 D:\\Suvan's Projects\\FYP\\BBox_Split\\images\\test\\Algal_Leaf_Spot_62.jpg: 640x640 1 leaf, 156.8ms\n",
      "image 13/63 D:\\Suvan's Projects\\FYP\\BBox_Split\\images\\test\\Algal_Leaf_Spot_63.jpg: 640x640 1 leaf, 159.3ms\n",
      "image 14/63 D:\\Suvan's Projects\\FYP\\BBox_Split\\images\\test\\Algal_Leaf_Spot_74.jpg: 640x640 1 leaf, 154.9ms\n",
      "image 15/63 D:\\Suvan's Projects\\FYP\\BBox_Split\\images\\test\\Algal_Leaf_Spot_94.jpg: 640x640 1 leaf, 154.9ms\n",
      "image 16/63 D:\\Suvan's Projects\\FYP\\BBox_Split\\images\\test\\Algal_Leaf_Spot_99.jpg: 640x640 1 leaf, 162.8ms\n",
      "image 17/63 D:\\Suvan's Projects\\FYP\\BBox_Split\\images\\test\\Leaf_Blight_14.jpg: 640x640 1 leaf, 163.2ms\n",
      "image 18/63 D:\\Suvan's Projects\\FYP\\BBox_Split\\images\\test\\Leaf_Blight_15.jpg: 640x640 1 leaf, 159.2ms\n",
      "image 19/63 D:\\Suvan's Projects\\FYP\\BBox_Split\\images\\test\\Leaf_Blight_18.jpg: 640x640 1 leaf, 156.4ms\n",
      "image 20/63 D:\\Suvan's Projects\\FYP\\BBox_Split\\images\\test\\Leaf_Blight_20.jpg: 640x640 1 leaf, 160.1ms\n",
      "image 21/63 D:\\Suvan's Projects\\FYP\\BBox_Split\\images\\test\\Leaf_Blight_24.jpg: 640x640 1 leaf, 159.0ms\n",
      "image 22/63 D:\\Suvan's Projects\\FYP\\BBox_Split\\images\\test\\Leaf_Blight_28.jpg: 640x640 1 leaf, 157.8ms\n",
      "image 23/63 D:\\Suvan's Projects\\FYP\\BBox_Split\\images\\test\\Leaf_Blight_40.jpg: 640x640 1 leaf, 154.7ms\n",
      "image 24/63 D:\\Suvan's Projects\\FYP\\BBox_Split\\images\\test\\Leaf_Blight_42.jpg: 640x640 1 leaf, 155.7ms\n",
      "image 25/63 D:\\Suvan's Projects\\FYP\\BBox_Split\\images\\test\\Leaf_Blight_47.jpg: 640x640 1 leaf, 155.1ms\n",
      "image 26/63 D:\\Suvan's Projects\\FYP\\BBox_Split\\images\\test\\Leaf_Blight_52.jpg: 640x640 1 leaf, 160.4ms\n",
      "image 27/63 D:\\Suvan's Projects\\FYP\\BBox_Split\\images\\test\\Leaf_Blight_54.jpg: 640x640 1 leaf, 157.9ms\n",
      "image 28/63 D:\\Suvan's Projects\\FYP\\BBox_Split\\images\\test\\Leaf_Blight_62.jpg: 640x640 1 leaf, 162.1ms\n",
      "image 29/63 D:\\Suvan's Projects\\FYP\\BBox_Split\\images\\test\\Leaf_Blight_63.jpg: 640x640 1 leaf, 152.6ms\n",
      "image 30/63 D:\\Suvan's Projects\\FYP\\BBox_Split\\images\\test\\Leaf_Blight_74.jpg: 640x640 1 leaf, 153.2ms\n",
      "image 31/63 D:\\Suvan's Projects\\FYP\\BBox_Split\\images\\test\\Leaf_Blight_94.jpg: 640x640 1 leaf, 157.7ms\n",
      "image 32/63 D:\\Suvan's Projects\\FYP\\BBox_Split\\images\\test\\Leaf_Blight_99.jpg: 640x640 1 leaf, 155.0ms\n",
      "image 33/63 D:\\Suvan's Projects\\FYP\\BBox_Split\\images\\test\\Leaf_Spot_17.jpg: 640x640 1 leaf, 155.6ms\n",
      "image 34/63 D:\\Suvan's Projects\\FYP\\BBox_Split\\images\\test\\Leaf_Spot_2.jpg: 640x640 1 leaf, 158.5ms\n",
      "image 35/63 D:\\Suvan's Projects\\FYP\\BBox_Split\\images\\test\\Leaf_Spot_22.jpg: 640x640 1 leaf, 156.3ms\n",
      "image 36/63 D:\\Suvan's Projects\\FYP\\BBox_Split\\images\\test\\Leaf_Spot_3.jpg: 640x640 1 leaf, 155.3ms\n",
      "image 37/63 D:\\Suvan's Projects\\FYP\\BBox_Split\\images\\test\\Leaf_Spot_41.jpg: 640x640 1 leaf, 158.6ms\n",
      "image 38/63 D:\\Suvan's Projects\\FYP\\BBox_Split\\images\\test\\Leaf_Spot_47.jpg: 640x640 1 leaf, 158.6ms\n",
      "image 39/63 D:\\Suvan's Projects\\FYP\\BBox_Split\\images\\test\\Leaf_Spot_49.jpg: 640x640 1 leaf, 155.8ms\n",
      "image 40/63 D:\\Suvan's Projects\\FYP\\BBox_Split\\images\\test\\Leaf_Spot_54.jpg: 640x640 1 leaf, 156.1ms\n",
      "image 41/63 D:\\Suvan's Projects\\FYP\\BBox_Split\\images\\test\\Leaf_Spot_62.jpg: 640x640 1 leaf, 156.8ms\n",
      "image 42/63 D:\\Suvan's Projects\\FYP\\BBox_Split\\images\\test\\Leaf_Spot_67.jpg: 640x640 1 leaf, 158.0ms\n",
      "image 43/63 D:\\Suvan's Projects\\FYP\\BBox_Split\\images\\test\\Leaf_Spot_75.jpg: 640x640 1 leaf, 154.5ms\n",
      "image 44/63 D:\\Suvan's Projects\\FYP\\BBox_Split\\images\\test\\Leaf_Spot_82.jpg: 640x640 1 leaf, 153.5ms\n",
      "image 45/63 D:\\Suvan's Projects\\FYP\\BBox_Split\\images\\test\\Leaf_Spot_88.jpg: 640x640 1 leaf, 154.6ms\n",
      "image 46/63 D:\\Suvan's Projects\\FYP\\BBox_Split\\images\\test\\Leaf_Spot_95.jpg: 640x640 1 leaf, 154.2ms\n",
      "image 47/63 D:\\Suvan's Projects\\FYP\\BBox_Split\\images\\test\\Leaf_Spot_97.jpg: 640x640 1 leaf, 158.1ms\n",
      "image 48/63 D:\\Suvan's Projects\\FYP\\BBox_Split\\images\\test\\No_Disease_14.jpg: 640x640 1 leaf, 155.8ms\n",
      "image 49/63 D:\\Suvan's Projects\\FYP\\BBox_Split\\images\\test\\No_Disease_15.jpg: 640x640 1 leaf, 155.8ms\n",
      "image 50/63 D:\\Suvan's Projects\\FYP\\BBox_Split\\images\\test\\No_Disease_18.jpg: 640x640 1 leaf, 162.0ms\n",
      "image 51/63 D:\\Suvan's Projects\\FYP\\BBox_Split\\images\\test\\No_Disease_20.jpg: 640x640 1 leaf, 156.2ms\n",
      "image 52/63 D:\\Suvan's Projects\\FYP\\BBox_Split\\images\\test\\No_Disease_24.jpg: 640x640 1 leaf, 157.3ms\n",
      "image 53/63 D:\\Suvan's Projects\\FYP\\BBox_Split\\images\\test\\No_Disease_28.jpg: 640x640 1 leaf, 154.2ms\n",
      "image 54/63 D:\\Suvan's Projects\\FYP\\BBox_Split\\images\\test\\No_Disease_40.jpg: 640x640 1 leaf, 152.6ms\n",
      "image 55/63 D:\\Suvan's Projects\\FYP\\BBox_Split\\images\\test\\No_Disease_42.jpg: 640x640 1 leaf, 158.3ms\n",
      "image 56/63 D:\\Suvan's Projects\\FYP\\BBox_Split\\images\\test\\No_Disease_47.jpg: 640x640 1 leaf, 152.3ms\n",
      "image 57/63 D:\\Suvan's Projects\\FYP\\BBox_Split\\images\\test\\No_Disease_52.jpg: 640x640 1 leaf, 154.2ms\n",
      "image 58/63 D:\\Suvan's Projects\\FYP\\BBox_Split\\images\\test\\No_Disease_54.jpg: 640x640 1 leaf, 157.0ms\n",
      "image 59/63 D:\\Suvan's Projects\\FYP\\BBox_Split\\images\\test\\No_Disease_62.jpg: 640x640 1 leaf, 155.3ms\n",
      "image 60/63 D:\\Suvan's Projects\\FYP\\BBox_Split\\images\\test\\No_Disease_63.jpg: 640x640 1 leaf, 154.5ms\n",
      "image 61/63 D:\\Suvan's Projects\\FYP\\BBox_Split\\images\\test\\No_Disease_74.jpg: 640x640 1 leaf, 152.5ms\n",
      "image 62/63 D:\\Suvan's Projects\\FYP\\BBox_Split\\images\\test\\No_Disease_94.jpg: 640x640 1 leaf, 158.7ms\n",
      "image 63/63 D:\\Suvan's Projects\\FYP\\BBox_Split\\images\\test\\No_Disease_99.jpg: 640x640 1 leaf, 159.9ms\n",
      "Speed: 2.9ms preprocess, 158.8ms inference, 1.0ms postprocess per image at shape (1, 3, 640, 640)\n",
      "Results saved to \u001B[1mruns\\test_inference\\leaf_test\u001B[0m\n",
      "63 labels saved to runs\\test_inference\\leaf_test\\labels\n"
     ]
    }
   ],
   "execution_count": null
  },
  {
   "metadata": {
    "id": "c72eda72b171ad8e"
   },
   "cell_type": "markdown",
   "source": "## Testing Model with Real Life Data\n",
   "id": "c72eda72b171ad8e"
  },
  {
   "metadata": {
    "ExecuteTime": {
     "end_time": "2025-04-18T03:13:09.800782Z",
     "start_time": "2025-04-18T03:13:09.332365Z"
    },
    "id": "3128fca58643d942",
    "outputId": "3b45c558-92fc-40bd-fe69-85e1eb42dd46"
   },
   "cell_type": "code",
   "source": [
    "from ultralytics import YOLO\n",
    "import cv2\n",
    "import os\n",
    "\n",
    "model = YOLO('runs/detect/leaf-detector2/weights/best.pt')\n",
    "image_path = r\"C:\\Users\\Travi\\Downloads\\WhatsApp Image 2025-04-10 at 11.39.27 AM (1).jpeg\"\n",
    "\n",
    "image = cv2.imread(image_path)\n",
    "\n",
    "# Running the tests\n",
    "results = model.predict(source=image_path, conf=0.2, save=False, verbose=False)\n",
    "\n",
    "# Get results from the first image (only one image used)\n",
    "boxes = results[0].boxes\n",
    "\n",
    "# Extract all bounding boxes and compute their areas\n",
    "if boxes is not None and len(boxes) > 0:\n",
    "    largest_box = None\n",
    "    max_area = 0\n",
    "\n",
    "    for box in boxes:\n",
    "        x1, y1, x2, y2 = map(int, box.xyxy[0])\n",
    "        area = (x2 - x1) * (y2 - y1)\n",
    "\n",
    "        if area > max_area:\n",
    "            max_area = area\n",
    "            largest_box = (x1, y1, x2, y2)\n",
    "\n",
    "    if largest_box:\n",
    "        x1, y1, x2, y2 = largest_box\n",
    "\n",
    "        # Draw the bounding box on the image\n",
    "        cv2.rectangle(image, (x1, y1), (x2, y2), (0, 255, 0), 2)  # Green box, thickness 2\n",
    "\n",
    "        label = f\"Confidence: {box.conf[0]:.2f}\"\n",
    "        cv2.putText(image, label, (x1, y1 - 10), cv2.FONT_HERSHEY_SIMPLEX, 0.6, (0, 255, 0), 2)\n",
    "\n",
    "        # Save the image with the bounding box\n",
    "        save_path = 'output_with_largest_bbox1.jpg'  # Change this to your desired output path\n",
    "        cv2.imwrite(save_path, image)\n",
    "\n",
    "        print(f\"[INFO] Image saved at: {save_path}\")\n",
    "    else:\n",
    "        print(\"[WARNING] No valid bounding boxes found.\")\n",
    "else:\n",
    "    print(\"[WARNING] No objects detected.\")\n"
   ],
   "id": "3128fca58643d942",
   "outputs": [
    {
     "name": "stdout",
     "output_type": "stream",
     "text": [
      "[INFO] Image saved at: output_with_largest_bbox1.jpg\n"
     ]
    }
   ],
   "execution_count": null
  },
  {
   "cell_type": "markdown",
   "source": [
    "## Converting YOLOv8 model to TFLite format"
   ],
   "metadata": {
    "id": "1RVargRd1ePN"
   },
   "id": "1RVargRd1ePN"
  },
  {
   "cell_type": "code",
   "source": [
    "from google.colab import drive\n",
    "drive.mount('/content/drive')"
   ],
   "metadata": {
    "colab": {
     "base_uri": "https://localhost:8080/"
    },
    "id": "wbZrN_UwxXZn",
    "outputId": "26b301ec-e105-41dc-de41-30c5f4516e6b"
   },
   "id": "wbZrN_UwxXZn",
   "execution_count": 1,
   "outputs": [
    {
     "output_type": "stream",
     "name": "stdout",
     "text": [
      "Mounted at /content/drive\n"
     ]
    }
   ]
  },
  {
   "cell_type": "code",
   "source": [
    "pip install ultralytics"
   ],
   "metadata": {
    "colab": {
     "base_uri": "https://localhost:8080/"
    },
    "id": "qAkpLHGgxH2e",
    "outputId": "0d97e7e4-acbb-4882-f3a8-e0e0485238b8"
   },
   "id": "qAkpLHGgxH2e",
   "execution_count": 2,
   "outputs": [
    {
     "output_type": "stream",
     "name": "stdout",
     "text": [
      "Collecting ultralytics\n",
      "  Downloading ultralytics-8.3.111-py3-none-any.whl.metadata (37 kB)\n",
      "Requirement already satisfied: numpy<=2.1.1,>=1.23.0 in /usr/local/lib/python3.11/dist-packages (from ultralytics) (2.0.2)\n",
      "Requirement already satisfied: matplotlib>=3.3.0 in /usr/local/lib/python3.11/dist-packages (from ultralytics) (3.10.0)\n",
      "Requirement already satisfied: opencv-python>=4.6.0 in /usr/local/lib/python3.11/dist-packages (from ultralytics) (4.11.0.86)\n",
      "Requirement already satisfied: pillow>=7.1.2 in /usr/local/lib/python3.11/dist-packages (from ultralytics) (11.1.0)\n",
      "Requirement already satisfied: pyyaml>=5.3.1 in /usr/local/lib/python3.11/dist-packages (from ultralytics) (6.0.2)\n",
      "Requirement already satisfied: requests>=2.23.0 in /usr/local/lib/python3.11/dist-packages (from ultralytics) (2.32.3)\n",
      "Requirement already satisfied: scipy>=1.4.1 in /usr/local/lib/python3.11/dist-packages (from ultralytics) (1.14.1)\n",
      "Requirement already satisfied: torch>=1.8.0 in /usr/local/lib/python3.11/dist-packages (from ultralytics) (2.6.0+cu124)\n",
      "Requirement already satisfied: torchvision>=0.9.0 in /usr/local/lib/python3.11/dist-packages (from ultralytics) (0.21.0+cu124)\n",
      "Requirement already satisfied: tqdm>=4.64.0 in /usr/local/lib/python3.11/dist-packages (from ultralytics) (4.67.1)\n",
      "Requirement already satisfied: psutil in /usr/local/lib/python3.11/dist-packages (from ultralytics) (5.9.5)\n",
      "Requirement already satisfied: py-cpuinfo in /usr/local/lib/python3.11/dist-packages (from ultralytics) (9.0.0)\n",
      "Requirement already satisfied: pandas>=1.1.4 in /usr/local/lib/python3.11/dist-packages (from ultralytics) (2.2.2)\n",
      "Requirement already satisfied: seaborn>=0.11.0 in /usr/local/lib/python3.11/dist-packages (from ultralytics) (0.13.2)\n",
      "Collecting ultralytics-thop>=2.0.0 (from ultralytics)\n",
      "  Downloading ultralytics_thop-2.0.14-py3-none-any.whl.metadata (9.4 kB)\n",
      "Requirement already satisfied: contourpy>=1.0.1 in /usr/local/lib/python3.11/dist-packages (from matplotlib>=3.3.0->ultralytics) (1.3.1)\n",
      "Requirement already satisfied: cycler>=0.10 in /usr/local/lib/python3.11/dist-packages (from matplotlib>=3.3.0->ultralytics) (0.12.1)\n",
      "Requirement already satisfied: fonttools>=4.22.0 in /usr/local/lib/python3.11/dist-packages (from matplotlib>=3.3.0->ultralytics) (4.57.0)\n",
      "Requirement already satisfied: kiwisolver>=1.3.1 in /usr/local/lib/python3.11/dist-packages (from matplotlib>=3.3.0->ultralytics) (1.4.8)\n",
      "Requirement already satisfied: packaging>=20.0 in /usr/local/lib/python3.11/dist-packages (from matplotlib>=3.3.0->ultralytics) (24.2)\n",
      "Requirement already satisfied: pyparsing>=2.3.1 in /usr/local/lib/python3.11/dist-packages (from matplotlib>=3.3.0->ultralytics) (3.2.3)\n",
      "Requirement already satisfied: python-dateutil>=2.7 in /usr/local/lib/python3.11/dist-packages (from matplotlib>=3.3.0->ultralytics) (2.8.2)\n",
      "Requirement already satisfied: pytz>=2020.1 in /usr/local/lib/python3.11/dist-packages (from pandas>=1.1.4->ultralytics) (2025.2)\n",
      "Requirement already satisfied: tzdata>=2022.7 in /usr/local/lib/python3.11/dist-packages (from pandas>=1.1.4->ultralytics) (2025.2)\n",
      "Requirement already satisfied: charset-normalizer<4,>=2 in /usr/local/lib/python3.11/dist-packages (from requests>=2.23.0->ultralytics) (3.4.1)\n",
      "Requirement already satisfied: idna<4,>=2.5 in /usr/local/lib/python3.11/dist-packages (from requests>=2.23.0->ultralytics) (3.10)\n",
      "Requirement already satisfied: urllib3<3,>=1.21.1 in /usr/local/lib/python3.11/dist-packages (from requests>=2.23.0->ultralytics) (2.3.0)\n",
      "Requirement already satisfied: certifi>=2017.4.17 in /usr/local/lib/python3.11/dist-packages (from requests>=2.23.0->ultralytics) (2025.1.31)\n",
      "Requirement already satisfied: filelock in /usr/local/lib/python3.11/dist-packages (from torch>=1.8.0->ultralytics) (3.18.0)\n",
      "Requirement already satisfied: typing-extensions>=4.10.0 in /usr/local/lib/python3.11/dist-packages (from torch>=1.8.0->ultralytics) (4.13.1)\n",
      "Requirement already satisfied: networkx in /usr/local/lib/python3.11/dist-packages (from torch>=1.8.0->ultralytics) (3.4.2)\n",
      "Requirement already satisfied: jinja2 in /usr/local/lib/python3.11/dist-packages (from torch>=1.8.0->ultralytics) (3.1.6)\n",
      "Requirement already satisfied: fsspec in /usr/local/lib/python3.11/dist-packages (from torch>=1.8.0->ultralytics) (2025.3.2)\n",
      "Collecting nvidia-cuda-nvrtc-cu12==12.4.127 (from torch>=1.8.0->ultralytics)\n",
      "  Downloading nvidia_cuda_nvrtc_cu12-12.4.127-py3-none-manylinux2014_x86_64.whl.metadata (1.5 kB)\n",
      "Collecting nvidia-cuda-runtime-cu12==12.4.127 (from torch>=1.8.0->ultralytics)\n",
      "  Downloading nvidia_cuda_runtime_cu12-12.4.127-py3-none-manylinux2014_x86_64.whl.metadata (1.5 kB)\n",
      "Collecting nvidia-cuda-cupti-cu12==12.4.127 (from torch>=1.8.0->ultralytics)\n",
      "  Downloading nvidia_cuda_cupti_cu12-12.4.127-py3-none-manylinux2014_x86_64.whl.metadata (1.6 kB)\n",
      "Collecting nvidia-cudnn-cu12==9.1.0.70 (from torch>=1.8.0->ultralytics)\n",
      "  Downloading nvidia_cudnn_cu12-9.1.0.70-py3-none-manylinux2014_x86_64.whl.metadata (1.6 kB)\n",
      "Collecting nvidia-cublas-cu12==12.4.5.8 (from torch>=1.8.0->ultralytics)\n",
      "  Downloading nvidia_cublas_cu12-12.4.5.8-py3-none-manylinux2014_x86_64.whl.metadata (1.5 kB)\n",
      "Collecting nvidia-cufft-cu12==11.2.1.3 (from torch>=1.8.0->ultralytics)\n",
      "  Downloading nvidia_cufft_cu12-11.2.1.3-py3-none-manylinux2014_x86_64.whl.metadata (1.5 kB)\n",
      "Collecting nvidia-curand-cu12==10.3.5.147 (from torch>=1.8.0->ultralytics)\n",
      "  Downloading nvidia_curand_cu12-10.3.5.147-py3-none-manylinux2014_x86_64.whl.metadata (1.5 kB)\n",
      "Collecting nvidia-cusolver-cu12==11.6.1.9 (from torch>=1.8.0->ultralytics)\n",
      "  Downloading nvidia_cusolver_cu12-11.6.1.9-py3-none-manylinux2014_x86_64.whl.metadata (1.6 kB)\n",
      "Collecting nvidia-cusparse-cu12==12.3.1.170 (from torch>=1.8.0->ultralytics)\n",
      "  Downloading nvidia_cusparse_cu12-12.3.1.170-py3-none-manylinux2014_x86_64.whl.metadata (1.6 kB)\n",
      "Requirement already satisfied: nvidia-cusparselt-cu12==0.6.2 in /usr/local/lib/python3.11/dist-packages (from torch>=1.8.0->ultralytics) (0.6.2)\n",
      "Requirement already satisfied: nvidia-nccl-cu12==2.21.5 in /usr/local/lib/python3.11/dist-packages (from torch>=1.8.0->ultralytics) (2.21.5)\n",
      "Requirement already satisfied: nvidia-nvtx-cu12==12.4.127 in /usr/local/lib/python3.11/dist-packages (from torch>=1.8.0->ultralytics) (12.4.127)\n",
      "Collecting nvidia-nvjitlink-cu12==12.4.127 (from torch>=1.8.0->ultralytics)\n",
      "  Downloading nvidia_nvjitlink_cu12-12.4.127-py3-none-manylinux2014_x86_64.whl.metadata (1.5 kB)\n",
      "Requirement already satisfied: triton==3.2.0 in /usr/local/lib/python3.11/dist-packages (from torch>=1.8.0->ultralytics) (3.2.0)\n",
      "Requirement already satisfied: sympy==1.13.1 in /usr/local/lib/python3.11/dist-packages (from torch>=1.8.0->ultralytics) (1.13.1)\n",
      "Requirement already satisfied: mpmath<1.4,>=1.1.0 in /usr/local/lib/python3.11/dist-packages (from sympy==1.13.1->torch>=1.8.0->ultralytics) (1.3.0)\n",
      "Requirement already satisfied: six>=1.5 in /usr/local/lib/python3.11/dist-packages (from python-dateutil>=2.7->matplotlib>=3.3.0->ultralytics) (1.17.0)\n",
      "Requirement already satisfied: MarkupSafe>=2.0 in /usr/local/lib/python3.11/dist-packages (from jinja2->torch>=1.8.0->ultralytics) (3.0.2)\n",
      "Downloading ultralytics-8.3.111-py3-none-any.whl (978 kB)\n",
      "\u001B[2K   \u001B[90m━━━━━━━━━━━━━━━━━━━━━━━━━━━━━━━━━━━━━━━━\u001B[0m \u001B[32m978.8/978.8 kB\u001B[0m \u001B[31m38.7 MB/s\u001B[0m eta \u001B[36m0:00:00\u001B[0m\n",
      "\u001B[?25hDownloading nvidia_cublas_cu12-12.4.5.8-py3-none-manylinux2014_x86_64.whl (363.4 MB)\n",
      "\u001B[2K   \u001B[90m━━━━━━━━━━━━━━━━━━━━━━━━━━━━━━━━━━━━━━━━\u001B[0m \u001B[32m363.4/363.4 MB\u001B[0m \u001B[31m3.8 MB/s\u001B[0m eta \u001B[36m0:00:00\u001B[0m\n",
      "\u001B[?25hDownloading nvidia_cuda_cupti_cu12-12.4.127-py3-none-manylinux2014_x86_64.whl (13.8 MB)\n",
      "\u001B[2K   \u001B[90m━━━━━━━━━━━━━━━━━━━━━━━━━━━━━━━━━━━━━━━━\u001B[0m \u001B[32m13.8/13.8 MB\u001B[0m \u001B[31m122.1 MB/s\u001B[0m eta \u001B[36m0:00:00\u001B[0m\n",
      "\u001B[?25hDownloading nvidia_cuda_nvrtc_cu12-12.4.127-py3-none-manylinux2014_x86_64.whl (24.6 MB)\n",
      "\u001B[2K   \u001B[90m━━━━━━━━━━━━━━━━━━━━━━━━━━━━━━━━━━━━━━━━\u001B[0m \u001B[32m24.6/24.6 MB\u001B[0m \u001B[31m90.5 MB/s\u001B[0m eta \u001B[36m0:00:00\u001B[0m\n",
      "\u001B[?25hDownloading nvidia_cuda_runtime_cu12-12.4.127-py3-none-manylinux2014_x86_64.whl (883 kB)\n",
      "\u001B[2K   \u001B[90m━━━━━━━━━━━━━━━━━━━━━━━━━━━━━━━━━━━━━━━━\u001B[0m \u001B[32m883.7/883.7 kB\u001B[0m \u001B[31m59.5 MB/s\u001B[0m eta \u001B[36m0:00:00\u001B[0m\n",
      "\u001B[?25hDownloading nvidia_cudnn_cu12-9.1.0.70-py3-none-manylinux2014_x86_64.whl (664.8 MB)\n",
      "\u001B[2K   \u001B[90m━━━━━━━━━━━━━━━━━━━━━━━━━━━━━━━━━━━━━━━━\u001B[0m \u001B[32m664.8/664.8 MB\u001B[0m \u001B[31m2.9 MB/s\u001B[0m eta \u001B[36m0:00:00\u001B[0m\n",
      "\u001B[?25hDownloading nvidia_cufft_cu12-11.2.1.3-py3-none-manylinux2014_x86_64.whl (211.5 MB)\n",
      "\u001B[2K   \u001B[90m━━━━━━━━━━━━━━━━━━━━━━━━━━━━━━━━━━━━━━━━\u001B[0m \u001B[32m211.5/211.5 MB\u001B[0m \u001B[31m5.0 MB/s\u001B[0m eta \u001B[36m0:00:00\u001B[0m\n",
      "\u001B[?25hDownloading nvidia_curand_cu12-10.3.5.147-py3-none-manylinux2014_x86_64.whl (56.3 MB)\n",
      "\u001B[2K   \u001B[90m━━━━━━━━━━━━━━━━━━━━━━━━━━━━━━━━━━━━━━━━\u001B[0m \u001B[32m56.3/56.3 MB\u001B[0m \u001B[31m10.7 MB/s\u001B[0m eta \u001B[36m0:00:00\u001B[0m\n",
      "\u001B[?25hDownloading nvidia_cusolver_cu12-11.6.1.9-py3-none-manylinux2014_x86_64.whl (127.9 MB)\n",
      "\u001B[2K   \u001B[90m━━━━━━━━━━━━━━━━━━━━━━━━━━━━━━━━━━━━━━━━\u001B[0m \u001B[32m127.9/127.9 MB\u001B[0m \u001B[31m8.7 MB/s\u001B[0m eta \u001B[36m0:00:00\u001B[0m\n",
      "\u001B[?25hDownloading nvidia_cusparse_cu12-12.3.1.170-py3-none-manylinux2014_x86_64.whl (207.5 MB)\n",
      "\u001B[2K   \u001B[90m━━━━━━━━━━━━━━━━━━━━━━━━━━━━━━━━━━━━━━━━\u001B[0m \u001B[32m207.5/207.5 MB\u001B[0m \u001B[31m4.7 MB/s\u001B[0m eta \u001B[36m0:00:00\u001B[0m\n",
      "\u001B[?25hDownloading nvidia_nvjitlink_cu12-12.4.127-py3-none-manylinux2014_x86_64.whl (21.1 MB)\n",
      "\u001B[2K   \u001B[90m━━━━━━━━━━━━━━━━━━━━━━━━━━━━━━━━━━━━━━━━\u001B[0m \u001B[32m21.1/21.1 MB\u001B[0m \u001B[31m36.9 MB/s\u001B[0m eta \u001B[36m0:00:00\u001B[0m\n",
      "\u001B[?25hDownloading ultralytics_thop-2.0.14-py3-none-any.whl (26 kB)\n",
      "Installing collected packages: nvidia-nvjitlink-cu12, nvidia-curand-cu12, nvidia-cufft-cu12, nvidia-cuda-runtime-cu12, nvidia-cuda-nvrtc-cu12, nvidia-cuda-cupti-cu12, nvidia-cublas-cu12, nvidia-cusparse-cu12, nvidia-cudnn-cu12, nvidia-cusolver-cu12, ultralytics-thop, ultralytics\n",
      "  Attempting uninstall: nvidia-nvjitlink-cu12\n",
      "    Found existing installation: nvidia-nvjitlink-cu12 12.5.82\n",
      "    Uninstalling nvidia-nvjitlink-cu12-12.5.82:\n",
      "      Successfully uninstalled nvidia-nvjitlink-cu12-12.5.82\n",
      "  Attempting uninstall: nvidia-curand-cu12\n",
      "    Found existing installation: nvidia-curand-cu12 10.3.6.82\n",
      "    Uninstalling nvidia-curand-cu12-10.3.6.82:\n",
      "      Successfully uninstalled nvidia-curand-cu12-10.3.6.82\n",
      "  Attempting uninstall: nvidia-cufft-cu12\n",
      "    Found existing installation: nvidia-cufft-cu12 11.2.3.61\n",
      "    Uninstalling nvidia-cufft-cu12-11.2.3.61:\n",
      "      Successfully uninstalled nvidia-cufft-cu12-11.2.3.61\n",
      "  Attempting uninstall: nvidia-cuda-runtime-cu12\n",
      "    Found existing installation: nvidia-cuda-runtime-cu12 12.5.82\n",
      "    Uninstalling nvidia-cuda-runtime-cu12-12.5.82:\n",
      "      Successfully uninstalled nvidia-cuda-runtime-cu12-12.5.82\n",
      "  Attempting uninstall: nvidia-cuda-nvrtc-cu12\n",
      "    Found existing installation: nvidia-cuda-nvrtc-cu12 12.5.82\n",
      "    Uninstalling nvidia-cuda-nvrtc-cu12-12.5.82:\n",
      "      Successfully uninstalled nvidia-cuda-nvrtc-cu12-12.5.82\n",
      "  Attempting uninstall: nvidia-cuda-cupti-cu12\n",
      "    Found existing installation: nvidia-cuda-cupti-cu12 12.5.82\n",
      "    Uninstalling nvidia-cuda-cupti-cu12-12.5.82:\n",
      "      Successfully uninstalled nvidia-cuda-cupti-cu12-12.5.82\n",
      "  Attempting uninstall: nvidia-cublas-cu12\n",
      "    Found existing installation: nvidia-cublas-cu12 12.5.3.2\n",
      "    Uninstalling nvidia-cublas-cu12-12.5.3.2:\n",
      "      Successfully uninstalled nvidia-cublas-cu12-12.5.3.2\n",
      "  Attempting uninstall: nvidia-cusparse-cu12\n",
      "    Found existing installation: nvidia-cusparse-cu12 12.5.1.3\n",
      "    Uninstalling nvidia-cusparse-cu12-12.5.1.3:\n",
      "      Successfully uninstalled nvidia-cusparse-cu12-12.5.1.3\n",
      "  Attempting uninstall: nvidia-cudnn-cu12\n",
      "    Found existing installation: nvidia-cudnn-cu12 9.3.0.75\n",
      "    Uninstalling nvidia-cudnn-cu12-9.3.0.75:\n",
      "      Successfully uninstalled nvidia-cudnn-cu12-9.3.0.75\n",
      "  Attempting uninstall: nvidia-cusolver-cu12\n",
      "    Found existing installation: nvidia-cusolver-cu12 11.6.3.83\n",
      "    Uninstalling nvidia-cusolver-cu12-11.6.3.83:\n",
      "      Successfully uninstalled nvidia-cusolver-cu12-11.6.3.83\n",
      "Successfully installed nvidia-cublas-cu12-12.4.5.8 nvidia-cuda-cupti-cu12-12.4.127 nvidia-cuda-nvrtc-cu12-12.4.127 nvidia-cuda-runtime-cu12-12.4.127 nvidia-cudnn-cu12-9.1.0.70 nvidia-cufft-cu12-11.2.1.3 nvidia-curand-cu12-10.3.5.147 nvidia-cusolver-cu12-11.6.1.9 nvidia-cusparse-cu12-12.3.1.170 nvidia-nvjitlink-cu12-12.4.127 ultralytics-8.3.111 ultralytics-thop-2.0.14\n"
     ]
    }
   ]
  },
  {
   "cell_type": "code",
   "source": [
    "from ultralytics import YOLO\n",
    "\n",
    "model = YOLO('/content/drive/MyDrive/Colab Notebooks/YOLOv8_best.pt')\n",
    "model.export(format = 'tflite')"
   ],
   "metadata": {
    "colab": {
     "base_uri": "https://localhost:8080/",
     "height": 1000
    },
    "id": "yhp2T7A0xphN",
    "outputId": "1a40e476-ebf2-40f5-ba61-0b2bd3569098"
   },
   "id": "yhp2T7A0xphN",
   "execution_count": 4,
   "outputs": [
    {
     "output_type": "stream",
     "name": "stdout",
     "text": [
      "Ultralytics 8.3.111 🚀 Python-3.11.12 torch-2.6.0+cu124 CPU (Intel Xeon 2.00GHz)\n",
      "Model summary (fused): 72 layers, 11,125,971 parameters, 0 gradients, 28.4 GFLOPs\n",
      "\n",
      "\u001B[34m\u001B[1mPyTorch:\u001B[0m starting from '/content/drive/MyDrive/Colab Notebooks/YOLOv8_best.pt' with input shape (1, 3, 640, 640) BCHW and output shape(s) (1, 5, 8400) (21.5 MB)\n",
      "\u001B[31m\u001B[1mrequirements:\u001B[0m Ultralytics requirements ['sng4onnx>=1.0.1', 'onnx_graphsurgeon>=0.3.26', 'ai-edge-litert>=1.2.0', 'onnx>=1.12.0', 'onnx2tf>=1.26.3', 'onnxslim>=0.1.31', 'tflite_support', 'onnxruntime'] not found, attempting AutoUpdate...\n",
      "Looking in indexes: https://pypi.org/simple, https://pypi.ngc.nvidia.com\n",
      "Collecting sng4onnx>=1.0.1\n",
      "  Downloading sng4onnx-1.0.4-py3-none-any.whl.metadata (4.6 kB)\n",
      "Collecting onnx_graphsurgeon>=0.3.26\n",
      "  Downloading onnx_graphsurgeon-0.5.8-py2.py3-none-any.whl.metadata (8.2 kB)\n",
      "Collecting ai-edge-litert>=1.2.0\n",
      "  Downloading ai_edge_litert-1.2.0-cp311-cp311-manylinux_2_17_x86_64.whl.metadata (1.6 kB)\n",
      "Collecting onnx>=1.12.0\n",
      "  Downloading onnx-1.17.0-cp311-cp311-manylinux_2_17_x86_64.manylinux2014_x86_64.whl.metadata (16 kB)\n",
      "Collecting onnx2tf>=1.26.3\n",
      "  Downloading onnx2tf-1.27.2-py3-none-any.whl.metadata (147 kB)\n",
      "     ━━━━━━━━━━━━━━━━━━━━━━━━━━━━━━━━━━━━━━ 147.7/147.7 kB 21.0 MB/s eta 0:00:00\n",
      "Collecting onnxslim>=0.1.31\n",
      "  Downloading onnxslim-0.1.50-py3-none-any.whl.metadata (4.8 kB)\n",
      "Collecting tflite_support\n",
      "  Downloading tflite_support-0.4.4-cp311-cp311-manylinux2014_x86_64.whl.metadata (2.4 kB)\n",
      "Collecting onnxruntime\n",
      "  Downloading onnxruntime-1.21.1-cp311-cp311-manylinux_2_27_x86_64.manylinux_2_28_x86_64.whl.metadata (4.5 kB)\n",
      "Requirement already satisfied: numpy in /usr/local/lib/python3.11/dist-packages (from onnx_graphsurgeon>=0.3.26) (2.0.2)\n",
      "Requirement already satisfied: flatbuffers in /usr/local/lib/python3.11/dist-packages (from ai-edge-litert>=1.2.0) (25.2.10)\n",
      "Requirement already satisfied: protobuf>=3.20.2 in /usr/local/lib/python3.11/dist-packages (from onnx>=1.12.0) (5.29.4)\n",
      "Requirement already satisfied: sympy in /usr/local/lib/python3.11/dist-packages (from onnxslim>=0.1.31) (1.13.1)\n",
      "Requirement already satisfied: packaging in /usr/local/lib/python3.11/dist-packages (from onnxslim>=0.1.31) (24.2)\n",
      "Requirement already satisfied: absl-py>=0.7.0 in /usr/local/lib/python3.11/dist-packages (from tflite_support) (1.4.0)\n",
      "Collecting protobuf>=3.20.2 (from onnx>=1.12.0)\n",
      "  Downloading protobuf-3.20.3-py2.py3-none-any.whl.metadata (720 bytes)\n",
      "Collecting sounddevice>=0.4.4 (from tflite_support)\n",
      "  Downloading sounddevice-0.5.1-py3-none-any.whl.metadata (1.4 kB)\n",
      "Collecting pybind11>=2.6.0 (from tflite_support)\n",
      "  Downloading pybind11-2.13.6-py3-none-any.whl.metadata (9.5 kB)\n",
      "Collecting coloredlogs (from onnxruntime)\n",
      "  Downloading coloredlogs-15.0.1-py2.py3-none-any.whl.metadata (12 kB)\n",
      "Requirement already satisfied: CFFI>=1.0 in /usr/local/lib/python3.11/dist-packages (from sounddevice>=0.4.4->tflite_support) (1.17.1)\n",
      "Collecting humanfriendly>=9.1 (from coloredlogs->onnxruntime)\n",
      "  Downloading humanfriendly-10.0-py2.py3-none-any.whl.metadata (9.2 kB)\n",
      "Requirement already satisfied: mpmath<1.4,>=1.1.0 in /usr/local/lib/python3.11/dist-packages (from sympy->onnxslim>=0.1.31) (1.3.0)\n",
      "Requirement already satisfied: pycparser in /usr/local/lib/python3.11/dist-packages (from CFFI>=1.0->sounddevice>=0.4.4->tflite_support) (2.22)\n",
      "Downloading sng4onnx-1.0.4-py3-none-any.whl (5.9 kB)\n",
      "Downloading onnx_graphsurgeon-0.5.8-py2.py3-none-any.whl (57 kB)\n",
      "   ━━━━━━━━━━━━━━━━━━━━━━━━━━━━━━━━━━━━━━━━ 57.9/57.9 kB 294.3 MB/s eta 0:00:00\n",
      "Downloading ai_edge_litert-1.2.0-cp311-cp311-manylinux_2_17_x86_64.whl (3.5 MB)\n",
      "   ━━━━━━━━━━━━━━━━━━━━━━━━━━━━━━━━━━━━━━━━ 3.5/3.5 MB 182.7 MB/s eta 0:00:00\n",
      "Downloading onnx-1.17.0-cp311-cp311-manylinux_2_17_x86_64.manylinux2014_x86_64.whl (16.0 MB)\n",
      "   ━━━━━━━━━━━━━━━━━━━━━━━━━━━━━━━━━━━━━━━━ 16.0/16.0 MB 319.1 MB/s eta 0:00:00\n",
      "Downloading onnx2tf-1.27.2-py3-none-any.whl (446 kB)\n",
      "   ━━━━━━━━━━━━━━━━━━━━━━━━━━━━━━━━━━━━━━━ 446.6/446.6 kB 340.4 MB/s eta 0:00:00\n",
      "Downloading onnxslim-0.1.50-py3-none-any.whl (144 kB)\n",
      "   ━━━━━━━━━━━━━━━━━━━━━━━━━━━━━━━━━━━━━━━ 144.5/144.5 kB 382.4 MB/s eta 0:00:00\n",
      "Downloading tflite_support-0.4.4-cp311-cp311-manylinux2014_x86_64.whl (60.8 MB)\n",
      "   ━━━━━━━━━━━━━━━━━━━━━━━━━━━━━━━━━━━━━━━━ 60.8/60.8 MB 269.0 MB/s eta 0:00:00\n",
      "Downloading onnxruntime-1.21.1-cp311-cp311-manylinux_2_27_x86_64.manylinux_2_28_x86_64.whl (16.0 MB)\n",
      "   ━━━━━━━━━━━━━━━━━━━━━━━━━━━━━━━━━━━━━━━━ 16.0/16.0 MB 224.3 MB/s eta 0:00:00\n",
      "Downloading protobuf-3.20.3-py2.py3-none-any.whl (162 kB)\n",
      "   ━━━━━━━━━━━━━━━━━━━━━━━━━━━━━━━━━━━━━━━ 162.1/162.1 kB 369.6 MB/s eta 0:00:00\n",
      "Downloading pybind11-2.13.6-py3-none-any.whl (243 kB)\n",
      "   ━━━━━━━━━━━━━━━━━━━━━━━━━━━━━━━━━━━━━━━ 243.3/243.3 kB 368.5 MB/s eta 0:00:00\n",
      "Downloading sounddevice-0.5.1-py3-none-any.whl (32 kB)\n",
      "Downloading coloredlogs-15.0.1-py2.py3-none-any.whl (46 kB)\n",
      "   ━━━━━━━━━━━━━━━━━━━━━━━━━━━━━━━━━━━━━━━━ 46.0/46.0 kB 192.0 MB/s eta 0:00:00\n",
      "Downloading humanfriendly-10.0-py2.py3-none-any.whl (86 kB)\n",
      "   ━━━━━━━━━━━━━━━━━━━━━━━━━━━━━━━━━━━━━━━━ 86.8/86.8 kB 309.2 MB/s eta 0:00:00\n",
      "Installing collected packages: sng4onnx, pybind11, protobuf, onnx2tf, humanfriendly, ai-edge-litert, sounddevice, onnx, coloredlogs, tflite_support, onnxslim, onnxruntime, onnx_graphsurgeon\n",
      "  Attempting uninstall: protobuf\n",
      "    Found existing installation: protobuf 5.29.4\n",
      "    Uninstalling protobuf-5.29.4:\n",
      "      Successfully uninstalled protobuf-5.29.4\n",
      "Successfully installed ai-edge-litert-1.2.0 coloredlogs-15.0.1 humanfriendly-10.0 onnx-1.17.0 onnx2tf-1.27.2 onnx_graphsurgeon-0.5.8 onnxruntime-1.21.1 onnxslim-0.1.50 protobuf-3.20.3 pybind11-2.13.6 sng4onnx-1.0.4 sounddevice-0.5.1 tflite_support-0.4.4\n",
      "\n",
      "\u001B[31m\u001B[1mrequirements:\u001B[0m AutoUpdate success ✅ 27.6s, installed 8 packages: ['sng4onnx>=1.0.1', 'onnx_graphsurgeon>=0.3.26', 'ai-edge-litert>=1.2.0', 'onnx>=1.12.0', 'onnx2tf>=1.26.3', 'onnxslim>=0.1.31', 'tflite_support', 'onnxruntime']\n",
      "\u001B[31m\u001B[1mrequirements:\u001B[0m ⚠️ \u001B[1mRestart runtime or rerun command for updates to take effect\u001B[0m\n",
      "\n",
      "\n",
      "\u001B[34m\u001B[1mTensorFlow SavedModel:\u001B[0m starting export with tensorflow 2.18.0...\n",
      "Downloading https://github.com/ultralytics/assets/releases/download/v8.3.0/calibration_image_sample_data_20x128x128x3_float32.npy.zip to 'calibration_image_sample_data_20x128x128x3_float32.npy.zip'...\n"
     ]
    },
    {
     "output_type": "stream",
     "name": "stderr",
     "text": [
      "100%|██████████| 1.11M/1.11M [00:00<00:00, 60.0MB/s]\n",
      "Unzipping calibration_image_sample_data_20x128x128x3_float32.npy.zip to /content/calibration_image_sample_data_20x128x128x3_float32.npy...: 100%|██████████| 1/1 [00:00<00:00, 49.96file/s]\n"
     ]
    },
    {
     "output_type": "stream",
     "name": "stdout",
     "text": [
      "\n",
      "\u001B[34m\u001B[1mONNX:\u001B[0m starting export with onnx 1.17.0 opset 19...\n",
      "\u001B[34m\u001B[1mONNX:\u001B[0m slimming with onnxslim 0.1.50...\n",
      "\u001B[34m\u001B[1mONNX:\u001B[0m export success ✅ 2.4s, saved as '/content/drive/MyDrive/Colab Notebooks/YOLOv8_best.onnx' (42.8 MB)\n",
      "\u001B[34m\u001B[1mTensorFlow SavedModel:\u001B[0m starting TFLite export with onnx2tf 1.27.2...\n",
      "\u001B[34m\u001B[1mTensorFlow SavedModel:\u001B[0m export success ✅ 124.2s, saved as '/content/drive/MyDrive/Colab Notebooks/YOLOv8_best_saved_model' (107.5 MB)\n",
      "\n",
      "\u001B[34m\u001B[1mTensorFlow Lite:\u001B[0m starting export with tensorflow 2.18.0...\n",
      "\u001B[34m\u001B[1mTensorFlow Lite:\u001B[0m export success ✅ 0.0s, saved as '/content/drive/MyDrive/Colab Notebooks/YOLOv8_best_saved_model/YOLOv8_best_float32.tflite' (42.7 MB)\n",
      "\n",
      "Export complete (126.8s)\n",
      "Results saved to \u001B[1m/content/drive/MyDrive/Colab Notebooks\u001B[0m\n",
      "Predict:         yolo predict task=detect model=/content/drive/MyDrive/Colab Notebooks/YOLOv8_best_saved_model/YOLOv8_best_float32.tflite imgsz=640  \n",
      "Validate:        yolo val task=detect model=/content/drive/MyDrive/Colab Notebooks/YOLOv8_best_saved_model/YOLOv8_best_float32.tflite imgsz=640 data=D:/Suvan's Projects/FYP/BBox_Split/data.yaml  \n",
      "Visualize:       https://netron.app\n"
     ]
    },
    {
     "output_type": "execute_result",
     "data": {
      "text/plain": [
       "'/content/drive/MyDrive/Colab Notebooks/YOLOv8_best_saved_model/YOLOv8_best_float32.tflite'"
      ],
      "application/vnd.google.colaboratory.intrinsic+json": {
       "type": "string"
      }
     },
     "metadata": {},
     "execution_count": 4
    }
   ]
  }
 ],
 "metadata": {
  "kernelspec": {
   "display_name": "Python 3",
   "name": "python3"
  },
  "language_info": {
   "codemirror_mode": {
    "name": "ipython",
    "version": 2
   },
   "file_extension": ".py",
   "mimetype": "text/x-python",
   "name": "python",
   "nbconvert_exporter": "python",
   "pygments_lexer": "ipython2",
   "version": "2.7.6"
  },
  "colab": {
   "provenance": [],
   "gpuType": "T4"
  },
  "accelerator": "GPU"
 },
 "nbformat": 4,
 "nbformat_minor": 5
}
